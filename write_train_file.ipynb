{
 "cells": [
  {
   "cell_type": "code",
   "execution_count": null,
   "id": "a58034f6",
   "metadata": {},
   "outputs": [],
   "source": [
    "%%writefile train.py\n",
    "import numpy as np\n",
    "from sklearn.linear_model import LogisticRegression\n",
    "import joblib\n",
    "import os\n",
    "from azureml.core import Run\n",
    " \n",
    "parser = argparse.ArgumentParser(\"train\")\n",
    " \n",
    "parser.add_argument(\"--train\", type=str, help=\"train\")\n",
    "parser.add_argument(\"--test\", type=str, help=\"test\")\n",
    "parser.add_argument(\"--model\", type=str, help=\"model\")\n",
    " \n",
    "args = parser.parse_args()\n",
    "run = Run.get_context()\n",
    " \n",
    "run.log(\"Training start time\", str(datetime.datetime.now()))\n",
    " \n",
    "train=np.loadtxt(args.train+\"/train.txt\",dtype=float)\n",
    "test=np.loadtxt(args.test+\"/test.txt\",dtype=float)\n",
    " \n",
    "X_train=train[:,1:8]\n",
    "Y_train=train[:,0]\n",
    " \n",
    "X_test=test[:,1:8]\n",
    "Y_test=test[:,0]\n",
    " \n",
    "model = LogisticRegression(solver ='saga',penalty='elasticnet',l1_ratio = .5,max_iter=100000,tol=0.0000001)\n",
    "model.fit(X_train, Y_train)\n",
    "if not os.path.isdir(args.model):\n",
    "\tos.mkdir(args.model)\n",
    "joblib.dump(model,args.model+\"/model.joblib\") \n",
    "result = model.score(X_test, Y_test)\n",
    " \n",
    "run.log('Score :', result)\n",
    " \n",
    "run.log(\"Training end time\", str(datetime.datetime.now()))\n",
    "run.complete()"
   ]
  }
 ],
 "metadata": {
  "kernelspec": {
   "display_name": "Python 3",
   "language": "python",
   "name": "python3"
  },
  "language_info": {
   "codemirror_mode": {
    "name": "ipython",
    "version": 3
   },
   "file_extension": ".py",
   "mimetype": "text/x-python",
   "name": "python",
   "nbconvert_exporter": "python",
   "pygments_lexer": "ipython3",
   "version": "3.6.13"
  }
 },
 "nbformat": 4,
 "nbformat_minor": 5
}
