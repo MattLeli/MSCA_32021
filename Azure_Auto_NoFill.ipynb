{
 "cells": [
  {
   "cell_type": "code",
   "execution_count": 1,
   "id": "4d8a9217",
   "metadata": {},
   "outputs": [],
   "source": [
    "import azureml.core\n",
    "from azureml.core import Workspace, Experiment\n",
    "from azureml.core.compute import ComputeTarget, AmlCompute\n",
    "from azureml.core.compute_target import ComputeTargetException\n",
    "from azureml.core import Dataset\n",
    "from azureml.core.experiment import Experiment\n",
    "from azureml.train.automl import AutoMLConfig\n",
    "\n",
    "import pandas as pd\n",
    "import numpy as np\n",
    "\n",
    "from datetime import datetime\n",
    "from dateutil.relativedelta import relativedelta\n",
    "from pandas import read_csv\n",
    "from numpy import set_printoptions\n",
    "from sklearn.preprocessing import MinMaxScaler\n",
    "from sklearn.model_selection import train_test_split\n",
    "from sklearn.linear_model import LogisticRegression\n",
    "\n",
    "\n",
    "import logging\n",
    "import os"
   ]
  },
  {
   "cell_type": "code",
   "execution_count": 2,
   "id": "7fe20516",
   "metadata": {},
   "outputs": [],
   "source": [
    "titanic = pd.read_csv(\"./data/titanic.csv\")"
   ]
  },
  {
   "cell_type": "code",
   "execution_count": 3,
   "id": "4fd5d5dd",
   "metadata": {},
   "outputs": [
    {
     "data": {
      "text/html": [
       "<div>\n",
       "<style scoped>\n",
       "    .dataframe tbody tr th:only-of-type {\n",
       "        vertical-align: middle;\n",
       "    }\n",
       "\n",
       "    .dataframe tbody tr th {\n",
       "        vertical-align: top;\n",
       "    }\n",
       "\n",
       "    .dataframe thead th {\n",
       "        text-align: right;\n",
       "    }\n",
       "</style>\n",
       "<table border=\"1\" class=\"dataframe\">\n",
       "  <thead>\n",
       "    <tr style=\"text-align: right;\">\n",
       "      <th></th>\n",
       "      <th>PassengerId</th>\n",
       "      <th>Survived</th>\n",
       "      <th>Pclass</th>\n",
       "      <th>Name</th>\n",
       "      <th>Sex</th>\n",
       "      <th>Age</th>\n",
       "      <th>SibSp</th>\n",
       "      <th>Parch</th>\n",
       "      <th>Ticket</th>\n",
       "      <th>Fare</th>\n",
       "      <th>Cabin</th>\n",
       "      <th>Embarked</th>\n",
       "    </tr>\n",
       "  </thead>\n",
       "  <tbody>\n",
       "    <tr>\n",
       "      <th>0</th>\n",
       "      <td>1</td>\n",
       "      <td>0</td>\n",
       "      <td>3</td>\n",
       "      <td>Braund, Mr. Owen Harris</td>\n",
       "      <td>male</td>\n",
       "      <td>22.0</td>\n",
       "      <td>1</td>\n",
       "      <td>0</td>\n",
       "      <td>A/5 21171</td>\n",
       "      <td>7.2500</td>\n",
       "      <td>NaN</td>\n",
       "      <td>S</td>\n",
       "    </tr>\n",
       "    <tr>\n",
       "      <th>1</th>\n",
       "      <td>2</td>\n",
       "      <td>1</td>\n",
       "      <td>1</td>\n",
       "      <td>Cumings, Mrs. John Bradley (Florence Briggs Th...</td>\n",
       "      <td>female</td>\n",
       "      <td>38.0</td>\n",
       "      <td>1</td>\n",
       "      <td>0</td>\n",
       "      <td>PC 17599</td>\n",
       "      <td>71.2833</td>\n",
       "      <td>C85</td>\n",
       "      <td>C</td>\n",
       "    </tr>\n",
       "    <tr>\n",
       "      <th>2</th>\n",
       "      <td>3</td>\n",
       "      <td>1</td>\n",
       "      <td>3</td>\n",
       "      <td>Heikkinen, Miss. Laina</td>\n",
       "      <td>female</td>\n",
       "      <td>26.0</td>\n",
       "      <td>0</td>\n",
       "      <td>0</td>\n",
       "      <td>STON/O2. 3101282</td>\n",
       "      <td>7.9250</td>\n",
       "      <td>NaN</td>\n",
       "      <td>S</td>\n",
       "    </tr>\n",
       "    <tr>\n",
       "      <th>3</th>\n",
       "      <td>4</td>\n",
       "      <td>1</td>\n",
       "      <td>1</td>\n",
       "      <td>Futrelle, Mrs. Jacques Heath (Lily May Peel)</td>\n",
       "      <td>female</td>\n",
       "      <td>35.0</td>\n",
       "      <td>1</td>\n",
       "      <td>0</td>\n",
       "      <td>113803</td>\n",
       "      <td>53.1000</td>\n",
       "      <td>C123</td>\n",
       "      <td>S</td>\n",
       "    </tr>\n",
       "    <tr>\n",
       "      <th>4</th>\n",
       "      <td>5</td>\n",
       "      <td>0</td>\n",
       "      <td>3</td>\n",
       "      <td>Allen, Mr. William Henry</td>\n",
       "      <td>male</td>\n",
       "      <td>35.0</td>\n",
       "      <td>0</td>\n",
       "      <td>0</td>\n",
       "      <td>373450</td>\n",
       "      <td>8.0500</td>\n",
       "      <td>NaN</td>\n",
       "      <td>S</td>\n",
       "    </tr>\n",
       "  </tbody>\n",
       "</table>\n",
       "</div>"
      ],
      "text/plain": [
       "   PassengerId  Survived  Pclass  \\\n",
       "0            1         0       3   \n",
       "1            2         1       1   \n",
       "2            3         1       3   \n",
       "3            4         1       1   \n",
       "4            5         0       3   \n",
       "\n",
       "                                                Name     Sex   Age  SibSp  \\\n",
       "0                            Braund, Mr. Owen Harris    male  22.0      1   \n",
       "1  Cumings, Mrs. John Bradley (Florence Briggs Th...  female  38.0      1   \n",
       "2                             Heikkinen, Miss. Laina  female  26.0      0   \n",
       "3       Futrelle, Mrs. Jacques Heath (Lily May Peel)  female  35.0      1   \n",
       "4                           Allen, Mr. William Henry    male  35.0      0   \n",
       "\n",
       "   Parch            Ticket     Fare Cabin Embarked  \n",
       "0      0         A/5 21171   7.2500   NaN        S  \n",
       "1      0          PC 17599  71.2833   C85        C  \n",
       "2      0  STON/O2. 3101282   7.9250   NaN        S  \n",
       "3      0            113803  53.1000  C123        S  \n",
       "4      0            373450   8.0500   NaN        S  "
      ]
     },
     "execution_count": 3,
     "metadata": {},
     "output_type": "execute_result"
    }
   ],
   "source": [
    "titanic.head()"
   ]
  },
  {
   "cell_type": "code",
   "execution_count": 4,
   "id": "0df25dfa",
   "metadata": {},
   "outputs": [],
   "source": [
    "df = titanic.drop(['PassengerId', 'Name', 'Ticket', 'Cabin'], axis=1)\n",
    "\n",
    "df.to_csv(\"./data/prepped_titanic.csv\",index=False)"
   ]
  },
  {
   "cell_type": "code",
   "execution_count": 5,
   "id": "7d571b10",
   "metadata": {},
   "outputs": [
    {
     "data": {
      "text/html": [
       "<div>\n",
       "<style scoped>\n",
       "    .dataframe tbody tr th:only-of-type {\n",
       "        vertical-align: middle;\n",
       "    }\n",
       "\n",
       "    .dataframe tbody tr th {\n",
       "        vertical-align: top;\n",
       "    }\n",
       "\n",
       "    .dataframe thead th {\n",
       "        text-align: right;\n",
       "    }\n",
       "</style>\n",
       "<table border=\"1\" class=\"dataframe\">\n",
       "  <thead>\n",
       "    <tr style=\"text-align: right;\">\n",
       "      <th></th>\n",
       "      <th>Survived</th>\n",
       "      <th>Pclass</th>\n",
       "      <th>Sex</th>\n",
       "      <th>Age</th>\n",
       "      <th>SibSp</th>\n",
       "      <th>Parch</th>\n",
       "      <th>Fare</th>\n",
       "      <th>Embarked</th>\n",
       "    </tr>\n",
       "  </thead>\n",
       "  <tbody>\n",
       "    <tr>\n",
       "      <th>0</th>\n",
       "      <td>0</td>\n",
       "      <td>3</td>\n",
       "      <td>male</td>\n",
       "      <td>22.0</td>\n",
       "      <td>1</td>\n",
       "      <td>0</td>\n",
       "      <td>7.2500</td>\n",
       "      <td>S</td>\n",
       "    </tr>\n",
       "    <tr>\n",
       "      <th>1</th>\n",
       "      <td>1</td>\n",
       "      <td>1</td>\n",
       "      <td>female</td>\n",
       "      <td>38.0</td>\n",
       "      <td>1</td>\n",
       "      <td>0</td>\n",
       "      <td>71.2833</td>\n",
       "      <td>C</td>\n",
       "    </tr>\n",
       "    <tr>\n",
       "      <th>2</th>\n",
       "      <td>1</td>\n",
       "      <td>3</td>\n",
       "      <td>female</td>\n",
       "      <td>26.0</td>\n",
       "      <td>0</td>\n",
       "      <td>0</td>\n",
       "      <td>7.9250</td>\n",
       "      <td>S</td>\n",
       "    </tr>\n",
       "    <tr>\n",
       "      <th>3</th>\n",
       "      <td>1</td>\n",
       "      <td>1</td>\n",
       "      <td>female</td>\n",
       "      <td>35.0</td>\n",
       "      <td>1</td>\n",
       "      <td>0</td>\n",
       "      <td>53.1000</td>\n",
       "      <td>S</td>\n",
       "    </tr>\n",
       "    <tr>\n",
       "      <th>4</th>\n",
       "      <td>0</td>\n",
       "      <td>3</td>\n",
       "      <td>male</td>\n",
       "      <td>35.0</td>\n",
       "      <td>0</td>\n",
       "      <td>0</td>\n",
       "      <td>8.0500</td>\n",
       "      <td>S</td>\n",
       "    </tr>\n",
       "  </tbody>\n",
       "</table>\n",
       "</div>"
      ],
      "text/plain": [
       "   Survived  Pclass     Sex   Age  SibSp  Parch     Fare Embarked\n",
       "0         0       3    male  22.0      1      0   7.2500        S\n",
       "1         1       1  female  38.0      1      0  71.2833        C\n",
       "2         1       3  female  26.0      0      0   7.9250        S\n",
       "3         1       1  female  35.0      1      0  53.1000        S\n",
       "4         0       3    male  35.0      0      0   8.0500        S"
      ]
     },
     "execution_count": 5,
     "metadata": {},
     "output_type": "execute_result"
    }
   ],
   "source": [
    "df.head()"
   ]
  },
  {
   "cell_type": "code",
   "execution_count": 6,
   "id": "e4eef014",
   "metadata": {},
   "outputs": [],
   "source": [
    "ws = Workspace.from_config()"
   ]
  },
  {
   "cell_type": "code",
   "execution_count": 7,
   "id": "3ecc5e22",
   "metadata": {},
   "outputs": [
    {
     "name": "stdout",
     "output_type": "stream",
     "text": [
      "Uploading an estimated of 1 files\n",
      "Uploading ./data/prepped_titanic.csv\n",
      "Uploaded ./data/prepped_titanic.csv, 1 files out of an estimated total of 1\n",
      "Uploaded 1 files\n"
     ]
    }
   ],
   "source": [
    "def_blob_store = ws.get_default_datastore()\n",
    "def_blob_store.upload_files([\"./data/prepped_titanic.csv\"], target_path=\"data\", overwrite=True)\n",
    "titanic_data = Dataset.Tabular.from_delimited_files(def_blob_store.path('./data/prepped_titanic.csv'))\n",
    "titanic_data = titanic_data.register(ws, 'titanic_data',create_new_version=True)"
   ]
  },
  {
   "cell_type": "code",
   "execution_count": 8,
   "id": "0940e6aa",
   "metadata": {},
   "outputs": [
    {
     "name": "stdout",
     "output_type": "stream",
     "text": [
      "found existing compute target.\n",
      "Azure Machine Learning Compute attached\n"
     ]
    }
   ],
   "source": [
    "aml_compute_target = \"mdl-cluster\"\n",
    "try:\n",
    "    aml_compute = AmlCompute(ws, aml_compute_target)\n",
    "    print(\"found existing compute target.\")\n",
    "except ComputeTargetException:\n",
    "    print(\"creating new compute target\")\n",
    "    \n",
    "    provisioning_config = AmlCompute.provisioning_configuration(vm_size = \"STANDARD_D2_V2\",\n",
    "                                                                min_nodes = 0, \n",
    "                                                                max_nodes = 1)    \n",
    "    aml_compute = ComputeTarget.create(ws, aml_compute_target, provisioning_config)\n",
    "    aml_compute.wait_for_completion(show_output=True, min_node_count=None, timeout_in_minutes=20)\n",
    "    \n",
    "print(\"Azure Machine Learning Compute attached\")"
   ]
  },
  {
   "cell_type": "code",
   "execution_count": 9,
   "id": "f819ec40",
   "metadata": {},
   "outputs": [],
   "source": [
    "automl_settings = {\n",
    "    \"iteration_timeout_minutes\": 1,\n",
    "    \"iterations\": 25,\n",
    "    \"primary_metric\": 'accuracy',\n",
    "    \"featurization\": 'auto',\n",
    "    \"verbosity\": logging.INFO,\n",
    "    \"n_cross_validations\": 4\n",
    "}"
   ]
  },
  {
   "cell_type": "code",
   "execution_count": 10,
   "id": "c5bff6c4",
   "metadata": {},
   "outputs": [],
   "source": [
    "automl_config = AutoMLConfig(task = 'classification',\n",
    "                             path = './data',\n",
    "                             debug_log = 'automated_ml_errors.log',\n",
    "                             compute_target = aml_compute_target,\n",
    "                             training_data = titanic_data,\n",
    "                             enable_early_stopping = False,\n",
    "                             label_column_name = 'Survived',\n",
    "                             **automl_settings)"
   ]
  },
  {
   "cell_type": "code",
   "execution_count": 11,
   "id": "ac507abf",
   "metadata": {},
   "outputs": [
    {
     "name": "stdout",
     "output_type": "stream",
     "text": [
      "Submitting remote run.\n",
      "No run_configuration provided, running on mdl-cluster with default configuration\n",
      "Running on remote compute: mdl-cluster\n"
     ]
    },
    {
     "data": {
      "text/html": [
       "<table style=\"width:100%\"><tr><th>Experiment</th><th>Id</th><th>Type</th><th>Status</th><th>Details Page</th><th>Docs Page</th></tr><tr><td>titanic-experiment-auto-prepped</td><td>AutoML_f4dd21ab-369c-4c4a-b740-343964146698</td><td>automl</td><td>NotStarted</td><td><a href=\"https://ml.azure.com/runs/AutoML_f4dd21ab-369c-4c4a-b740-343964146698?wsid=/subscriptions/d674bf87-325c-409a-a63f-001d9725b99e/resourcegroups/mdl_ml_pipeline/workspaces/mdl_ml_ops&amp;tid=83b02c92-5f26-48ed-9e5b-6c2fca46a8e6\" target=\"_blank\" rel=\"noopener\">Link to Azure Machine Learning studio</a></td><td><a href=\"https://docs.microsoft.com/en-us/python/api/overview/azure/ml/intro?view=azure-ml-py\" target=\"_blank\" rel=\"noopener\">Link to Documentation</a></td></tr></table>"
      ],
      "text/plain": [
       "<IPython.core.display.HTML object>"
      ]
     },
     "metadata": {},
     "output_type": "display_data"
    },
    {
     "name": "stdout",
     "output_type": "stream",
     "text": [
      "\n",
      "Current status: FeaturesGeneration. Generating features for the dataset.\n",
      "Current status: DatasetCrossValidationSplit. Generating individually featurized CV splits.\n",
      "Current status: ModelSelection. Beginning model selection.\n",
      "\n",
      "****************************************************************************************************\n",
      "DATA GUARDRAILS: \n",
      "\n",
      "TYPE:         Class balancing detection\n",
      "STATUS:       PASSED\n",
      "DESCRIPTION:  Your inputs were analyzed, and all classes are balanced in your training data.\n",
      "              Learn more about imbalanced data: https://aka.ms/AutomatedMLImbalancedData\n",
      "\n",
      "****************************************************************************************************\n",
      "\n",
      "TYPE:         Missing feature values imputation\n",
      "STATUS:       DONE\n",
      "DESCRIPTION:  If the missing values are expected, let the run complete. Otherwise cancel the current run and use a script to customize the handling of missing feature values that may be more appropriate based on the data type and business requirement.\n",
      "              Learn more about missing value imputation: https://aka.ms/AutomatedMLFeaturization\n",
      "DETAILS:      \n",
      "+---------------------------------+---------------------------------+---------------------------------+\n",
      "|Column name                      |Missing value count              |Imputation type                  |\n",
      "+=================================+=================================+=================================+\n",
      "|Age                              |263                              |mean                             |\n",
      "|Fare                             |1                                |mean                             |\n",
      "|Embarked                         |2                                |                                 |\n",
      "+---------------------------------+---------------------------------+---------------------------------+\n",
      "\n",
      "****************************************************************************************************\n",
      "\n",
      "TYPE:         High cardinality feature detection\n",
      "STATUS:       PASSED\n",
      "DESCRIPTION:  Your inputs were analyzed, and no high cardinality features were detected.\n",
      "              Learn more about high cardinality feature handling: https://aka.ms/AutomatedMLFeaturization\n",
      "\n",
      "****************************************************************************************************\n",
      "\n",
      "****************************************************************************************************\n",
      "ITERATION: The iteration being evaluated.\n",
      "PIPELINE: A summary description of the pipeline being evaluated.\n",
      "DURATION: Time taken for the current iteration.\n",
      "METRIC: The result of computing score on the fitted pipeline.\n",
      "BEST: The best observed score thus far.\n",
      "****************************************************************************************************\n",
      "\n",
      " ITERATION   PIPELINE                                       DURATION      METRIC      BEST\n",
      "         0   MaxAbsScaler LightGBM                          0:01:33       0.8510    0.8510\n",
      "         1   MaxAbsScaler XGBoostClassifier                 0:01:16       0.8655    0.8655\n",
      "         2   MaxAbsScaler ExtremeRandomTrees                0:03:59       0.8167    0.8655\n",
      "         3   SparseNormalizer XGBoostClassifier             0:02:04       0.8541    0.8655\n",
      "         4   MaxAbsScaler LightGBM                          0:01:49       0.8548    0.8655\n",
      "         5   MaxAbsScaler LightGBM                          0:02:09       0.8304    0.8655\n",
      "         6   StandardScalerWrapper XGBoostClassifier        0:01:52       0.8365    0.8655\n",
      "         7   MaxAbsScaler LogisticRegression                0:01:57       0.8602    0.8655\n",
      "         8   StandardScalerWrapper ExtremeRandomTrees       0:02:04       0.7028    0.8655\n",
      "         9   StandardScalerWrapper XGBoostClassifier        0:01:56       0.8487    0.8655\n",
      "        10   SparseNormalizer LightGBM                      0:02:01       0.8541    0.8655\n",
      "        11   StandardScalerWrapper XGBoostClassifier        0:02:00       0.8625    0.8655\n",
      "        12   MaxAbsScaler LogisticRegression                0:02:03       0.8594    0.8655\n",
      "        13   MaxAbsScaler SGD                               0:01:57       0.8541    0.8655\n",
      "        14   StandardScalerWrapper XGBoostClassifier        0:01:50       0.8640    0.8655\n",
      "        15   SparseNormalizer RandomForest                  0:02:04       0.8472    0.8655\n",
      "        16   StandardScalerWrapper LogisticRegression       0:02:02       0.8564    0.8655\n",
      "        17   StandardScalerWrapper RandomForest             0:02:00       0.8167    0.8655\n",
      "        18   StandardScalerWrapper XGBoostClassifier        0:02:00       0.8640    0.8655\n",
      "        19   TruncatedSVDWrapper RandomForest               0:01:55       0.8045    0.8655\n",
      "        20   TruncatedSVDWrapper RandomForest               0:02:06       0.8281    0.8655\n",
      "        21   StandardScalerWrapper XGBoostClassifier        0:01:48       0.8556    0.8655\n",
      "        22   SparseNormalizer XGBoostClassifier             0:02:10       0.8510    0.8655\n",
      "        23    VotingEnsemble                                0:02:02       0.8655    0.8655\n",
      "        24    StackEnsemble                                 0:01:56       0.8640    0.8655\n"
     ]
    }
   ],
   "source": [
    "experiment = Experiment(ws, \"titanic-experiment-auto-prepped\")\n",
    "remote_run = experiment.submit(automl_config, show_output=True)"
   ]
  },
  {
   "cell_type": "code",
   "execution_count": 12,
   "id": "109f2c46",
   "metadata": {},
   "outputs": [
    {
     "data": {
      "application/vnd.jupyter.widget-view+json": {
       "model_id": "0c5cba00c17c465ea0bd335508a04153",
       "version_major": 2,
       "version_minor": 0
      },
      "text/plain": [
       "_AutoMLWidget(widget_settings={'childWidgetDisplay': 'popup', 'send_telemetry': False, 'log_level': 'INFO', 's…"
      ]
     },
     "metadata": {},
     "output_type": "display_data"
    },
    {
     "data": {
      "application/aml.mini.widget.v1": "{\"status\": \"Completed\", \"workbench_run_details_uri\": \"https://ml.azure.com/runs/AutoML_f4dd21ab-369c-4c4a-b740-343964146698?wsid=/subscriptions/d674bf87-325c-409a-a63f-001d9725b99e/resourcegroups/mdl_ml_pipeline/workspaces/mdl_ml_ops&tid=83b02c92-5f26-48ed-9e5b-6c2fca46a8e6\", \"run_id\": \"AutoML_f4dd21ab-369c-4c4a-b740-343964146698\", \"run_properties\": {\"run_id\": \"AutoML_f4dd21ab-369c-4c4a-b740-343964146698\", \"created_utc\": \"2021-11-18T01:24:53.836061Z\", \"properties\": {\"num_iterations\": \"25\", \"training_type\": \"TrainFull\", \"acquisition_function\": \"EI\", \"primary_metric\": \"accuracy\", \"train_split\": \"0\", \"acquisition_parameter\": \"0\", \"num_cross_validation\": \"4\", \"target\": \"mdl-cluster\", \"AMLSettingsJsonString\": \"{\\\"path\\\":null,\\\"name\\\":\\\"titanic-experiment-auto-prepped\\\",\\\"subscription_id\\\":\\\"d674bf87-325c-409a-a63f-001d9725b99e\\\",\\\"resource_group\\\":\\\"mdl_ml_pipeline\\\",\\\"workspace_name\\\":\\\"mdl_ml_ops\\\",\\\"region\\\":\\\"eastus\\\",\\\"compute_target\\\":\\\"mdl-cluster\\\",\\\"spark_service\\\":null,\\\"azure_service\\\":\\\"remote\\\",\\\"many_models\\\":false,\\\"pipeline_fetch_max_batch_size\\\":1,\\\"enable_batch_run\\\":false,\\\"enable_run_restructure\\\":false,\\\"start_auxiliary_runs_before_parent_complete\\\":false,\\\"enable_code_generation\\\":false,\\\"iterations\\\":25,\\\"primary_metric\\\":\\\"accuracy\\\",\\\"task_type\\\":\\\"classification\\\",\\\"positive_label\\\":null,\\\"data_script\\\":null,\\\"test_size\\\":0.0,\\\"test_include_predictions_only\\\":false,\\\"validation_size\\\":0.0,\\\"n_cross_validations\\\":4,\\\"y_min\\\":null,\\\"y_max\\\":null,\\\"num_classes\\\":null,\\\"featurization\\\":\\\"auto\\\",\\\"_ignore_package_version_incompatibilities\\\":false,\\\"is_timeseries\\\":false,\\\"max_cores_per_iteration\\\":1,\\\"max_concurrent_iterations\\\":1,\\\"iteration_timeout_minutes\\\":1,\\\"mem_in_mb\\\":null,\\\"enforce_time_on_windows\\\":false,\\\"experiment_timeout_minutes\\\":8640,\\\"experiment_exit_score\\\":null,\\\"whitelist_models\\\":null,\\\"blacklist_algos\\\":[\\\"TensorFlowLinearClassifier\\\",\\\"TensorFlowDNN\\\"],\\\"supported_models\\\":[\\\"AveragedPerceptronClassifier\\\",\\\"KNN\\\",\\\"DecisionTree\\\",\\\"LinearSVM\\\",\\\"ExtremeRandomTrees\\\",\\\"TensorFlowDNN\\\",\\\"XGBoostClassifier\\\",\\\"LightGBM\\\",\\\"SGD\\\",\\\"MultinomialNaiveBayes\\\",\\\"GradientBoosting\\\",\\\"TensorFlowLinearClassifier\\\",\\\"LogisticRegression\\\",\\\"RandomForest\\\",\\\"SVM\\\",\\\"BernoulliNaiveBayes\\\"],\\\"private_models\\\":[\\\"TabnetClassifier\\\"],\\\"auto_blacklist\\\":true,\\\"blacklist_samples_reached\\\":false,\\\"exclude_nan_labels\\\":true,\\\"verbosity\\\":20,\\\"_debug_log\\\":\\\"azureml_automl.log\\\",\\\"show_warnings\\\":false,\\\"model_explainability\\\":true,\\\"service_url\\\":null,\\\"sdk_url\\\":null,\\\"sdk_packages\\\":null,\\\"enable_onnx_compatible_models\\\":false,\\\"enable_split_onnx_featurizer_estimator_models\\\":false,\\\"vm_type\\\":\\\"STANDARD_D2_V2\\\",\\\"telemetry_verbosity\\\":20,\\\"send_telemetry\\\":true,\\\"enable_dnn\\\":false,\\\"scenario\\\":\\\"SDK-1.13.0\\\",\\\"environment_label\\\":null,\\\"save_mlflow\\\":false,\\\"enable_categorical_indicators\\\":false,\\\"force_text_dnn\\\":false,\\\"enable_feature_sweeping\\\":true,\\\"enable_early_stopping\\\":false,\\\"early_stopping_n_iters\\\":10,\\\"arguments\\\":null,\\\"dataset_id\\\":null,\\\"hyperdrive_config\\\":null,\\\"validation_dataset_id\\\":null,\\\"run_source\\\":null,\\\"metrics\\\":null,\\\"enable_metric_confidence\\\":false,\\\"enable_ensembling\\\":true,\\\"enable_stack_ensembling\\\":true,\\\"ensemble_iterations\\\":15,\\\"enable_tf\\\":false,\\\"enable_subsampling\\\":false,\\\"subsample_seed\\\":null,\\\"enable_nimbusml\\\":false,\\\"enable_streaming\\\":false,\\\"force_streaming\\\":false,\\\"track_child_runs\\\":true,\\\"allowed_private_models\\\":[],\\\"label_column_name\\\":\\\"Survived\\\",\\\"weight_column_name\\\":null,\\\"cv_split_column_names\\\":null,\\\"enable_local_managed\\\":false,\\\"_local_managed_run_id\\\":null,\\\"cost_mode\\\":1,\\\"lag_length\\\":0,\\\"metric_operation\\\":\\\"maximize\\\",\\\"preprocess\\\":true}\", \"DataPrepJsonString\": \"{\\\\\\\"training_data\\\\\\\": {\\\\\\\"datasetId\\\\\\\": \\\\\\\"4041afd2-c95c-4f2d-93c7-88d89806ab27\\\\\\\"}, \\\\\\\"datasets\\\\\\\": 0}\", \"EnableSubsampling\": \"False\", \"runTemplate\": \"AutoML\", \"azureml.runsource\": \"automl\", \"display_task_type\": \"classification\", \"dependencies_versions\": \"{\\\"azureml-widgets\\\": \\\"1.35.0\\\", \\\"azureml-train-restclients-hyperdrive\\\": \\\"1.35.0\\\", \\\"azureml-train-core\\\": \\\"1.35.0\\\", \\\"azureml-train-automl-runtime\\\": \\\"1.35.1\\\", \\\"azureml-train-automl-client\\\": \\\"1.35.0\\\", \\\"azureml-telemetry\\\": \\\"1.35.0\\\", \\\"azureml-sdk\\\": \\\"1.35.0\\\", \\\"azureml-responsibleai\\\": \\\"1.36.0\\\", \\\"azureml-pipeline\\\": \\\"1.35.0\\\", \\\"azureml-pipeline-steps\\\": \\\"1.35.0\\\", \\\"azureml-pipeline-core\\\": \\\"1.35.0\\\", \\\"azureml-mlflow\\\": \\\"1.35.0\\\", \\\"azureml-interpret\\\": \\\"1.36.0\\\", \\\"azureml-inference-server-http\\\": \\\"0.3.2\\\", \\\"azureml-defaults\\\": \\\"1.35.0\\\", \\\"azureml-dataset-runtime\\\": \\\"1.36.0\\\", \\\"azureml-dataprep\\\": \\\"2.24.3\\\", \\\"azureml-dataprep-rslex\\\": \\\"2.0.3\\\", \\\"azureml-dataprep-native\\\": \\\"38.0.0\\\", \\\"azureml-core\\\": \\\"1.36.0.post2\\\", \\\"azureml-contrib-notebook\\\": \\\"1.35.0\\\", \\\"azureml-automl-runtime\\\": \\\"1.35.1\\\", \\\"azureml-automl-core\\\": \\\"1.35.1\\\"}\", \"_aml_system_scenario_identification\": \"Remote.Parent\", \"ClientType\": \"SDK\", \"environment_cpu_name\": \"AzureML-AutoML\", \"environment_cpu_label\": \"prod\", \"environment_gpu_name\": \"AzureML-AutoML-GPU\", \"environment_gpu_label\": \"prod\", \"root_attribution\": \"automl\", \"attribution\": \"AutoML\", \"Orchestrator\": \"AutoML\", \"CancelUri\": \"https://eastus.api.azureml.ms/jasmine/v1.0/subscriptions/d674bf87-325c-409a-a63f-001d9725b99e/resourceGroups/mdl_ml_pipeline/providers/Microsoft.MachineLearningServices/workspaces/mdl_ml_ops/experimentids/9c97eaef-8db1-4ceb-ba57-fbb5a1db42d8/cancel/AutoML_f4dd21ab-369c-4c4a-b740-343964146698\", \"ClientSdkVersion\": \"1.35.1\", \"snapshotId\": \"00000000-0000-0000-0000-000000000000\", \"SetupRunId\": \"AutoML_f4dd21ab-369c-4c4a-b740-343964146698_setup\", \"SetupRunContainerId\": \"dcid.AutoML_f4dd21ab-369c-4c4a-b740-343964146698_setup\", \"FeaturizationRunJsonPath\": \"featurizer_container.json\", \"FeaturizationRunId\": \"AutoML_f4dd21ab-369c-4c4a-b740-343964146698_featurize\", \"ProblemInfoJsonString\": \"{\\\"dataset_num_categorical\\\": 0, \\\"is_sparse\\\": true, \\\"subsampling\\\": false, \\\"has_extra_col\\\": true, \\\"dataset_classes\\\": 2, \\\"dataset_features\\\": 26, \\\"dataset_samples\\\": 1309, \\\"single_frequency_class_detected\\\": false}\", \"ModelExplainRunId\": \"AutoML_f4dd21ab-369c-4c4a-b740-343964146698_ModelExplain\"}, \"tags\": {\"model_explain_run\": \"best_run\", \"_aml_system_azureml.automlComponent\": \"AutoML\", \"pipeline_id\": \"\", \"score\": \"\", \"predicted_cost\": \"\", \"fit_time\": \"\", \"training_percent\": \"\", \"iteration\": \"\", \"run_preprocessor\": \"\", \"run_algorithm\": \"\", \"automl_best_child_run_id\": \"AutoML_f4dd21ab-369c-4c4a-b740-343964146698_23\", \"model_explain_best_run_child_id\": \"AutoML_f4dd21ab-369c-4c4a-b740-343964146698_23\"}, \"end_time_utc\": \"2021-11-18T02:22:25.28169Z\", \"status\": \"Completed\", \"log_files\": {}, \"log_groups\": [], \"run_duration\": \"0:57:31\", \"run_number\": \"118\", \"run_queued_details\": {\"status\": \"Completed\", \"details\": null}}, \"child_runs\": [{\"run_id\": \"AutoML_f4dd21ab-369c-4c4a-b740-343964146698_setup\", \"run_number\": 119, \"metric\": null, \"status\": \"Completed\", \"run_type\": \"azureml.scriptrun\", \"training_percent\": null, \"start_time\": \"2021-11-18T01:25:07.907545Z\", \"end_time\": \"2021-11-18T01:29:02.417586Z\", \"created_time\": \"2021-11-18T01:25:07.907545Z\", \"created_time_dt\": \"2021-11-18T01:25:07.907545Z\", \"duration\": \"0:03:54\", \"iteration\": null, \"goal\": null, \"run_name\": \"Completed\", \"run_properties\": null}, {\"run_id\": \"AutoML_f4dd21ab-369c-4c4a-b740-343964146698_featurize\", \"run_number\": 120, \"metric\": null, \"status\": \"Completed\", \"run_type\": \"automl.featurization\", \"training_percent\": null, \"start_time\": \"2021-11-18T01:29:03.380475Z\", \"end_time\": \"2021-11-18T01:31:06.67085Z\", \"created_time\": \"2021-11-18T01:29:02.844885Z\", \"created_time_dt\": \"2021-11-18T01:29:02.844885Z\", \"duration\": \"0:02:03\", \"iteration\": null, \"goal\": null, \"run_name\": \"Completed\", \"run_properties\": null}, {\"run_id\": \"AutoML_f4dd21ab-369c-4c4a-b740-343964146698_0\", \"run_number\": 122, \"metric\": null, \"status\": \"Completed\", \"run_type\": \"azureml.scriptrun\", \"training_percent\": \"100\", \"start_time\": \"2021-11-18T01:31:07.1369Z\", \"end_time\": \"2021-11-18T01:32:40.350735Z\", \"created_time\": \"2021-11-18T01:31:07.1369Z\", \"created_time_dt\": \"2021-11-18T01:31:07.1369Z\", \"duration\": \"0:01:33\", \"iteration\": \"0\", \"goal\": \"accuracy_max\", \"run_name\": \"MaxAbsScaler, LightGBM\", \"run_properties\": \"copy=True\", \"primary_metric\": 0.85101999, \"best_metric\": 0.85101999}, {\"run_id\": \"AutoML_f4dd21ab-369c-4c4a-b740-343964146698_1\", \"run_number\": 123, \"metric\": null, \"status\": \"Completed\", \"run_type\": \"azureml.scriptrun\", \"training_percent\": \"100\", \"start_time\": \"2021-11-18T01:32:41.36721Z\", \"end_time\": \"2021-11-18T01:33:57.08804Z\", \"created_time\": \"2021-11-18T01:32:41.36721Z\", \"created_time_dt\": \"2021-11-18T01:32:41.36721Z\", \"duration\": \"0:01:15\", \"iteration\": \"1\", \"goal\": \"accuracy_max\", \"run_name\": \"MaxAbsScaler, XGBoostClassifier\", \"run_properties\": \"copy=True\", \"primary_metric\": 0.86552267, \"best_metric\": 0.86552267}, {\"run_id\": \"AutoML_f4dd21ab-369c-4c4a-b740-343964146698_2\", \"run_number\": 124, \"metric\": null, \"status\": \"Completed\", \"run_type\": \"azureml.scriptrun\", \"training_percent\": \"100\", \"start_time\": \"2021-11-18T01:33:58.342063Z\", \"end_time\": \"2021-11-18T01:37:56.953033Z\", \"created_time\": \"2021-11-18T01:33:58.342063Z\", \"created_time_dt\": \"2021-11-18T01:33:58.342063Z\", \"duration\": \"0:03:58\", \"iteration\": \"2\", \"goal\": \"accuracy_max\", \"run_name\": \"MaxAbsScaler, ExtremeRandomTrees\", \"run_properties\": \"copy=True\", \"primary_metric\": 0.81667226, \"best_metric\": 0.86552267}, {\"run_id\": \"AutoML_f4dd21ab-369c-4c4a-b740-343964146698_3\", \"run_number\": 125, \"metric\": null, \"status\": \"Completed\", \"run_type\": \"azureml.scriptrun\", \"training_percent\": \"100\", \"start_time\": \"2021-11-18T01:37:58.816021Z\", \"end_time\": \"2021-11-18T01:40:02.618353Z\", \"created_time\": \"2021-11-18T01:37:58.816021Z\", \"created_time_dt\": \"2021-11-18T01:37:58.816021Z\", \"duration\": \"0:02:03\", \"iteration\": \"3\", \"goal\": \"accuracy_max\", \"run_name\": \"SparseNormalizer, XGBoostClassifier\", \"run_properties\": \"copy=True, norm='l2'\", \"primary_metric\": 0.8540711, \"best_metric\": 0.86552267}, {\"run_id\": \"AutoML_f4dd21ab-369c-4c4a-b740-343964146698_4\", \"run_number\": 126, \"metric\": null, \"status\": \"Completed\", \"run_type\": \"azureml.scriptrun\", \"training_percent\": \"100\", \"start_time\": \"2021-11-18T01:40:04.761727Z\", \"end_time\": \"2021-11-18T01:41:53.715593Z\", \"created_time\": \"2021-11-18T01:40:04.761727Z\", \"created_time_dt\": \"2021-11-18T01:40:04.761727Z\", \"duration\": \"0:01:48\", \"iteration\": \"4\", \"goal\": \"accuracy_max\", \"run_name\": \"MaxAbsScaler, LightGBM\", \"run_properties\": \"copy=True\", \"primary_metric\": 0.85483796, \"best_metric\": 0.86552267}, {\"run_id\": \"AutoML_f4dd21ab-369c-4c4a-b740-343964146698_5\", \"run_number\": 127, \"metric\": null, \"status\": \"Completed\", \"run_type\": \"azureml.scriptrun\", \"training_percent\": \"100\", \"start_time\": \"2021-11-18T01:41:55.557747Z\", \"end_time\": \"2021-11-18T01:44:04.712527Z\", \"created_time\": \"2021-11-18T01:41:55.557747Z\", \"created_time_dt\": \"2021-11-18T01:41:55.557747Z\", \"duration\": \"0:02:09\", \"iteration\": \"5\", \"goal\": \"accuracy_max\", \"run_name\": \"MaxAbsScaler, LightGBM\", \"run_properties\": \"copy=True\", \"primary_metric\": 0.83039643, \"best_metric\": 0.86552267}, {\"run_id\": \"AutoML_f4dd21ab-369c-4c4a-b740-343964146698_6\", \"run_number\": 128, \"metric\": null, \"status\": \"Completed\", \"run_type\": \"azureml.scriptrun\", \"training_percent\": \"100\", \"start_time\": \"2021-11-18T01:44:06.764657Z\", \"end_time\": \"2021-11-18T01:45:58.331845Z\", \"created_time\": \"2021-11-18T01:44:06.764657Z\", \"created_time_dt\": \"2021-11-18T01:44:06.764657Z\", \"duration\": \"0:01:51\", \"iteration\": \"6\", \"goal\": \"accuracy_max\", \"run_name\": \"StandardScalerWrapper, XGBoostClassifier\", \"run_properties\": \"\\n    copy=True,\\n    with_mean=False,\\n    with_std=False\\n\", \"primary_metric\": 0.83653129, \"best_metric\": 0.86552267}, {\"run_id\": \"AutoML_f4dd21ab-369c-4c4a-b740-343964146698_7\", \"run_number\": 129, \"metric\": null, \"status\": \"Completed\", \"run_type\": \"azureml.scriptrun\", \"training_percent\": \"100\", \"start_time\": \"2021-11-18T01:46:00.233407Z\", \"end_time\": \"2021-11-18T01:47:57.335795Z\", \"created_time\": \"2021-11-18T01:46:00.233407Z\", \"created_time_dt\": \"2021-11-18T01:46:00.233407Z\", \"duration\": \"0:01:57\", \"iteration\": \"7\", \"goal\": \"accuracy_max\", \"run_name\": \"MaxAbsScaler, LogisticRegression\", \"run_properties\": \"copy=True\", \"primary_metric\": 0.86018032, \"best_metric\": 0.86552267}, {\"run_id\": \"AutoML_f4dd21ab-369c-4c4a-b740-343964146698_8\", \"run_number\": 130, \"metric\": null, \"status\": \"Completed\", \"run_type\": \"azureml.scriptrun\", \"training_percent\": \"100\", \"start_time\": \"2021-11-18T01:47:59.228873Z\", \"end_time\": \"2021-11-18T01:50:02.752514Z\", \"created_time\": \"2021-11-18T01:47:59.228873Z\", \"created_time_dt\": \"2021-11-18T01:47:59.228873Z\", \"duration\": \"0:02:03\", \"iteration\": \"8\", \"goal\": \"accuracy_max\", \"run_name\": \"StandardScalerWrapper, ExtremeRandomTrees\", \"run_properties\": \"\\n    copy=True,\\n    with_mean=False,\\n    with_std=False\\n\", \"primary_metric\": 0.70283714, \"best_metric\": 0.86552267}, {\"run_id\": \"AutoML_f4dd21ab-369c-4c4a-b740-343964146698_9\", \"run_number\": 131, \"metric\": null, \"status\": \"Completed\", \"run_type\": \"azureml.scriptrun\", \"training_percent\": \"100\", \"start_time\": \"2021-11-18T01:50:06.627948Z\", \"end_time\": \"2021-11-18T01:52:02.978565Z\", \"created_time\": \"2021-11-18T01:50:06.627948Z\", \"created_time_dt\": \"2021-11-18T01:50:06.627948Z\", \"duration\": \"0:01:56\", \"iteration\": \"9\", \"goal\": \"accuracy_max\", \"run_name\": \"StandardScalerWrapper, XGBoostClassifier\", \"run_properties\": \"\\n    copy=True,\\n    with_mean=False,\\n    with_std=False\\n\", \"primary_metric\": 0.84874972, \"best_metric\": 0.86552267}, {\"run_id\": \"AutoML_f4dd21ab-369c-4c4a-b740-343964146698_10\", \"run_number\": 132, \"metric\": null, \"status\": \"Completed\", \"run_type\": \"azureml.scriptrun\", \"training_percent\": \"100\", \"start_time\": \"2021-11-18T01:52:04.887574Z\", \"end_time\": \"2021-11-18T01:54:06.143854Z\", \"created_time\": \"2021-11-18T01:52:04.887574Z\", \"created_time_dt\": \"2021-11-18T01:52:04.887574Z\", \"duration\": \"0:02:01\", \"iteration\": \"10\", \"goal\": \"accuracy_max\", \"run_name\": \"SparseNormalizer, LightGBM\", \"run_properties\": \"copy=True, norm='l1'\", \"primary_metric\": 0.85406644, \"best_metric\": 0.86552267}, {\"run_id\": \"AutoML_f4dd21ab-369c-4c4a-b740-343964146698_11\", \"run_number\": 133, \"metric\": null, \"status\": \"Completed\", \"run_type\": \"azureml.scriptrun\", \"training_percent\": \"100\", \"start_time\": \"2021-11-18T01:54:07.958499Z\", \"end_time\": \"2021-11-18T01:56:07.996672Z\", \"created_time\": \"2021-11-18T01:54:07.958499Z\", \"created_time_dt\": \"2021-11-18T01:54:07.958499Z\", \"duration\": \"0:02:00\", \"iteration\": \"11\", \"goal\": \"accuracy_max\", \"run_name\": \"StandardScalerWrapper, XGBoostClassifier\", \"run_properties\": \"\\n    copy=True,\\n    with_mean=False,\\n    with_std=False\\n\", \"primary_metric\": 0.86247856, \"best_metric\": 0.86552267}, {\"run_id\": \"AutoML_f4dd21ab-369c-4c4a-b740-343964146698_12\", \"run_number\": 134, \"metric\": null, \"status\": \"Completed\", \"run_type\": \"azureml.scriptrun\", \"training_percent\": \"100\", \"start_time\": \"2021-11-18T01:56:09.853774Z\", \"end_time\": \"2021-11-18T01:58:12.615495Z\", \"created_time\": \"2021-11-18T01:56:09.853774Z\", \"created_time_dt\": \"2021-11-18T01:56:09.853774Z\", \"duration\": \"0:02:02\", \"iteration\": \"12\", \"goal\": \"accuracy_max\", \"run_name\": \"MaxAbsScaler, LogisticRegression\", \"run_properties\": \"copy=True\", \"primary_metric\": 0.85941346, \"best_metric\": 0.86552267}, {\"run_id\": \"AutoML_f4dd21ab-369c-4c4a-b740-343964146698_13\", \"run_number\": 135, \"metric\": null, \"status\": \"Completed\", \"run_type\": \"azureml.scriptrun\", \"training_percent\": \"100\", \"start_time\": \"2021-11-18T01:58:15.198605Z\", \"end_time\": \"2021-11-18T02:00:12.316218Z\", \"created_time\": \"2021-11-18T01:58:15.198605Z\", \"created_time_dt\": \"2021-11-18T01:58:15.198605Z\", \"duration\": \"0:01:57\", \"iteration\": \"13\", \"goal\": \"accuracy_max\", \"run_name\": \"MaxAbsScaler, SGD\", \"run_properties\": \"copy=True\", \"primary_metric\": 0.85407576, \"best_metric\": 0.86552267}, {\"run_id\": \"AutoML_f4dd21ab-369c-4c4a-b740-343964146698_14\", \"run_number\": 136, \"metric\": null, \"status\": \"Completed\", \"run_type\": \"azureml.scriptrun\", \"training_percent\": \"100\", \"start_time\": \"2021-11-18T02:00:14.0688Z\", \"end_time\": \"2021-11-18T02:02:04.187303Z\", \"created_time\": \"2021-11-18T02:00:14.0688Z\", \"created_time_dt\": \"2021-11-18T02:00:14.0688Z\", \"duration\": \"0:01:50\", \"iteration\": \"14\", \"goal\": \"accuracy_max\", \"run_name\": \"StandardScalerWrapper, XGBoostClassifier\", \"run_properties\": \"\\n    copy=True,\\n    with_mean=False,\\n    with_std=False\\n\", \"primary_metric\": 0.86399595, \"best_metric\": 0.86552267}, {\"run_id\": \"AutoML_f4dd21ab-369c-4c4a-b740-343964146698_15\", \"run_number\": 137, \"metric\": null, \"status\": \"Completed\", \"run_type\": \"azureml.scriptrun\", \"training_percent\": \"100\", \"start_time\": \"2021-11-18T02:02:06.207436Z\", \"end_time\": \"2021-11-18T02:04:09.742014Z\", \"created_time\": \"2021-11-18T02:02:06.207436Z\", \"created_time_dt\": \"2021-11-18T02:02:06.207436Z\", \"duration\": \"0:02:03\", \"iteration\": \"15\", \"goal\": \"accuracy_max\", \"run_name\": \"SparseNormalizer, RandomForest\", \"run_properties\": \"copy=True, norm='l2'\", \"primary_metric\": 0.84720901, \"best_metric\": 0.86552267}, {\"run_id\": \"AutoML_f4dd21ab-369c-4c4a-b740-343964146698_16\", \"run_number\": 138, \"metric\": null, \"status\": \"Completed\", \"run_type\": \"azureml.scriptrun\", \"training_percent\": \"100\", \"start_time\": \"2021-11-18T02:04:11.693518Z\", \"end_time\": \"2021-11-18T02:06:13.284481Z\", \"created_time\": \"2021-11-18T02:04:11.693518Z\", \"created_time_dt\": \"2021-11-18T02:04:11.693518Z\", \"duration\": \"0:02:01\", \"iteration\": \"16\", \"goal\": \"accuracy_max\", \"run_name\": \"StandardScalerWrapper, LogisticRegression\", \"run_properties\": \"\\n    copy=True,\\n    with_mean=False,\\n    with_std=False\\n\", \"primary_metric\": 0.85636468, \"best_metric\": 0.86552267}, {\"run_id\": \"AutoML_f4dd21ab-369c-4c4a-b740-343964146698_17\", \"run_number\": 139, \"metric\": null, \"status\": \"Completed\", \"run_type\": \"azureml.scriptrun\", \"training_percent\": \"100\", \"start_time\": \"2021-11-18T02:06:15.567127Z\", \"end_time\": \"2021-11-18T02:08:15.176594Z\", \"created_time\": \"2021-11-18T02:06:15.567127Z\", \"created_time_dt\": \"2021-11-18T02:06:15.567127Z\", \"duration\": \"0:01:59\", \"iteration\": \"17\", \"goal\": \"accuracy_max\", \"run_name\": \"StandardScalerWrapper, RandomForest\", \"run_properties\": \"\\n    copy=True,\\n    with_mean=False,\\n    with_std=False\\n\", \"primary_metric\": 0.81665594, \"best_metric\": 0.86552267}, {\"run_id\": \"AutoML_f4dd21ab-369c-4c4a-b740-343964146698_18\", \"run_number\": 140, \"metric\": null, \"status\": \"Completed\", \"run_type\": \"azureml.scriptrun\", \"training_percent\": \"100\", \"start_time\": \"2021-11-18T02:08:17.193577Z\", \"end_time\": \"2021-11-18T02:10:16.796365Z\", \"created_time\": \"2021-11-18T02:08:17.193577Z\", \"created_time_dt\": \"2021-11-18T02:08:17.193577Z\", \"duration\": \"0:01:59\", \"iteration\": \"18\", \"goal\": \"accuracy_max\", \"run_name\": \"StandardScalerWrapper, XGBoostClassifier\", \"run_properties\": \"\\n    copy=True,\\n    with_mean=False,\\n    with_std=False\\n\", \"primary_metric\": 0.86400761, \"best_metric\": 0.86552267}, {\"run_id\": \"AutoML_f4dd21ab-369c-4c4a-b740-343964146698_19\", \"run_number\": 141, \"metric\": null, \"status\": \"Completed\", \"run_type\": \"azureml.scriptrun\", \"training_percent\": \"100\", \"start_time\": \"2021-11-18T02:10:18.748623Z\", \"end_time\": \"2021-11-18T02:12:13.565879Z\", \"created_time\": \"2021-11-18T02:10:18.748623Z\", \"created_time_dt\": \"2021-11-18T02:10:18.748623Z\", \"duration\": \"0:01:54\", \"iteration\": \"19\", \"goal\": \"accuracy_max\", \"run_name\": \"TruncatedSVDWrapper, RandomForest\", \"run_properties\": \"n_components=0.8015789473684211, random_state=None\", \"primary_metric\": 0.80445849, \"best_metric\": 0.86552267}, {\"run_id\": \"AutoML_f4dd21ab-369c-4c4a-b740-343964146698_20\", \"run_number\": 142, \"metric\": null, \"status\": \"Completed\", \"run_type\": \"azureml.scriptrun\", \"training_percent\": \"100\", \"start_time\": \"2021-11-18T02:12:15.442213Z\", \"end_time\": \"2021-11-18T02:14:21.696683Z\", \"created_time\": \"2021-11-18T02:12:15.442213Z\", \"created_time_dt\": \"2021-11-18T02:12:15.442213Z\", \"duration\": \"0:02:06\", \"iteration\": \"20\", \"goal\": \"accuracy_max\", \"run_name\": \"TruncatedSVDWrapper, RandomForest\", \"run_properties\": \"n_components=0.7026315789473684, random_state=None\", \"primary_metric\": 0.82811917, \"best_metric\": 0.86552267}, {\"run_id\": \"AutoML_f4dd21ab-369c-4c4a-b740-343964146698_21\", \"run_number\": 143, \"metric\": null, \"status\": \"Completed\", \"run_type\": \"azureml.scriptrun\", \"training_percent\": \"100\", \"start_time\": \"2021-11-18T02:14:23.711773Z\", \"end_time\": \"2021-11-18T02:16:11.663253Z\", \"created_time\": \"2021-11-18T02:14:23.711773Z\", \"created_time_dt\": \"2021-11-18T02:14:23.711773Z\", \"duration\": \"0:01:47\", \"iteration\": \"21\", \"goal\": \"accuracy_max\", \"run_name\": \"StandardScalerWrapper, XGBoostClassifier\", \"run_properties\": \"\\n    copy=True,\\n    with_mean=False,\\n    with_std=False\\n\", \"primary_metric\": 0.85560248, \"best_metric\": 0.86552267}, {\"run_id\": \"AutoML_f4dd21ab-369c-4c4a-b740-343964146698_22\", \"run_number\": 144, \"metric\": null, \"status\": \"Completed\", \"run_type\": \"azureml.scriptrun\", \"training_percent\": \"100\", \"start_time\": \"2021-11-18T02:16:13.365675Z\", \"end_time\": \"2021-11-18T02:18:23.584363Z\", \"created_time\": \"2021-11-18T02:16:13.365675Z\", \"created_time_dt\": \"2021-11-18T02:16:13.365675Z\", \"duration\": \"0:02:10\", \"iteration\": \"22\", \"goal\": \"accuracy_max\", \"run_name\": \"SparseNormalizer, XGBoostClassifier\", \"run_properties\": \"copy=True, norm='l2'\", \"primary_metric\": 0.85101766, \"best_metric\": 0.86552267}, {\"run_id\": \"AutoML_f4dd21ab-369c-4c4a-b740-343964146698_23\", \"run_number\": 145, \"metric\": null, \"status\": \"Completed\", \"run_type\": \"azureml.scriptrun\", \"training_percent\": \"100\", \"start_time\": \"2021-11-18T02:18:24.492354Z\", \"end_time\": \"2021-11-18T02:20:26.559629Z\", \"created_time\": \"2021-11-18T02:18:24.492354Z\", \"created_time_dt\": \"2021-11-18T02:18:24.492354Z\", \"duration\": \"0:02:02\", \"iteration\": \"23\", \"goal\": \"accuracy_max\", \"run_name\": \"VotingEnsemble\", \"run_properties\": \"\\n    estimators=[('1', Pipeline(\\n        memory=None,\\n        steps=[('maxabsscaler', MaxAbsScaler(\\n            copy=True\\n        \", \"primary_metric\": 0.86552967, \"best_metric\": 0.86552967}, {\"run_id\": \"AutoML_f4dd21ab-369c-4c4a-b740-343964146698_24\", \"run_number\": 146, \"metric\": null, \"status\": \"Completed\", \"run_type\": \"azureml.scriptrun\", \"training_percent\": \"100\", \"start_time\": \"2021-11-18T02:20:27.402211Z\", \"end_time\": \"2021-11-18T02:22:23.838636Z\", \"created_time\": \"2021-11-18T02:20:27.402211Z\", \"created_time_dt\": \"2021-11-18T02:20:27.402211Z\", \"duration\": \"0:01:56\", \"iteration\": \"24\", \"goal\": \"accuracy_max\", \"run_name\": \"StackEnsemble\", \"run_properties\": \"\\n    base_learners=[('1', Pipeline(\\n        memory=None,\\n        steps=[('maxabsscaler', MaxAbsScaler(\\n            copy=True\\n        \", \"primary_metric\": 0.86400295, \"best_metric\": 0.86552967}], \"children_metrics\": {\"categories\": [0], \"series\": {\"accuracy\": [{\"categories\": [\"0\", \"1\", \"2\", \"3\", \"4\", \"5\", \"6\", \"7\", \"8\", \"9\", \"10\", \"11\", \"12\", \"13\", \"14\", \"15\", \"16\", \"17\", \"18\", \"19\", \"20\", \"21\", \"22\", \"23\", \"24\"], \"mode\": \"markers\", \"name\": \"accuracy\", \"stepped\": false, \"type\": \"scatter\", \"data\": [0.8510199895576938, 0.8655226747221602, 0.8166722607593049, 0.8540711009174312, 0.8548379577832476, 0.8303964346982919, 0.8365312896248229, 0.8601803162527039, 0.7028371373163272, 0.8487497202953681, 0.8540664391735661, 0.8624785559782203, 0.8594134593868875, 0.8540757626612964, 0.8639959536063251, 0.8472090139479377, 0.8563646788990825, 0.8166559446557767, 0.864007607965988, 0.8044584918326247, 0.8281191728201686, 0.8556024837771314, 0.8510176586857612, 0.8655296673379579, 0.8640029462221228]}, {\"categories\": [\"0\", \"1\", \"2\", \"3\", \"4\", \"5\", \"6\", \"7\", \"8\", \"9\", \"10\", \"11\", \"12\", \"13\", \"14\", \"15\", \"16\", \"17\", \"18\", \"19\", \"20\", \"21\", \"22\", \"23\", \"24\"], \"mode\": \"lines\", \"name\": \"accuracy_max\", \"stepped\": true, \"type\": \"scatter\", \"data\": [0.8510199895576938, 0.8655226747221602, 0.8655226747221602, 0.8655226747221602, 0.8655226747221602, 0.8655226747221602, 0.8655226747221602, 0.8655226747221602, 0.8655226747221602, 0.8655226747221602, 0.8655226747221602, 0.8655226747221602, 0.8655226747221602, 0.8655226747221602, 0.8655226747221602, 0.8655226747221602, 0.8655226747221602, 0.8655226747221602, 0.8655226747221602, 0.8655226747221602, 0.8655226747221602, 0.8655226747221602, 0.8655226747221602, 0.8655296673379579, 0.8655296673379579]}], \"AUC_macro\": [{\"categories\": [\"0\", \"1\", \"2\", \"3\", \"4\", \"5\", \"6\", \"7\", \"8\", \"9\", \"10\", \"11\", \"12\", \"13\", \"14\", \"15\", \"16\", \"17\", \"18\", \"19\", \"20\", \"21\", \"22\", \"23\", \"24\"], \"mode\": \"markers\", \"name\": \"AUC_macro\", \"stepped\": false, \"type\": \"scatter\", \"data\": [0.8880068778961939, 0.9032478750142703, 0.8917697397444372, 0.8949006778958274, 0.9027831314503665, 0.9049068922896288, 0.8886194162516496, 0.8919625290564528, 0.8800372577728011, 0.8952865388751214, 0.8961368843855722, 0.9024706453222451, 0.886711517534899, 0.8906512188794051, 0.8992797089854359, 0.902249479018036, 0.8923731039321356, 0.8936734787638498, 0.9045119305428262, 0.8840154793758456, 0.8812347098569138, 0.9015880113848893, 0.8858612633245049, 0.9049659105105279, 0.9047544309155091]}, {\"categories\": [\"0\", \"1\", \"2\", \"3\", \"4\", \"5\", \"6\", \"7\", \"8\", \"9\", \"10\", \"11\", \"12\", \"13\", \"14\", \"15\", \"16\", \"17\", \"18\", \"19\", \"20\", \"21\", \"22\", \"23\", \"24\"], \"mode\": \"lines\", \"name\": \"AUC_macro_max\", \"stepped\": true, \"type\": \"scatter\", \"data\": [0.8880068778961939, 0.9032478750142703, 0.9032478750142703, 0.9032478750142703, 0.9032478750142703, 0.9049068922896288, 0.9049068922896288, 0.9049068922896288, 0.9049068922896288, 0.9049068922896288, 0.9049068922896288, 0.9049068922896288, 0.9049068922896288, 0.9049068922896288, 0.9049068922896288, 0.9049068922896288, 0.9049068922896288, 0.9049068922896288, 0.9049068922896288, 0.9049068922896288, 0.9049068922896288, 0.9049068922896288, 0.9049068922896288, 0.9049659105105279, 0.9049659105105279]}], \"average_precision_score_weighted\": [{\"categories\": [\"0\", \"1\", \"2\", \"3\", \"4\", \"5\", \"6\", \"7\", \"8\", \"9\", \"10\", \"11\", \"12\", \"13\", \"14\", \"15\", \"16\", \"17\", \"18\", \"19\", \"20\", \"21\", \"22\", \"23\", \"24\"], \"mode\": \"markers\", \"name\": \"average_precision_score_weighted\", \"stepped\": false, \"type\": \"scatter\", \"data\": [0.8885903112239228, 0.8965754823985451, 0.8897346644461959, 0.8920219004384178, 0.898509643456746, 0.9040994463971019, 0.8847181592032652, 0.8922273303228722, 0.8764405675456517, 0.8943122101671651, 0.894532493029988, 0.8998982745572197, 0.8830599066002346, 0.891710834393902, 0.8915333163239881, 0.9002184243838929, 0.8928317899173537, 0.89582374824238, 0.901995807246746, 0.876576806404026, 0.8714931487028896, 0.8996731288454614, 0.8850965775198599, 0.9026615954361956, 0.9023184715771501]}, {\"categories\": [\"0\", \"1\", \"2\", \"3\", \"4\", \"5\", \"6\", \"7\", \"8\", \"9\", \"10\", \"11\", \"12\", \"13\", \"14\", \"15\", \"16\", \"17\", \"18\", \"19\", \"20\", \"21\", \"22\", \"23\", \"24\"], \"mode\": \"lines\", \"name\": \"average_precision_score_weighted_max\", \"stepped\": true, \"type\": \"scatter\", \"data\": [0.8885903112239228, 0.8965754823985451, 0.8965754823985451, 0.8965754823985451, 0.898509643456746, 0.9040994463971019, 0.9040994463971019, 0.9040994463971019, 0.9040994463971019, 0.9040994463971019, 0.9040994463971019, 0.9040994463971019, 0.9040994463971019, 0.9040994463971019, 0.9040994463971019, 0.9040994463971019, 0.9040994463971019, 0.9040994463971019, 0.9040994463971019, 0.9040994463971019, 0.9040994463971019, 0.9040994463971019, 0.9040994463971019, 0.9040994463971019, 0.9040994463971019]}], \"f1_score_weighted\": [{\"categories\": [\"0\", \"1\", \"2\", \"3\", \"4\", \"5\", \"6\", \"7\", \"8\", \"9\", \"10\", \"11\", \"12\", \"13\", \"14\", \"15\", \"16\", \"17\", \"18\", \"19\", \"20\", \"21\", \"22\", \"23\", \"24\"], \"mode\": \"markers\", \"name\": \"f1_score_weighted\", \"stepped\": false, \"type\": \"scatter\", \"data\": [0.8499301528713655, 0.8640107706655202, 0.8179822566553925, 0.8527796415850764, 0.8533722853511769, 0.8195347648357295, 0.8341356129650326, 0.8585968573411804, 0.6379350260100365, 0.8459436974751516, 0.8526791125743947, 0.8607315527216786, 0.8577129102490755, 0.8531734752358485, 0.8621222567126758, 0.8476220482795878, 0.8551254471675626, 0.8047836808976536, 0.8627326766782182, 0.8063110319397723, 0.8288930454179595, 0.8534095483134531, 0.8497507529818636, 0.863922026315934, 0.8623604019321469]}, {\"categories\": [\"0\", \"1\", \"2\", \"3\", \"4\", \"5\", \"6\", \"7\", \"8\", \"9\", \"10\", \"11\", \"12\", \"13\", \"14\", \"15\", \"16\", \"17\", \"18\", \"19\", \"20\", \"21\", \"22\", \"23\", \"24\"], \"mode\": \"lines\", \"name\": \"f1_score_weighted_max\", \"stepped\": true, \"type\": \"scatter\", \"data\": [0.8499301528713655, 0.8640107706655202, 0.8640107706655202, 0.8640107706655202, 0.8640107706655202, 0.8640107706655202, 0.8640107706655202, 0.8640107706655202, 0.8640107706655202, 0.8640107706655202, 0.8640107706655202, 0.8640107706655202, 0.8640107706655202, 0.8640107706655202, 0.8640107706655202, 0.8640107706655202, 0.8640107706655202, 0.8640107706655202, 0.8640107706655202, 0.8640107706655202, 0.8640107706655202, 0.8640107706655202, 0.8640107706655202, 0.8640107706655202, 0.8640107706655202]}], \"norm_macro_recall\": [{\"categories\": [\"0\", \"1\", \"2\", \"3\", \"4\", \"5\", \"6\", \"7\", \"8\", \"9\", \"10\", \"11\", \"12\", \"13\", \"14\", \"15\", \"16\", \"17\", \"18\", \"19\", \"20\", \"21\", \"22\", \"23\", \"24\"], \"mode\": \"markers\", \"name\": \"norm_macro_recall\", \"stepped\": false, \"type\": \"scatter\", \"data\": [0.669634047368015, 0.6952082589019389, 0.631667644570556, 0.6744687415266122, 0.674649961851517, 0.5677984359794903, 0.6271799770352362, 0.6832110551927733, 0.22302670751560932, 0.648640022262368, 0.6733493861776684, 0.6855096234885046, 0.680215847749474, 0.6783273993686109, 0.6884442930219055, 0.6807598848500271, 0.6785890796972003, 0.5414857324888366, 0.6941450393711991, 0.6205118957864038, 0.6464738168216513, 0.6686214205568313, 0.6677338463202337, 0.69371145679776, 0.6905108460390097]}, {\"categories\": [\"0\", \"1\", \"2\", \"3\", \"4\", \"5\", \"6\", \"7\", \"8\", \"9\", \"10\", \"11\", \"12\", \"13\", \"14\", \"15\", \"16\", \"17\", \"18\", \"19\", \"20\", \"21\", \"22\", \"23\", \"24\"], \"mode\": \"lines\", \"name\": \"norm_macro_recall_max\", \"stepped\": true, \"type\": \"scatter\", \"data\": [0.669634047368015, 0.6952082589019389, 0.6952082589019389, 0.6952082589019389, 0.6952082589019389, 0.6952082589019389, 0.6952082589019389, 0.6952082589019389, 0.6952082589019389, 0.6952082589019389, 0.6952082589019389, 0.6952082589019389, 0.6952082589019389, 0.6952082589019389, 0.6952082589019389, 0.6952082589019389, 0.6952082589019389, 0.6952082589019389, 0.6952082589019389, 0.6952082589019389, 0.6952082589019389, 0.6952082589019389, 0.6952082589019389, 0.6952082589019389, 0.6952082589019389]}], \"weighted_accuracy\": [{\"categories\": [\"0\", \"1\", \"2\", \"3\", \"4\", \"5\", \"6\", \"7\", \"8\", \"9\", \"10\", \"11\", \"12\", \"13\", \"14\", \"15\", \"16\", \"17\", \"18\", \"19\", \"20\", \"21\", \"22\", \"23\", \"24\"], \"mode\": \"markers\", \"name\": \"weighted_accuracy\", \"stepped\": false, \"type\": \"scatter\", \"data\": [0.8652792142184101, 0.881215176553312, 0.8171156564621074, 0.8687993670430122, 0.8702298349462296, 0.8713453083588503, 0.856604502715613, 0.8764231472246831, 0.7834483337947025, 0.8702317967998701, 0.8693468767944552, 0.8798194511337191, 0.8762813190996779, 0.8671060447968197, 0.8813730236370433, 0.853050333062433, 0.8712628866664289, 0.8571700602732348, 0.8788826903339297, 0.7990587652281337, 0.832182747396768, 0.8741381652699421, 0.8660159660821689, 0.8818910571010272, 0.8804312757977502]}, {\"categories\": [\"0\", \"1\", \"2\", \"3\", \"4\", \"5\", \"6\", \"7\", \"8\", \"9\", \"10\", \"11\", \"12\", \"13\", \"14\", \"15\", \"16\", \"17\", \"18\", \"19\", \"20\", \"21\", \"22\", \"23\", \"24\"], \"mode\": \"lines\", \"name\": \"weighted_accuracy_max\", \"stepped\": true, \"type\": \"scatter\", \"data\": [0.8652792142184101, 0.881215176553312, 0.881215176553312, 0.881215176553312, 0.881215176553312, 0.881215176553312, 0.881215176553312, 0.881215176553312, 0.881215176553312, 0.881215176553312, 0.881215176553312, 0.881215176553312, 0.881215176553312, 0.881215176553312, 0.8813730236370433, 0.8813730236370433, 0.8813730236370433, 0.8813730236370433, 0.8813730236370433, 0.8813730236370433, 0.8813730236370433, 0.8813730236370433, 0.8813730236370433, 0.8818910571010272, 0.8818910571010272]}], \"matthews_correlation\": [{\"categories\": [\"0\", \"1\", \"2\", \"3\", \"4\", \"5\", \"6\", \"7\", \"8\", \"9\", \"10\", \"11\", \"12\", \"13\", \"14\", \"15\", \"16\", \"17\", \"18\", \"19\", \"20\", \"21\", \"22\", \"23\", \"24\"], \"mode\": \"markers\", \"name\": \"matthews_correlation\", \"stepped\": false, \"type\": \"scatter\", \"data\": [0.6794930277043868, 0.7098841541507539, 0.6228949187725166, 0.6856169870281552, 0.6877574872429316, 0.6442499008409902, 0.646702892068822, 0.6978737327179092, 0.3676651013168692, 0.6743046504343347, 0.6855561036331506, 0.7031944487486338, 0.6958744035309445, 0.686277129896038, 0.7069278589269608, 0.6772573266355832, 0.6899134469180153, 0.6113716639367035, 0.7072092242065771, 0.6086671397586518, 0.6408491121355782, 0.6880457294325948, 0.6786274813706512, 0.7100387024184442, 0.7069114693959376]}, {\"categories\": [\"0\", \"1\", \"2\", \"3\", \"4\", \"5\", \"6\", \"7\", \"8\", \"9\", \"10\", \"11\", \"12\", \"13\", \"14\", \"15\", \"16\", \"17\", \"18\", \"19\", \"20\", \"21\", \"22\", \"23\", \"24\"], \"mode\": \"lines\", \"name\": \"matthews_correlation_max\", \"stepped\": true, \"type\": \"scatter\", \"data\": [0.6794930277043868, 0.7098841541507539, 0.7098841541507539, 0.7098841541507539, 0.7098841541507539, 0.7098841541507539, 0.7098841541507539, 0.7098841541507539, 0.7098841541507539, 0.7098841541507539, 0.7098841541507539, 0.7098841541507539, 0.7098841541507539, 0.7098841541507539, 0.7098841541507539, 0.7098841541507539, 0.7098841541507539, 0.7098841541507539, 0.7098841541507539, 0.7098841541507539, 0.7098841541507539, 0.7098841541507539, 0.7098841541507539, 0.7100387024184442, 0.7100387024184442]}], \"average_precision_score_micro\": [{\"categories\": [\"0\", \"1\", \"2\", \"3\", \"4\", \"5\", \"6\", \"7\", \"8\", \"9\", \"10\", \"11\", \"12\", \"13\", \"14\", \"15\", \"16\", \"17\", \"18\", \"19\", \"20\", \"21\", \"22\", \"23\", \"24\"], \"mode\": \"markers\", \"name\": \"average_precision_score_micro\", \"stepped\": false, \"type\": \"scatter\", \"data\": [0.8939964730493826, 0.9061743778713387, 0.872650183567349, 0.8921626301070701, 0.8973423842471645, 0.8769300590240148, 0.8860061997580928, 0.8982710629425437, 0.8155703707632617, 0.8903083596473673, 0.9016432960047928, 0.89617564384498, 0.8892705847625579, 0.8955060597621013, 0.9003091173550988, 0.8990553107598327, 0.898358753378234, 0.8786877546626669, 0.9066514176572713, 0.8643678471295647, 0.869751180927603, 0.9005392034219692, 0.8959667775946321, 0.9082435142115668, 0.907481203808058]}, {\"categories\": [\"0\", \"1\", \"2\", \"3\", \"4\", \"5\", \"6\", \"7\", \"8\", \"9\", \"10\", \"11\", \"12\", \"13\", \"14\", \"15\", \"16\", \"17\", \"18\", \"19\", \"20\", \"21\", \"22\", \"23\", \"24\"], \"mode\": \"lines\", \"name\": \"average_precision_score_micro_max\", \"stepped\": true, \"type\": \"scatter\", \"data\": [0.8939964730493826, 0.9061743778713387, 0.9061743778713387, 0.9061743778713387, 0.9061743778713387, 0.9061743778713387, 0.9061743778713387, 0.9061743778713387, 0.9061743778713387, 0.9061743778713387, 0.9061743778713387, 0.9061743778713387, 0.9061743778713387, 0.9061743778713387, 0.9061743778713387, 0.9061743778713387, 0.9061743778713387, 0.9061743778713387, 0.9066514176572713, 0.9066514176572713, 0.9066514176572713, 0.9066514176572713, 0.9066514176572713, 0.9082435142115668, 0.9082435142115668]}], \"recall_score_macro\": [{\"categories\": [\"0\", \"1\", \"2\", \"3\", \"4\", \"5\", \"6\", \"7\", \"8\", \"9\", \"10\", \"11\", \"12\", \"13\", \"14\", \"15\", \"16\", \"17\", \"18\", \"19\", \"20\", \"21\", \"22\", \"23\", \"24\"], \"mode\": \"markers\", \"name\": \"recall_score_macro\", \"stepped\": false, \"type\": \"scatter\", \"data\": [0.8348170236840076, 0.8476041294509695, 0.815833822285278, 0.8372343707633061, 0.8373249809257586, 0.7838992179897453, 0.8135899885176181, 0.8416055275963866, 0.6115133537578047, 0.824320011131184, 0.8366746930888341, 0.8427548117442523, 0.840107923874737, 0.8391636996843054, 0.8442221465109527, 0.8403799424250136, 0.8392945398486001, 0.7707428662444183, 0.8470725196855995, 0.8102559478932019, 0.8232369084108256, 0.8343107102784156, 0.8338669231601169, 0.84685572839888, 0.8452554230195048]}, {\"categories\": [\"0\", \"1\", \"2\", \"3\", \"4\", \"5\", \"6\", \"7\", \"8\", \"9\", \"10\", \"11\", \"12\", \"13\", \"14\", \"15\", \"16\", \"17\", \"18\", \"19\", \"20\", \"21\", \"22\", \"23\", \"24\"], \"mode\": \"lines\", \"name\": \"recall_score_macro_max\", \"stepped\": true, \"type\": \"scatter\", \"data\": [0.8348170236840076, 0.8476041294509695, 0.8476041294509695, 0.8476041294509695, 0.8476041294509695, 0.8476041294509695, 0.8476041294509695, 0.8476041294509695, 0.8476041294509695, 0.8476041294509695, 0.8476041294509695, 0.8476041294509695, 0.8476041294509695, 0.8476041294509695, 0.8476041294509695, 0.8476041294509695, 0.8476041294509695, 0.8476041294509695, 0.8476041294509695, 0.8476041294509695, 0.8476041294509695, 0.8476041294509695, 0.8476041294509695, 0.8476041294509695, 0.8476041294509695]}], \"recall_score_micro\": [{\"categories\": [\"0\", \"1\", \"2\", \"3\", \"4\", \"5\", \"6\", \"7\", \"8\", \"9\", \"10\", \"11\", \"12\", \"13\", \"14\", \"15\", \"16\", \"17\", \"18\", \"19\", \"20\", \"21\", \"22\", \"23\", \"24\"], \"mode\": \"markers\", \"name\": \"recall_score_micro\", \"stepped\": false, \"type\": \"scatter\", \"data\": [0.8510199895576938, 0.8655226747221602, 0.8166722607593049, 0.8540711009174312, 0.8548379577832476, 0.8303964346982919, 0.8365312896248229, 0.8601803162527039, 0.7028371373163272, 0.8487497202953681, 0.8540664391735661, 0.8624785559782203, 0.8594134593868875, 0.8540757626612964, 0.8639959536063251, 0.8472090139479377, 0.8563646788990825, 0.8166559446557767, 0.864007607965988, 0.8044584918326247, 0.8281191728201686, 0.8556024837771314, 0.8510176586857612, 0.8655296673379579, 0.8640029462221228]}, {\"categories\": [\"0\", \"1\", \"2\", \"3\", \"4\", \"5\", \"6\", \"7\", \"8\", \"9\", \"10\", \"11\", \"12\", \"13\", \"14\", \"15\", \"16\", \"17\", \"18\", \"19\", \"20\", \"21\", \"22\", \"23\", \"24\"], \"mode\": \"lines\", \"name\": \"recall_score_micro_max\", \"stepped\": true, \"type\": \"scatter\", \"data\": [0.8510199895576938, 0.8655226747221602, 0.8655226747221602, 0.8655226747221602, 0.8655226747221602, 0.8655226747221602, 0.8655226747221602, 0.8655226747221602, 0.8655226747221602, 0.8655226747221602, 0.8655226747221602, 0.8655226747221602, 0.8655226747221602, 0.8655226747221602, 0.8655226747221602, 0.8655226747221602, 0.8655226747221602, 0.8655226747221602, 0.8655226747221602, 0.8655226747221602, 0.8655226747221602, 0.8655226747221602, 0.8655226747221602, 0.8655296673379579, 0.8655296673379579]}], \"precision_score_micro\": [{\"categories\": [\"0\", \"1\", \"2\", \"3\", \"4\", \"5\", \"6\", \"7\", \"8\", \"9\", \"10\", \"11\", \"12\", \"13\", \"14\", \"15\", \"16\", \"17\", \"18\", \"19\", \"20\", \"21\", \"22\", \"23\", \"24\"], \"mode\": \"markers\", \"name\": \"precision_score_micro\", \"stepped\": false, \"type\": \"scatter\", \"data\": [0.8510199895576938, 0.8655226747221602, 0.8166722607593049, 0.8540711009174312, 0.8548379577832476, 0.8303964346982919, 0.8365312896248229, 0.8601803162527039, 0.7028371373163272, 0.8487497202953681, 0.8540664391735661, 0.8624785559782203, 0.8594134593868875, 0.8540757626612964, 0.8639959536063251, 0.8472090139479377, 0.8563646788990825, 0.8166559446557767, 0.864007607965988, 0.8044584918326247, 0.8281191728201686, 0.8556024837771314, 0.8510176586857612, 0.8655296673379579, 0.8640029462221228]}, {\"categories\": [\"0\", \"1\", \"2\", \"3\", \"4\", \"5\", \"6\", \"7\", \"8\", \"9\", \"10\", \"11\", \"12\", \"13\", \"14\", \"15\", \"16\", \"17\", \"18\", \"19\", \"20\", \"21\", \"22\", \"23\", \"24\"], \"mode\": \"lines\", \"name\": \"precision_score_micro_max\", \"stepped\": true, \"type\": \"scatter\", \"data\": [0.8510199895576938, 0.8655226747221602, 0.8655226747221602, 0.8655226747221602, 0.8655226747221602, 0.8655226747221602, 0.8655226747221602, 0.8655226747221602, 0.8655226747221602, 0.8655226747221602, 0.8655226747221602, 0.8655226747221602, 0.8655226747221602, 0.8655226747221602, 0.8655226747221602, 0.8655226747221602, 0.8655226747221602, 0.8655226747221602, 0.8655226747221602, 0.8655226747221602, 0.8655226747221602, 0.8655226747221602, 0.8655226747221602, 0.8655296673379579, 0.8655296673379579]}], \"f1_score_macro\": [{\"categories\": [\"0\", \"1\", \"2\", \"3\", \"4\", \"5\", \"6\", \"7\", \"8\", \"9\", \"10\", \"11\", \"12\", \"13\", \"14\", \"15\", \"16\", \"17\", \"18\", \"19\", \"20\", \"21\", \"22\", \"23\", \"24\"], \"mode\": \"markers\", \"name\": \"f1_score_macro\", \"stepped\": false, \"type\": \"scatter\", \"data\": [0.8388386844344953, 0.8533324625506248, 0.8082881497845318, 0.8416846812027694, 0.8421817248195432, 0.8005284667581489, 0.8210376886746317, 0.8474900394480702, 0.5844207034518627, 0.8333753381961171, 0.8414243739991927, 0.8497146679211152, 0.8463865339412658, 0.8423891215127464, 0.8510388580597198, 0.8378079953326882, 0.8440732900409389, 0.7842730030082057, 0.8522746487756783, 0.7975372895457293, 0.8186987205159802, 0.8415743910838602, 0.8382974318350389, 0.8531624935105451, 0.8515105887380012]}, {\"categories\": [\"0\", \"1\", \"2\", \"3\", \"4\", \"5\", \"6\", \"7\", \"8\", \"9\", \"10\", \"11\", \"12\", \"13\", \"14\", \"15\", \"16\", \"17\", \"18\", \"19\", \"20\", \"21\", \"22\", \"23\", \"24\"], \"mode\": \"lines\", \"name\": \"f1_score_macro_max\", \"stepped\": true, \"type\": \"scatter\", \"data\": [0.8388386844344953, 0.8533324625506248, 0.8533324625506248, 0.8533324625506248, 0.8533324625506248, 0.8533324625506248, 0.8533324625506248, 0.8533324625506248, 0.8533324625506248, 0.8533324625506248, 0.8533324625506248, 0.8533324625506248, 0.8533324625506248, 0.8533324625506248, 0.8533324625506248, 0.8533324625506248, 0.8533324625506248, 0.8533324625506248, 0.8533324625506248, 0.8533324625506248, 0.8533324625506248, 0.8533324625506248, 0.8533324625506248, 0.8533324625506248, 0.8533324625506248]}], \"AUC_micro\": [{\"categories\": [\"0\", \"1\", \"2\", \"3\", \"4\", \"5\", \"6\", \"7\", \"8\", \"9\", \"10\", \"11\", \"12\", \"13\", \"14\", \"15\", \"16\", \"17\", \"18\", \"19\", \"20\", \"21\", \"22\", \"23\", \"24\"], \"mode\": \"markers\", \"name\": \"AUC_micro\", \"stepped\": false, \"type\": \"scatter\", \"data\": [0.9034361806651154, 0.9179008706351355, 0.8898837021219885, 0.9073901870486007, 0.9145382821703834, 0.889235108255505, 0.9021865463183679, 0.9084792288915765, 0.8193683804714882, 0.9062737937960803, 0.9128471964656266, 0.9139552945818361, 0.9053185269338349, 0.9030456492837773, 0.914932660437919, 0.9105089758190661, 0.9087192884682738, 0.8909436737829391, 0.9170670480116752, 0.8778184905321069, 0.8886181004245359, 0.9133080208821327, 0.9046220342315506, 0.9191241712968802, 0.9184973666583603]}, {\"categories\": [\"0\", \"1\", \"2\", \"3\", \"4\", \"5\", \"6\", \"7\", \"8\", \"9\", \"10\", \"11\", \"12\", \"13\", \"14\", \"15\", \"16\", \"17\", \"18\", \"19\", \"20\", \"21\", \"22\", \"23\", \"24\"], \"mode\": \"lines\", \"name\": \"AUC_micro_max\", \"stepped\": true, \"type\": \"scatter\", \"data\": [0.9034361806651154, 0.9179008706351355, 0.9179008706351355, 0.9179008706351355, 0.9179008706351355, 0.9179008706351355, 0.9179008706351355, 0.9179008706351355, 0.9179008706351355, 0.9179008706351355, 0.9179008706351355, 0.9179008706351355, 0.9179008706351355, 0.9179008706351355, 0.9179008706351355, 0.9179008706351355, 0.9179008706351355, 0.9179008706351355, 0.9179008706351355, 0.9179008706351355, 0.9179008706351355, 0.9179008706351355, 0.9179008706351355, 0.9191241712968802, 0.9191241712968802]}], \"precision_score_weighted\": [{\"categories\": [\"0\", \"1\", \"2\", \"3\", \"4\", \"5\", \"6\", \"7\", \"8\", \"9\", \"10\", \"11\", \"12\", \"13\", \"14\", \"15\", \"16\", \"17\", \"18\", \"19\", \"20\", \"21\", \"22\", \"23\", \"24\"], \"mode\": \"markers\", \"name\": \"precision_score_weighted\", \"stepped\": false, \"type\": \"scatter\", \"data\": [0.8505539613592571, 0.8655372328713085, 0.8254149019438329, 0.853609894182223, 0.8551209799602546, 0.8500238557252326, 0.836077198478016, 0.8597332035387653, 0.7830160209482134, 0.850305210138198, 0.8538512035648536, 0.8625463260982773, 0.8589261385779539, 0.8536859093442959, 0.8648419994216808, 0.8496068956674151, 0.8555454307814412, 0.8340833264970478, 0.8639705415647333, 0.8213837763141201, 0.8329982407490303, 0.8557933488883248, 0.8503998444238836, 0.8658240811364273, 0.8643971033840439]}, {\"categories\": [\"0\", \"1\", \"2\", \"3\", \"4\", \"5\", \"6\", \"7\", \"8\", \"9\", \"10\", \"11\", \"12\", \"13\", \"14\", \"15\", \"16\", \"17\", \"18\", \"19\", \"20\", \"21\", \"22\", \"23\", \"24\"], \"mode\": \"lines\", \"name\": \"precision_score_weighted_max\", \"stepped\": true, \"type\": \"scatter\", \"data\": [0.8505539613592571, 0.8655372328713085, 0.8655372328713085, 0.8655372328713085, 0.8655372328713085, 0.8655372328713085, 0.8655372328713085, 0.8655372328713085, 0.8655372328713085, 0.8655372328713085, 0.8655372328713085, 0.8655372328713085, 0.8655372328713085, 0.8655372328713085, 0.8655372328713085, 0.8655372328713085, 0.8655372328713085, 0.8655372328713085, 0.8655372328713085, 0.8655372328713085, 0.8655372328713085, 0.8655372328713085, 0.8655372328713085, 0.8658240811364273, 0.8658240811364273]}], \"f1_score_micro\": [{\"categories\": [\"0\", \"1\", \"2\", \"3\", \"4\", \"5\", \"6\", \"7\", \"8\", \"9\", \"10\", \"11\", \"12\", \"13\", \"14\", \"15\", \"16\", \"17\", \"18\", \"19\", \"20\", \"21\", \"22\", \"23\", \"24\"], \"mode\": \"markers\", \"name\": \"f1_score_micro\", \"stepped\": false, \"type\": \"scatter\", \"data\": [0.8510199895576938, 0.8655226747221602, 0.8166722607593049, 0.8540711009174312, 0.8548379577832476, 0.8303964346982919, 0.8365312896248229, 0.8601803162527039, 0.7028371373163272, 0.8487497202953681, 0.8540664391735661, 0.8624785559782203, 0.8594134593868875, 0.8540757626612964, 0.8639959536063251, 0.8472090139479377, 0.8563646788990825, 0.8166559446557767, 0.864007607965988, 0.8044584918326247, 0.8281191728201686, 0.8556024837771314, 0.8510176586857611, 0.8655296673379579, 0.8640029462221229]}, {\"categories\": [\"0\", \"1\", \"2\", \"3\", \"4\", \"5\", \"6\", \"7\", \"8\", \"9\", \"10\", \"11\", \"12\", \"13\", \"14\", \"15\", \"16\", \"17\", \"18\", \"19\", \"20\", \"21\", \"22\", \"23\", \"24\"], \"mode\": \"lines\", \"name\": \"f1_score_micro_max\", \"stepped\": true, \"type\": \"scatter\", \"data\": [0.8510199895576938, 0.8655226747221602, 0.8655226747221602, 0.8655226747221602, 0.8655226747221602, 0.8655226747221602, 0.8655226747221602, 0.8655226747221602, 0.8655226747221602, 0.8655226747221602, 0.8655226747221602, 0.8655226747221602, 0.8655226747221602, 0.8655226747221602, 0.8655226747221602, 0.8655226747221602, 0.8655226747221602, 0.8655226747221602, 0.8655226747221602, 0.8655226747221602, 0.8655226747221602, 0.8655226747221602, 0.8655226747221602, 0.8655296673379579, 0.8655296673379579]}], \"recall_score_weighted\": [{\"categories\": [\"0\", \"1\", \"2\", \"3\", \"4\", \"5\", \"6\", \"7\", \"8\", \"9\", \"10\", \"11\", \"12\", \"13\", \"14\", \"15\", \"16\", \"17\", \"18\", \"19\", \"20\", \"21\", \"22\", \"23\", \"24\"], \"mode\": \"markers\", \"name\": \"recall_score_weighted\", \"stepped\": false, \"type\": \"scatter\", \"data\": [0.8510199895576938, 0.8655226747221602, 0.8166722607593049, 0.8540711009174312, 0.8548379577832476, 0.8303964346982919, 0.8365312896248229, 0.8601803162527039, 0.7028371373163272, 0.8487497202953681, 0.8540664391735661, 0.8624785559782203, 0.8594134593868875, 0.8540757626612964, 0.8639959536063251, 0.8472090139479377, 0.8563646788990825, 0.8166559446557767, 0.864007607965988, 0.8044584918326247, 0.8281191728201686, 0.8556024837771314, 0.8510176586857612, 0.8655296673379579, 0.8640029462221228]}, {\"categories\": [\"0\", \"1\", \"2\", \"3\", \"4\", \"5\", \"6\", \"7\", \"8\", \"9\", \"10\", \"11\", \"12\", \"13\", \"14\", \"15\", \"16\", \"17\", \"18\", \"19\", \"20\", \"21\", \"22\", \"23\", \"24\"], \"mode\": \"lines\", \"name\": \"recall_score_weighted_max\", \"stepped\": true, \"type\": \"scatter\", \"data\": [0.8510199895576938, 0.8655226747221602, 0.8655226747221602, 0.8655226747221602, 0.8655226747221602, 0.8655226747221602, 0.8655226747221602, 0.8655226747221602, 0.8655226747221602, 0.8655226747221602, 0.8655226747221602, 0.8655226747221602, 0.8655226747221602, 0.8655226747221602, 0.8655226747221602, 0.8655226747221602, 0.8655226747221602, 0.8655226747221602, 0.8655226747221602, 0.8655226747221602, 0.8655226747221602, 0.8655226747221602, 0.8655226747221602, 0.8655296673379579, 0.8655296673379579]}], \"precision_score_macro\": [{\"categories\": [\"0\", \"1\", \"2\", \"3\", \"4\", \"5\", \"6\", \"7\", \"8\", \"9\", \"10\", \"11\", \"12\", \"13\", \"14\", \"15\", \"16\", \"17\", \"18\", \"19\", \"20\", \"21\", \"22\", \"23\", \"24\"], \"mode\": \"markers\", \"name\": \"precision_score_macro\", \"stepped\": false, \"type\": \"scatter\", \"data\": [0.8447898226512158, 0.8625083289962022, 0.8071279177694707, 0.8485280083161792, 0.8506701684020568, 0.8659621146556099, 0.8334671073348778, 0.8564719268329313, 0.8144081667997067, 0.8505907781853523, 0.8490624732546718, 0.860692356300625, 0.8559844671543773, 0.8472050410322771, 0.8630725879468022, 0.8369146623720366, 0.8507338607734083, 0.8465127018215433, 0.8603189117108787, 0.7985393352795324, 0.8176578738887259, 0.8541388865402023, 0.8448919607140788, 0.8634517719280447, 0.8619395957122955]}, {\"categories\": [\"0\", \"1\", \"2\", \"3\", \"4\", \"5\", \"6\", \"7\", \"8\", \"9\", \"10\", \"11\", \"12\", \"13\", \"14\", \"15\", \"16\", \"17\", \"18\", \"19\", \"20\", \"21\", \"22\", \"23\", \"24\"], \"mode\": \"lines\", \"name\": \"precision_score_macro_max\", \"stepped\": true, \"type\": \"scatter\", \"data\": [0.8447898226512158, 0.8625083289962022, 0.8625083289962022, 0.8625083289962022, 0.8625083289962022, 0.8659621146556099, 0.8659621146556099, 0.8659621146556099, 0.8659621146556099, 0.8659621146556099, 0.8659621146556099, 0.8659621146556099, 0.8659621146556099, 0.8659621146556099, 0.8659621146556099, 0.8659621146556099, 0.8659621146556099, 0.8659621146556099, 0.8659621146556099, 0.8659621146556099, 0.8659621146556099, 0.8659621146556099, 0.8659621146556099, 0.8659621146556099, 0.8659621146556099]}], \"balanced_accuracy\": [{\"categories\": [\"0\", \"1\", \"2\", \"3\", \"4\", \"5\", \"6\", \"7\", \"8\", \"9\", \"10\", \"11\", \"12\", \"13\", \"14\", \"15\", \"16\", \"17\", \"18\", \"19\", \"20\", \"21\", \"22\", \"23\", \"24\"], \"mode\": \"markers\", \"name\": \"balanced_accuracy\", \"stepped\": false, \"type\": \"scatter\", \"data\": [0.8348170236840076, 0.8476041294509695, 0.815833822285278, 0.8372343707633061, 0.8373249809257586, 0.7838992179897453, 0.8135899885176181, 0.8416055275963866, 0.6115133537578047, 0.824320011131184, 0.8366746930888341, 0.8427548117442523, 0.840107923874737, 0.8391636996843054, 0.8442221465109527, 0.8403799424250136, 0.8392945398486001, 0.7707428662444183, 0.8470725196855995, 0.8102559478932019, 0.8232369084108256, 0.8343107102784156, 0.8338669231601169, 0.84685572839888, 0.8452554230195048]}, {\"categories\": [\"0\", \"1\", \"2\", \"3\", \"4\", \"5\", \"6\", \"7\", \"8\", \"9\", \"10\", \"11\", \"12\", \"13\", \"14\", \"15\", \"16\", \"17\", \"18\", \"19\", \"20\", \"21\", \"22\", \"23\", \"24\"], \"mode\": \"lines\", \"name\": \"balanced_accuracy_max\", \"stepped\": true, \"type\": \"scatter\", \"data\": [0.8348170236840076, 0.8476041294509695, 0.8476041294509695, 0.8476041294509695, 0.8476041294509695, 0.8476041294509695, 0.8476041294509695, 0.8476041294509695, 0.8476041294509695, 0.8476041294509695, 0.8476041294509695, 0.8476041294509695, 0.8476041294509695, 0.8476041294509695, 0.8476041294509695, 0.8476041294509695, 0.8476041294509695, 0.8476041294509695, 0.8476041294509695, 0.8476041294509695, 0.8476041294509695, 0.8476041294509695, 0.8476041294509695, 0.8476041294509695, 0.8476041294509695]}], \"AUC_weighted\": [{\"categories\": [\"0\", \"1\", \"2\", \"3\", \"4\", \"5\", \"6\", \"7\", \"8\", \"9\", \"10\", \"11\", \"12\", \"13\", \"14\", \"15\", \"16\", \"17\", \"18\", \"19\", \"20\", \"21\", \"22\", \"23\", \"24\"], \"mode\": \"markers\", \"name\": \"AUC_weighted\", \"stepped\": false, \"type\": \"scatter\", \"data\": [0.8880068778961938, 0.9032478750142704, 0.8917697397444371, 0.8949006778958274, 0.9027831314503665, 0.904906892289629, 0.8886194162516496, 0.8919625290564528, 0.8800372577728011, 0.8952865388751214, 0.8961368843855722, 0.9024706453222451, 0.886711517534899, 0.890651218879405, 0.8992797089854359, 0.9022494790180362, 0.8923731039321356, 0.8936734787638498, 0.9045119305428262, 0.8840154793758457, 0.8812347098569138, 0.9015880113848893, 0.8858612633245047, 0.9049659105105279, 0.9047544309155091]}, {\"categories\": [\"0\", \"1\", \"2\", \"3\", \"4\", \"5\", \"6\", \"7\", \"8\", \"9\", \"10\", \"11\", \"12\", \"13\", \"14\", \"15\", \"16\", \"17\", \"18\", \"19\", \"20\", \"21\", \"22\", \"23\", \"24\"], \"mode\": \"lines\", \"name\": \"AUC_weighted_max\", \"stepped\": true, \"type\": \"scatter\", \"data\": [0.8880068778961938, 0.9032478750142704, 0.9032478750142704, 0.9032478750142704, 0.9032478750142704, 0.904906892289629, 0.904906892289629, 0.904906892289629, 0.904906892289629, 0.904906892289629, 0.904906892289629, 0.904906892289629, 0.904906892289629, 0.904906892289629, 0.904906892289629, 0.904906892289629, 0.904906892289629, 0.904906892289629, 0.904906892289629, 0.904906892289629, 0.904906892289629, 0.904906892289629, 0.904906892289629, 0.9049659105105279, 0.9049659105105279]}], \"average_precision_score_macro\": [{\"categories\": [\"0\", \"1\", \"2\", \"3\", \"4\", \"5\", \"6\", \"7\", \"8\", \"9\", \"10\", \"11\", \"12\", \"13\", \"14\", \"15\", \"16\", \"17\", \"18\", \"19\", \"20\", \"21\", \"22\", \"23\", \"24\"], \"mode\": \"markers\", \"name\": \"average_precision_score_macro\", \"stepped\": false, \"type\": \"scatter\", \"data\": [0.8830948285026927, 0.8937774198796251, 0.886835711554337, 0.8866946246225341, 0.8943548909681017, 0.8993958797470617, 0.8794294440775909, 0.8863369113589503, 0.869063521014178, 0.8899159948681863, 0.8897982490018904, 0.896661955732827, 0.8783860772952845, 0.8863789540434768, 0.8859694247763721, 0.895910139326759, 0.8870126991844064, 0.8905158744846204, 0.8984391436941374, 0.8666151831958049, 0.8623948997148532, 0.894882503237108, 0.881130078759382, 0.8995848947019107, 0.8993577646747198]}, {\"categories\": [\"0\", \"1\", \"2\", \"3\", \"4\", \"5\", \"6\", \"7\", \"8\", \"9\", \"10\", \"11\", \"12\", \"13\", \"14\", \"15\", \"16\", \"17\", \"18\", \"19\", \"20\", \"21\", \"22\", \"23\", \"24\"], \"mode\": \"lines\", \"name\": \"average_precision_score_macro_max\", \"stepped\": true, \"type\": \"scatter\", \"data\": [0.8830948285026927, 0.8937774198796251, 0.8937774198796251, 0.8937774198796251, 0.8943548909681017, 0.8993958797470617, 0.8993958797470617, 0.8993958797470617, 0.8993958797470617, 0.8993958797470617, 0.8993958797470617, 0.8993958797470617, 0.8993958797470617, 0.8993958797470617, 0.8993958797470617, 0.8993958797470617, 0.8993958797470617, 0.8993958797470617, 0.8993958797470617, 0.8993958797470617, 0.8993958797470617, 0.8993958797470617, 0.8993958797470617, 0.8995848947019107, 0.8995848947019107]}], \"log_loss\": [{\"categories\": [\"0\", \"1\", \"2\", \"3\", \"4\", \"5\", \"6\", \"7\", \"8\", \"9\", \"10\", \"11\", \"12\", \"13\", \"14\", \"15\", \"16\", \"17\", \"18\", \"19\", \"20\", \"21\", \"22\", \"23\", \"24\"], \"mode\": \"markers\", \"name\": \"log_loss\", \"stepped\": false, \"type\": \"scatter\", \"data\": [0.43627594159972904, 0.35489686869823506, 0.47298409809639985, 0.46775492506813937, 0.37818322236312574, 0.5045539120578046, 0.4894172131040229, 0.3765392814642766, 0.5626768434398087, 0.49941280053782844, 0.37596095612772606, 0.4777204345659192, 0.3884845015604514, 0.45902282050031734, 0.43389614159792056, 0.4036308907065992, 0.377437884456944, 0.4900134797123259, 0.37277296004178545, 0.47035498962118205, 0.487725252029449, 0.3940303947900571, 0.3938245875074639, 0.3839175559111163, 0.35644660233998715]}, {\"categories\": [\"0\", \"1\", \"2\", \"3\", \"4\", \"5\", \"6\", \"7\", \"8\", \"9\", \"10\", \"11\", \"12\", \"13\", \"14\", \"15\", \"16\", \"17\", \"18\", \"19\", \"20\", \"21\", \"22\", \"23\", \"24\"], \"mode\": \"lines\", \"name\": \"log_loss_min\", \"stepped\": true, \"type\": \"scatter\", \"data\": [0.43627594159972904, 0.35489686869823506, 0.35489686869823506, 0.35489686869823506, 0.35489686869823506, 0.35489686869823506, 0.35489686869823506, 0.35489686869823506, 0.35489686869823506, 0.35489686869823506, 0.35489686869823506, 0.35489686869823506, 0.35489686869823506, 0.35489686869823506, 0.35489686869823506, 0.35489686869823506, 0.35489686869823506, 0.35489686869823506, 0.35489686869823506, 0.35489686869823506, 0.35489686869823506, 0.35489686869823506, 0.35489686869823506, 0.35489686869823506, 0.35489686869823506]}]}, \"metricName\": null, \"primaryMetricName\": \"accuracy\", \"showLegend\": false}, \"run_metrics\": [{\"name\": \"experiment_status\", \"run_id\": \"AutoML_f4dd21ab-369c-4c4a-b740-343964146698\", \"categories\": [0, 1, 2, 3, 4, 5, 6, 7, 8, 9, 10, 11], \"series\": [{\"data\": [\"DatasetEvaluation\", \"FeaturesGeneration\", \"DatasetFeaturization\", \"DatasetFeaturizationCompleted\", \"DatasetCrossValidationSplit\", \"ModelSelection\", \"BestRunExplainModel\", \"ModelExplanationDataSetSetup\", \"PickSurrogateModel\", \"EngineeredFeatureExplanations\", \"EngineeredFeatureExplanations\", \"RawFeaturesExplanations\"]}]}, {\"name\": \"experiment_status_description\", \"run_id\": \"AutoML_f4dd21ab-369c-4c4a-b740-343964146698\", \"categories\": [0, 1, 2, 3, 4, 5, 6, 7, 8, 9, 10, 11], \"series\": [{\"data\": [\"Gathering dataset statistics.\", \"Generating features for the dataset.\", \"Beginning to fit featurizers and featurize the dataset.\", \"Completed fit featurizers and featurizing the dataset.\", \"Generating individually featurized CV splits.\", \"Beginning model selection.\", \"Best run model explanations started\", \"Model explanations data setup completed\", \"Choosing LightGBM as the surrogate model for explanations\", \"Computation of engineered features started\", \"Computation of engineered features completed\", \"Computation of raw features started\"]}]}, {\"name\": \"recall_score_micro\", \"run_id\": \"AutoML_f4dd21ab-369c-4c4a-b740-343964146698\", \"categories\": [0], \"series\": [{\"data\": [0.8655296673379579]}]}, {\"name\": \"f1_score_weighted\", \"run_id\": \"AutoML_f4dd21ab-369c-4c4a-b740-343964146698\", \"categories\": [0], \"series\": [{\"data\": [0.863922026315934]}]}, {\"name\": \"recall_score_weighted\", \"run_id\": \"AutoML_f4dd21ab-369c-4c4a-b740-343964146698\", \"categories\": [0], \"series\": [{\"data\": [0.8655296673379579]}]}, {\"name\": \"f1_score_micro\", \"run_id\": \"AutoML_f4dd21ab-369c-4c4a-b740-343964146698\", \"categories\": [0], \"series\": [{\"data\": [0.8655296673379579]}]}, {\"name\": \"log_loss\", \"run_id\": \"AutoML_f4dd21ab-369c-4c4a-b740-343964146698\", \"categories\": [0], \"series\": [{\"data\": [0.3839175559111163]}]}, {\"name\": \"precision_score_weighted\", \"run_id\": \"AutoML_f4dd21ab-369c-4c4a-b740-343964146698\", \"categories\": [0], \"series\": [{\"data\": [0.8658240811364273]}]}, {\"name\": \"weighted_accuracy\", \"run_id\": \"AutoML_f4dd21ab-369c-4c4a-b740-343964146698\", \"categories\": [0], \"series\": [{\"data\": [0.8818910571010272]}]}, {\"name\": \"AUC_weighted\", \"run_id\": \"AutoML_f4dd21ab-369c-4c4a-b740-343964146698\", \"categories\": [0], \"series\": [{\"data\": [0.9049659105105279]}]}, {\"name\": \"matthews_correlation\", \"run_id\": \"AutoML_f4dd21ab-369c-4c4a-b740-343964146698\", \"categories\": [0], \"series\": [{\"data\": [0.7100387024184442]}]}, {\"name\": \"f1_score_macro\", \"run_id\": \"AutoML_f4dd21ab-369c-4c4a-b740-343964146698\", \"categories\": [0], \"series\": [{\"data\": [0.8531624935105451]}]}, {\"name\": \"average_precision_score_weighted\", \"run_id\": \"AutoML_f4dd21ab-369c-4c4a-b740-343964146698\", \"categories\": [0], \"series\": [{\"data\": [0.9026615954361956]}]}, {\"name\": \"accuracy\", \"run_id\": \"AutoML_f4dd21ab-369c-4c4a-b740-343964146698\", \"categories\": [0], \"series\": [{\"data\": [0.8655296673379579]}]}, {\"name\": \"AUC_macro\", \"run_id\": \"AutoML_f4dd21ab-369c-4c4a-b740-343964146698\", \"categories\": [0], \"series\": [{\"data\": [0.9049659105105279]}]}, {\"name\": \"average_precision_score_macro\", \"run_id\": \"AutoML_f4dd21ab-369c-4c4a-b740-343964146698\", \"categories\": [0], \"series\": [{\"data\": [0.8995848947019107]}]}, {\"name\": \"norm_macro_recall\", \"run_id\": \"AutoML_f4dd21ab-369c-4c4a-b740-343964146698\", \"categories\": [0], \"series\": [{\"data\": [0.69371145679776]}]}, {\"name\": \"AUC_micro\", \"run_id\": \"AutoML_f4dd21ab-369c-4c4a-b740-343964146698\", \"categories\": [0], \"series\": [{\"data\": [0.9191241712968802]}]}, {\"name\": \"precision_score_micro\", \"run_id\": \"AutoML_f4dd21ab-369c-4c4a-b740-343964146698\", \"categories\": [0], \"series\": [{\"data\": [0.8655296673379579]}]}, {\"name\": \"average_precision_score_micro\", \"run_id\": \"AutoML_f4dd21ab-369c-4c4a-b740-343964146698\", \"categories\": [0], \"series\": [{\"data\": [0.9082435142115668]}]}, {\"name\": \"precision_score_macro\", \"run_id\": \"AutoML_f4dd21ab-369c-4c4a-b740-343964146698\", \"categories\": [0], \"series\": [{\"data\": [0.8634517719280447]}]}, {\"name\": \"balanced_accuracy\", \"run_id\": \"AutoML_f4dd21ab-369c-4c4a-b740-343964146698\", \"categories\": [0], \"series\": [{\"data\": [0.84685572839888]}]}, {\"name\": \"recall_score_macro\", \"run_id\": \"AutoML_f4dd21ab-369c-4c4a-b740-343964146698\", \"categories\": [0], \"series\": [{\"data\": [0.84685572839888]}]}], \"run_logs\": \"\\nRun is completed.\", \"graph\": {}, \"widget_settings\": {\"childWidgetDisplay\": \"popup\", \"send_telemetry\": false, \"log_level\": \"INFO\", \"sdk_version\": \"1.36.0\"}, \"loading\": false}"
     },
     "metadata": {},
     "output_type": "display_data"
    }
   ],
   "source": [
    "from azureml.widgets import RunDetails\n",
    "RunDetails(remote_run).show()"
   ]
  },
  {
   "cell_type": "code",
   "execution_count": null,
   "id": "a4e87d18",
   "metadata": {},
   "outputs": [],
   "source": []
  }
 ],
 "metadata": {
  "kernelspec": {
   "display_name": "Python 3",
   "language": "python",
   "name": "python3"
  },
  "language_info": {
   "codemirror_mode": {
    "name": "ipython",
    "version": 3
   },
   "file_extension": ".py",
   "mimetype": "text/x-python",
   "name": "python",
   "nbconvert_exporter": "python",
   "pygments_lexer": "ipython3",
   "version": "3.6.13"
  }
 },
 "nbformat": 4,
 "nbformat_minor": 5
}
