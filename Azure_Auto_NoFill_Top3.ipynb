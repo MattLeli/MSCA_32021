{
 "cells": [
  {
   "cell_type": "code",
   "execution_count": 1,
   "id": "4d8a9217",
   "metadata": {},
   "outputs": [],
   "source": [
    "import azureml.core\n",
    "from azureml.core import Workspace, Experiment\n",
    "from azureml.core.compute import ComputeTarget, AmlCompute\n",
    "from azureml.core.compute_target import ComputeTargetException\n",
    "from azureml.core import Dataset\n",
    "from azureml.core.experiment import Experiment\n",
    "from azureml.train.automl import AutoMLConfig\n",
    "\n",
    "import pandas as pd\n",
    "import numpy as np\n",
    "\n",
    "from datetime import datetime\n",
    "from dateutil.relativedelta import relativedelta\n",
    "from pandas import read_csv\n",
    "from numpy import set_printoptions\n",
    "from sklearn.preprocessing import MinMaxScaler\n",
    "from sklearn.model_selection import train_test_split\n",
    "from sklearn.linear_model import LogisticRegression\n",
    "\n",
    "\n",
    "import logging\n",
    "import os"
   ]
  },
  {
   "cell_type": "code",
   "execution_count": 2,
   "id": "7fe20516",
   "metadata": {},
   "outputs": [],
   "source": [
    "titanic = pd.read_csv(\"./data/titanic.csv\")"
   ]
  },
  {
   "cell_type": "code",
   "execution_count": 3,
   "id": "e78de57d",
   "metadata": {},
   "outputs": [
    {
     "data": {
      "text/html": [
       "<div>\n",
       "<style scoped>\n",
       "    .dataframe tbody tr th:only-of-type {\n",
       "        vertical-align: middle;\n",
       "    }\n",
       "\n",
       "    .dataframe tbody tr th {\n",
       "        vertical-align: top;\n",
       "    }\n",
       "\n",
       "    .dataframe thead th {\n",
       "        text-align: right;\n",
       "    }\n",
       "</style>\n",
       "<table border=\"1\" class=\"dataframe\">\n",
       "  <thead>\n",
       "    <tr style=\"text-align: right;\">\n",
       "      <th></th>\n",
       "      <th>PassengerId</th>\n",
       "      <th>Survived</th>\n",
       "      <th>Pclass</th>\n",
       "      <th>Name</th>\n",
       "      <th>Sex</th>\n",
       "      <th>Age</th>\n",
       "      <th>SibSp</th>\n",
       "      <th>Parch</th>\n",
       "      <th>Ticket</th>\n",
       "      <th>Fare</th>\n",
       "      <th>Cabin</th>\n",
       "      <th>Embarked</th>\n",
       "    </tr>\n",
       "  </thead>\n",
       "  <tbody>\n",
       "    <tr>\n",
       "      <th>0</th>\n",
       "      <td>1</td>\n",
       "      <td>0</td>\n",
       "      <td>3</td>\n",
       "      <td>Braund, Mr. Owen Harris</td>\n",
       "      <td>male</td>\n",
       "      <td>22.0</td>\n",
       "      <td>1</td>\n",
       "      <td>0</td>\n",
       "      <td>A/5 21171</td>\n",
       "      <td>7.2500</td>\n",
       "      <td>NaN</td>\n",
       "      <td>S</td>\n",
       "    </tr>\n",
       "    <tr>\n",
       "      <th>1</th>\n",
       "      <td>2</td>\n",
       "      <td>1</td>\n",
       "      <td>1</td>\n",
       "      <td>Cumings, Mrs. John Bradley (Florence Briggs Th...</td>\n",
       "      <td>female</td>\n",
       "      <td>38.0</td>\n",
       "      <td>1</td>\n",
       "      <td>0</td>\n",
       "      <td>PC 17599</td>\n",
       "      <td>71.2833</td>\n",
       "      <td>C85</td>\n",
       "      <td>C</td>\n",
       "    </tr>\n",
       "    <tr>\n",
       "      <th>2</th>\n",
       "      <td>3</td>\n",
       "      <td>1</td>\n",
       "      <td>3</td>\n",
       "      <td>Heikkinen, Miss. Laina</td>\n",
       "      <td>female</td>\n",
       "      <td>26.0</td>\n",
       "      <td>0</td>\n",
       "      <td>0</td>\n",
       "      <td>STON/O2. 3101282</td>\n",
       "      <td>7.9250</td>\n",
       "      <td>NaN</td>\n",
       "      <td>S</td>\n",
       "    </tr>\n",
       "    <tr>\n",
       "      <th>3</th>\n",
       "      <td>4</td>\n",
       "      <td>1</td>\n",
       "      <td>1</td>\n",
       "      <td>Futrelle, Mrs. Jacques Heath (Lily May Peel)</td>\n",
       "      <td>female</td>\n",
       "      <td>35.0</td>\n",
       "      <td>1</td>\n",
       "      <td>0</td>\n",
       "      <td>113803</td>\n",
       "      <td>53.1000</td>\n",
       "      <td>C123</td>\n",
       "      <td>S</td>\n",
       "    </tr>\n",
       "    <tr>\n",
       "      <th>4</th>\n",
       "      <td>5</td>\n",
       "      <td>0</td>\n",
       "      <td>3</td>\n",
       "      <td>Allen, Mr. William Henry</td>\n",
       "      <td>male</td>\n",
       "      <td>35.0</td>\n",
       "      <td>0</td>\n",
       "      <td>0</td>\n",
       "      <td>373450</td>\n",
       "      <td>8.0500</td>\n",
       "      <td>NaN</td>\n",
       "      <td>S</td>\n",
       "    </tr>\n",
       "  </tbody>\n",
       "</table>\n",
       "</div>"
      ],
      "text/plain": [
       "   PassengerId  Survived  Pclass  \\\n",
       "0            1         0       3   \n",
       "1            2         1       1   \n",
       "2            3         1       3   \n",
       "3            4         1       1   \n",
       "4            5         0       3   \n",
       "\n",
       "                                                Name     Sex   Age  SibSp  \\\n",
       "0                            Braund, Mr. Owen Harris    male  22.0      1   \n",
       "1  Cumings, Mrs. John Bradley (Florence Briggs Th...  female  38.0      1   \n",
       "2                             Heikkinen, Miss. Laina  female  26.0      0   \n",
       "3       Futrelle, Mrs. Jacques Heath (Lily May Peel)  female  35.0      1   \n",
       "4                           Allen, Mr. William Henry    male  35.0      0   \n",
       "\n",
       "   Parch            Ticket     Fare Cabin Embarked  \n",
       "0      0         A/5 21171   7.2500   NaN        S  \n",
       "1      0          PC 17599  71.2833   C85        C  \n",
       "2      0  STON/O2. 3101282   7.9250   NaN        S  \n",
       "3      0            113803  53.1000  C123        S  \n",
       "4      0            373450   8.0500   NaN        S  "
      ]
     },
     "execution_count": 3,
     "metadata": {},
     "output_type": "execute_result"
    }
   ],
   "source": [
    "titanic.head()"
   ]
  },
  {
   "cell_type": "code",
   "execution_count": 4,
   "id": "0df25dfa",
   "metadata": {},
   "outputs": [],
   "source": [
    "df = titanic.drop(['PassengerId', 'Name', 'Ticket', 'Cabin','Age','SibSp','Parch','Embarked'], axis=1)\n",
    "\n",
    "df.to_csv(\"./data/prepped_titanic.csv\",index=False)"
   ]
  },
  {
   "cell_type": "code",
   "execution_count": 5,
   "id": "d135ecab",
   "metadata": {},
   "outputs": [
    {
     "data": {
      "text/html": [
       "<div>\n",
       "<style scoped>\n",
       "    .dataframe tbody tr th:only-of-type {\n",
       "        vertical-align: middle;\n",
       "    }\n",
       "\n",
       "    .dataframe tbody tr th {\n",
       "        vertical-align: top;\n",
       "    }\n",
       "\n",
       "    .dataframe thead th {\n",
       "        text-align: right;\n",
       "    }\n",
       "</style>\n",
       "<table border=\"1\" class=\"dataframe\">\n",
       "  <thead>\n",
       "    <tr style=\"text-align: right;\">\n",
       "      <th></th>\n",
       "      <th>Survived</th>\n",
       "      <th>Pclass</th>\n",
       "      <th>Sex</th>\n",
       "      <th>Fare</th>\n",
       "    </tr>\n",
       "  </thead>\n",
       "  <tbody>\n",
       "    <tr>\n",
       "      <th>0</th>\n",
       "      <td>0</td>\n",
       "      <td>3</td>\n",
       "      <td>male</td>\n",
       "      <td>7.2500</td>\n",
       "    </tr>\n",
       "    <tr>\n",
       "      <th>1</th>\n",
       "      <td>1</td>\n",
       "      <td>1</td>\n",
       "      <td>female</td>\n",
       "      <td>71.2833</td>\n",
       "    </tr>\n",
       "    <tr>\n",
       "      <th>2</th>\n",
       "      <td>1</td>\n",
       "      <td>3</td>\n",
       "      <td>female</td>\n",
       "      <td>7.9250</td>\n",
       "    </tr>\n",
       "    <tr>\n",
       "      <th>3</th>\n",
       "      <td>1</td>\n",
       "      <td>1</td>\n",
       "      <td>female</td>\n",
       "      <td>53.1000</td>\n",
       "    </tr>\n",
       "    <tr>\n",
       "      <th>4</th>\n",
       "      <td>0</td>\n",
       "      <td>3</td>\n",
       "      <td>male</td>\n",
       "      <td>8.0500</td>\n",
       "    </tr>\n",
       "  </tbody>\n",
       "</table>\n",
       "</div>"
      ],
      "text/plain": [
       "   Survived  Pclass     Sex     Fare\n",
       "0         0       3    male   7.2500\n",
       "1         1       1  female  71.2833\n",
       "2         1       3  female   7.9250\n",
       "3         1       1  female  53.1000\n",
       "4         0       3    male   8.0500"
      ]
     },
     "execution_count": 5,
     "metadata": {},
     "output_type": "execute_result"
    }
   ],
   "source": [
    "df.head()"
   ]
  },
  {
   "cell_type": "code",
   "execution_count": 6,
   "id": "e4eef014",
   "metadata": {},
   "outputs": [],
   "source": [
    "ws = Workspace.from_config()"
   ]
  },
  {
   "cell_type": "code",
   "execution_count": 7,
   "id": "3ecc5e22",
   "metadata": {},
   "outputs": [
    {
     "name": "stdout",
     "output_type": "stream",
     "text": [
      "Uploading an estimated of 1 files\n",
      "Uploading ./data/prepped_titanic.csv\n",
      "Uploaded ./data/prepped_titanic.csv, 1 files out of an estimated total of 1\n",
      "Uploaded 1 files\n"
     ]
    }
   ],
   "source": [
    "def_blob_store = ws.get_default_datastore()\n",
    "def_blob_store.upload_files([\"./data/prepped_titanic.csv\"], target_path=\"data\", overwrite=True)\n",
    "titanic_data = Dataset.Tabular.from_delimited_files(def_blob_store.path('./data/prepped_titanic.csv'))\n",
    "titanic_data = titanic_data.register(ws, 'titanic_data',create_new_version=True)"
   ]
  },
  {
   "cell_type": "code",
   "execution_count": 8,
   "id": "0940e6aa",
   "metadata": {},
   "outputs": [
    {
     "name": "stdout",
     "output_type": "stream",
     "text": [
      "found existing compute target.\n",
      "Azure Machine Learning Compute attached\n"
     ]
    }
   ],
   "source": [
    "aml_compute_target = \"mdl-cluster\"\n",
    "try:\n",
    "    aml_compute = AmlCompute(ws, aml_compute_target)\n",
    "    print(\"found existing compute target.\")\n",
    "except ComputeTargetException:\n",
    "    print(\"creating new compute target\")\n",
    "    \n",
    "    provisioning_config = AmlCompute.provisioning_configuration(vm_size = \"STANDARD_D2_V2\",\n",
    "                                                                min_nodes = 0, \n",
    "                                                                max_nodes = 1)    \n",
    "    aml_compute = ComputeTarget.create(ws, aml_compute_target, provisioning_config)\n",
    "    aml_compute.wait_for_completion(show_output=True, min_node_count=None, timeout_in_minutes=20)\n",
    "    \n",
    "print(\"Azure Machine Learning Compute attached\")"
   ]
  },
  {
   "cell_type": "code",
   "execution_count": 9,
   "id": "f819ec40",
   "metadata": {},
   "outputs": [],
   "source": [
    "automl_settings = {\n",
    "    \"iteration_timeout_minutes\": 1,\n",
    "    \"iterations\": 25,\n",
    "    \"primary_metric\": 'accuracy',\n",
    "    \"featurization\": 'auto',\n",
    "    \"verbosity\": logging.INFO,\n",
    "    \"n_cross_validations\": 4\n",
    "}"
   ]
  },
  {
   "cell_type": "code",
   "execution_count": 10,
   "id": "c5bff6c4",
   "metadata": {},
   "outputs": [],
   "source": [
    "automl_config = AutoMLConfig(task = 'classification',\n",
    "                             path = './data',\n",
    "                             debug_log = 'automated_ml_errors.log',\n",
    "                             compute_target = aml_compute_target,\n",
    "                             training_data = titanic_data,\n",
    "                             enable_early_stopping = False,\n",
    "                             label_column_name = 'Survived',\n",
    "                             **automl_settings)"
   ]
  },
  {
   "cell_type": "code",
   "execution_count": 11,
   "id": "ac507abf",
   "metadata": {},
   "outputs": [
    {
     "name": "stdout",
     "output_type": "stream",
     "text": [
      "Submitting remote run.\n",
      "No run_configuration provided, running on mdl-cluster with default configuration\n",
      "Running on remote compute: mdl-cluster\n"
     ]
    },
    {
     "data": {
      "text/html": [
       "<table style=\"width:100%\"><tr><th>Experiment</th><th>Id</th><th>Type</th><th>Status</th><th>Details Page</th><th>Docs Page</th></tr><tr><td>titanic-experiment-auto-prepped</td><td>AutoML_185e2162-c1dd-4cfc-9492-52ecc1932188</td><td>automl</td><td>NotStarted</td><td><a href=\"https://ml.azure.com/runs/AutoML_185e2162-c1dd-4cfc-9492-52ecc1932188?wsid=/subscriptions/d674bf87-325c-409a-a63f-001d9725b99e/resourcegroups/mdl_ml_pipeline/workspaces/mdl_ml_ops&amp;tid=83b02c92-5f26-48ed-9e5b-6c2fca46a8e6\" target=\"_blank\" rel=\"noopener\">Link to Azure Machine Learning studio</a></td><td><a href=\"https://docs.microsoft.com/en-us/python/api/overview/azure/ml/intro?view=azure-ml-py\" target=\"_blank\" rel=\"noopener\">Link to Documentation</a></td></tr></table>"
      ],
      "text/plain": [
       "<IPython.core.display.HTML object>"
      ]
     },
     "metadata": {},
     "output_type": "display_data"
    },
    {
     "name": "stdout",
     "output_type": "stream",
     "text": [
      "\n",
      "Current status: FeaturesGeneration. Generating features for the dataset.\n",
      "Current status: DatasetCrossValidationSplit. Generating individually featurized CV splits.\n",
      "Current status: ModelSelection. Beginning model selection.\n",
      "\n",
      "****************************************************************************************************\n",
      "DATA GUARDRAILS: \n",
      "\n",
      "TYPE:         Class balancing detection\n",
      "STATUS:       PASSED\n",
      "DESCRIPTION:  Your inputs were analyzed, and all classes are balanced in your training data.\n",
      "              Learn more about imbalanced data: https://aka.ms/AutomatedMLImbalancedData\n",
      "\n",
      "****************************************************************************************************\n",
      "\n",
      "TYPE:         Missing feature values imputation\n",
      "STATUS:       DONE\n",
      "DESCRIPTION:  If the missing values are expected, let the run complete. Otherwise cancel the current run and use a script to customize the handling of missing feature values that may be more appropriate based on the data type and business requirement.\n",
      "              Learn more about missing value imputation: https://aka.ms/AutomatedMLFeaturization\n",
      "DETAILS:      \n",
      "+---------------------------------+---------------------------------+---------------------------------+\n",
      "|Column name                      |Missing value count              |Imputation type                  |\n",
      "+=================================+=================================+=================================+\n",
      "|Fare                             |1                                |mean                             |\n",
      "+---------------------------------+---------------------------------+---------------------------------+\n",
      "\n",
      "****************************************************************************************************\n",
      "\n",
      "TYPE:         High cardinality feature detection\n",
      "STATUS:       PASSED\n",
      "DESCRIPTION:  Your inputs were analyzed, and no high cardinality features were detected.\n",
      "              Learn more about high cardinality feature handling: https://aka.ms/AutomatedMLFeaturization\n",
      "\n",
      "****************************************************************************************************\n",
      "\n",
      "****************************************************************************************************\n",
      "ITERATION: The iteration being evaluated.\n",
      "PIPELINE: A summary description of the pipeline being evaluated.\n",
      "DURATION: Time taken for the current iteration.\n",
      "METRIC: The result of computing score on the fitted pipeline.\n",
      "BEST: The best observed score thus far.\n",
      "****************************************************************************************************\n",
      "\n",
      " ITERATION   PIPELINE                                       DURATION      METRIC      BEST\n",
      "         0   MaxAbsScaler LightGBM                          0:01:50       0.8663    0.8663\n",
      "         1   MaxAbsScaler XGBoostClassifier                 0:02:02       0.8609    0.8663\n",
      "         2   MaxAbsScaler ExtremeRandomTrees                0:02:03       0.8548    0.8663\n",
      "         3   SparseNormalizer XGBoostClassifier             0:02:03       0.8632    0.8663\n",
      "         4   MaxAbsScaler LightGBM                          0:01:52       0.8556    0.8663\n",
      "         5   MaxAbsScaler LightGBM                          0:01:59       0.8609    0.8663\n",
      "         6   StandardScalerWrapper XGBoostClassifier        0:01:59       0.8503    0.8663\n",
      "         7   MaxAbsScaler LogisticRegression                0:02:01       0.8548    0.8663\n",
      "         8   StandardScalerWrapper ExtremeRandomTrees       0:01:58       0.8655    0.8663\n",
      "         9   StandardScalerWrapper XGBoostClassifier        0:02:00       0.8480    0.8663\n",
      "        10   SparseNormalizer LightGBM                      0:01:56       0.8594    0.8663\n",
      "        11   StandardScalerWrapper XGBoostClassifier        0:02:03       0.8594    0.8663\n",
      "        12   MaxAbsScaler LogisticRegression                0:01:58       0.8548    0.8663\n",
      "        13   MaxAbsScaler SGD                               0:02:03       0.8548    0.8663\n",
      "        14   StandardScalerWrapper XGBoostClassifier        0:01:56       0.8640    0.8663\n",
      "        15   SparseNormalizer RandomForest                  0:02:05       0.8548    0.8663\n",
      "        16   StandardScalerWrapper LogisticRegression       0:01:52       0.8548    0.8663\n",
      "        17   StandardScalerWrapper RandomForest             0:02:07       0.8579    0.8663\n",
      "        18   StandardScalerWrapper XGBoostClassifier        0:01:51       0.8617    0.8663\n",
      "        19   TruncatedSVDWrapper RandomForest               0:02:01       0.8449    0.8663\n",
      "        20   TruncatedSVDWrapper RandomForest               0:02:03       0.8464    0.8663\n",
      "        21   StandardScalerWrapper XGBoostClassifier        0:01:55       0.8128    0.8663\n",
      "        22   StandardScalerWrapper LightGBM                 0:02:04       0.8426    0.8663\n",
      "        23    VotingEnsemble                                0:02:05       0.8663    0.8663\n",
      "        24    StackEnsemble                                 0:01:59       0.8602    0.8663\n"
     ]
    }
   ],
   "source": [
    "experiment = Experiment(ws, \"titanic-experiment-auto-prepped\")\n",
    "remote_run = experiment.submit(automl_config, show_output=True)"
   ]
  },
  {
   "cell_type": "code",
   "execution_count": 12,
   "id": "109f2c46",
   "metadata": {},
   "outputs": [
    {
     "data": {
      "application/vnd.jupyter.widget-view+json": {
       "model_id": "6a342a6ff3ca49cda0a9c266ba2a5d0e",
       "version_major": 2,
       "version_minor": 0
      },
      "text/plain": [
       "_AutoMLWidget(widget_settings={'childWidgetDisplay': 'popup', 'send_telemetry': False, 'log_level': 'INFO', 's…"
      ]
     },
     "metadata": {},
     "output_type": "display_data"
    },
    {
     "data": {
      "application/aml.mini.widget.v1": "{\"status\": \"Completed\", \"workbench_run_details_uri\": \"https://ml.azure.com/runs/AutoML_185e2162-c1dd-4cfc-9492-52ecc1932188?wsid=/subscriptions/d674bf87-325c-409a-a63f-001d9725b99e/resourcegroups/mdl_ml_pipeline/workspaces/mdl_ml_ops&tid=83b02c92-5f26-48ed-9e5b-6c2fca46a8e6\", \"run_id\": \"AutoML_185e2162-c1dd-4cfc-9492-52ecc1932188\", \"run_properties\": {\"run_id\": \"AutoML_185e2162-c1dd-4cfc-9492-52ecc1932188\", \"created_utc\": \"2021-11-18T02:32:13.699041Z\", \"properties\": {\"num_iterations\": \"25\", \"training_type\": \"TrainFull\", \"acquisition_function\": \"EI\", \"primary_metric\": \"accuracy\", \"train_split\": \"0\", \"acquisition_parameter\": \"0\", \"num_cross_validation\": \"4\", \"target\": \"mdl-cluster\", \"AMLSettingsJsonString\": \"{\\\"path\\\":null,\\\"name\\\":\\\"titanic-experiment-auto-prepped\\\",\\\"subscription_id\\\":\\\"d674bf87-325c-409a-a63f-001d9725b99e\\\",\\\"resource_group\\\":\\\"mdl_ml_pipeline\\\",\\\"workspace_name\\\":\\\"mdl_ml_ops\\\",\\\"region\\\":\\\"eastus\\\",\\\"compute_target\\\":\\\"mdl-cluster\\\",\\\"spark_service\\\":null,\\\"azure_service\\\":\\\"remote\\\",\\\"many_models\\\":false,\\\"pipeline_fetch_max_batch_size\\\":1,\\\"enable_batch_run\\\":false,\\\"enable_run_restructure\\\":false,\\\"start_auxiliary_runs_before_parent_complete\\\":false,\\\"enable_code_generation\\\":false,\\\"iterations\\\":25,\\\"primary_metric\\\":\\\"accuracy\\\",\\\"task_type\\\":\\\"classification\\\",\\\"positive_label\\\":null,\\\"data_script\\\":null,\\\"test_size\\\":0.0,\\\"test_include_predictions_only\\\":false,\\\"validation_size\\\":0.0,\\\"n_cross_validations\\\":4,\\\"y_min\\\":null,\\\"y_max\\\":null,\\\"num_classes\\\":null,\\\"featurization\\\":\\\"auto\\\",\\\"_ignore_package_version_incompatibilities\\\":false,\\\"is_timeseries\\\":false,\\\"max_cores_per_iteration\\\":1,\\\"max_concurrent_iterations\\\":1,\\\"iteration_timeout_minutes\\\":1,\\\"mem_in_mb\\\":null,\\\"enforce_time_on_windows\\\":false,\\\"experiment_timeout_minutes\\\":8640,\\\"experiment_exit_score\\\":null,\\\"whitelist_models\\\":null,\\\"blacklist_algos\\\":[\\\"TensorFlowLinearClassifier\\\",\\\"TensorFlowDNN\\\"],\\\"supported_models\\\":[\\\"SGD\\\",\\\"GradientBoosting\\\",\\\"ExtremeRandomTrees\\\",\\\"BernoulliNaiveBayes\\\",\\\"MultinomialNaiveBayes\\\",\\\"KNN\\\",\\\"TensorFlowDNN\\\",\\\"LinearSVM\\\",\\\"DecisionTree\\\",\\\"AveragedPerceptronClassifier\\\",\\\"TensorFlowLinearClassifier\\\",\\\"SVM\\\",\\\"RandomForest\\\",\\\"LightGBM\\\",\\\"LogisticRegression\\\",\\\"XGBoostClassifier\\\"],\\\"private_models\\\":[\\\"TabnetClassifier\\\"],\\\"auto_blacklist\\\":true,\\\"blacklist_samples_reached\\\":false,\\\"exclude_nan_labels\\\":true,\\\"verbosity\\\":20,\\\"_debug_log\\\":\\\"azureml_automl.log\\\",\\\"show_warnings\\\":false,\\\"model_explainability\\\":true,\\\"service_url\\\":null,\\\"sdk_url\\\":null,\\\"sdk_packages\\\":null,\\\"enable_onnx_compatible_models\\\":false,\\\"enable_split_onnx_featurizer_estimator_models\\\":false,\\\"vm_type\\\":\\\"STANDARD_D2_V2\\\",\\\"telemetry_verbosity\\\":20,\\\"send_telemetry\\\":true,\\\"enable_dnn\\\":false,\\\"scenario\\\":\\\"SDK-1.13.0\\\",\\\"environment_label\\\":null,\\\"save_mlflow\\\":false,\\\"enable_categorical_indicators\\\":false,\\\"force_text_dnn\\\":false,\\\"enable_feature_sweeping\\\":true,\\\"enable_early_stopping\\\":false,\\\"early_stopping_n_iters\\\":10,\\\"arguments\\\":null,\\\"dataset_id\\\":null,\\\"hyperdrive_config\\\":null,\\\"validation_dataset_id\\\":null,\\\"run_source\\\":null,\\\"metrics\\\":null,\\\"enable_metric_confidence\\\":false,\\\"enable_ensembling\\\":true,\\\"enable_stack_ensembling\\\":true,\\\"ensemble_iterations\\\":15,\\\"enable_tf\\\":false,\\\"enable_subsampling\\\":false,\\\"subsample_seed\\\":null,\\\"enable_nimbusml\\\":false,\\\"enable_streaming\\\":false,\\\"force_streaming\\\":false,\\\"track_child_runs\\\":true,\\\"allowed_private_models\\\":[],\\\"label_column_name\\\":\\\"Survived\\\",\\\"weight_column_name\\\":null,\\\"cv_split_column_names\\\":null,\\\"enable_local_managed\\\":false,\\\"_local_managed_run_id\\\":null,\\\"cost_mode\\\":1,\\\"lag_length\\\":0,\\\"metric_operation\\\":\\\"maximize\\\",\\\"preprocess\\\":true}\", \"DataPrepJsonString\": \"{\\\\\\\"training_data\\\\\\\": {\\\\\\\"datasetId\\\\\\\": \\\\\\\"d0748ca9-0eba-4920-8ce2-c93619fc7d58\\\\\\\"}, \\\\\\\"datasets\\\\\\\": 0}\", \"EnableSubsampling\": \"False\", \"runTemplate\": \"AutoML\", \"azureml.runsource\": \"automl\", \"display_task_type\": \"classification\", \"dependencies_versions\": \"{\\\"azureml-widgets\\\": \\\"1.35.0\\\", \\\"azureml-train-restclients-hyperdrive\\\": \\\"1.35.0\\\", \\\"azureml-train-core\\\": \\\"1.35.0\\\", \\\"azureml-train-automl-runtime\\\": \\\"1.35.1\\\", \\\"azureml-train-automl-client\\\": \\\"1.35.0\\\", \\\"azureml-telemetry\\\": \\\"1.35.0\\\", \\\"azureml-sdk\\\": \\\"1.35.0\\\", \\\"azureml-responsibleai\\\": \\\"1.36.0\\\", \\\"azureml-pipeline\\\": \\\"1.35.0\\\", \\\"azureml-pipeline-steps\\\": \\\"1.35.0\\\", \\\"azureml-pipeline-core\\\": \\\"1.35.0\\\", \\\"azureml-mlflow\\\": \\\"1.35.0\\\", \\\"azureml-interpret\\\": \\\"1.36.0\\\", \\\"azureml-inference-server-http\\\": \\\"0.3.2\\\", \\\"azureml-defaults\\\": \\\"1.35.0\\\", \\\"azureml-dataset-runtime\\\": \\\"1.36.0\\\", \\\"azureml-dataprep\\\": \\\"2.24.3\\\", \\\"azureml-dataprep-rslex\\\": \\\"2.0.3\\\", \\\"azureml-dataprep-native\\\": \\\"38.0.0\\\", \\\"azureml-core\\\": \\\"1.36.0.post2\\\", \\\"azureml-contrib-notebook\\\": \\\"1.35.0\\\", \\\"azureml-automl-runtime\\\": \\\"1.35.1\\\", \\\"azureml-automl-core\\\": \\\"1.35.1\\\"}\", \"_aml_system_scenario_identification\": \"Remote.Parent\", \"ClientType\": \"SDK\", \"environment_cpu_name\": \"AzureML-AutoML\", \"environment_cpu_label\": \"prod\", \"environment_gpu_name\": \"AzureML-AutoML-GPU\", \"environment_gpu_label\": \"prod\", \"root_attribution\": \"automl\", \"attribution\": \"AutoML\", \"Orchestrator\": \"AutoML\", \"CancelUri\": \"https://eastus.api.azureml.ms/jasmine/v1.0/subscriptions/d674bf87-325c-409a-a63f-001d9725b99e/resourceGroups/mdl_ml_pipeline/providers/Microsoft.MachineLearningServices/workspaces/mdl_ml_ops/experimentids/9c97eaef-8db1-4ceb-ba57-fbb5a1db42d8/cancel/AutoML_185e2162-c1dd-4cfc-9492-52ecc1932188\", \"ClientSdkVersion\": \"1.35.1\", \"snapshotId\": \"00000000-0000-0000-0000-000000000000\", \"SetupRunId\": \"AutoML_185e2162-c1dd-4cfc-9492-52ecc1932188_setup\", \"SetupRunContainerId\": \"dcid.AutoML_185e2162-c1dd-4cfc-9492-52ecc1932188_setup\", \"FeaturizationRunJsonPath\": \"featurizer_container.json\", \"FeaturizationRunId\": \"AutoML_185e2162-c1dd-4cfc-9492-52ecc1932188_featurize\", \"ProblemInfoJsonString\": \"{\\\"dataset_num_categorical\\\": 0, \\\"is_sparse\\\": true, \\\"subsampling\\\": false, \\\"has_extra_col\\\": true, \\\"dataset_classes\\\": 2, \\\"dataset_features\\\": 5, \\\"dataset_samples\\\": 1309, \\\"single_frequency_class_detected\\\": false}\", \"ModelExplainRunId\": \"AutoML_185e2162-c1dd-4cfc-9492-52ecc1932188_ModelExplain\"}, \"tags\": {\"model_explain_run\": \"best_run\", \"_aml_system_azureml.automlComponent\": \"AutoML\", \"pipeline_id\": \"\", \"score\": \"\", \"predicted_cost\": \"\", \"fit_time\": \"\", \"training_percent\": \"\", \"iteration\": \"\", \"run_preprocessor\": \"\", \"run_algorithm\": \"\", \"automl_best_child_run_id\": \"AutoML_185e2162-c1dd-4cfc-9492-52ecc1932188_0\", \"model_explain_best_run_child_id\": \"AutoML_185e2162-c1dd-4cfc-9492-52ecc1932188_0\"}, \"end_time_utc\": \"2021-11-18T03:25:46.787286Z\", \"status\": \"Completed\", \"log_files\": {}, \"log_groups\": [], \"run_duration\": \"0:53:33\", \"run_number\": \"148\", \"run_queued_details\": {\"status\": \"Completed\", \"details\": null}}, \"child_runs\": [{\"run_id\": \"AutoML_185e2162-c1dd-4cfc-9492-52ecc1932188_setup\", \"run_number\": 149, \"metric\": null, \"status\": \"Completed\", \"run_type\": \"azureml.scriptrun\", \"training_percent\": null, \"start_time\": \"2021-11-18T02:32:26.41543Z\", \"end_time\": \"2021-11-18T02:33:01.168014Z\", \"created_time\": \"2021-11-18T02:32:26.41543Z\", \"created_time_dt\": \"2021-11-18T02:32:26.41543Z\", \"duration\": \"0:00:34\", \"iteration\": null, \"goal\": null, \"run_name\": \"Completed\", \"run_properties\": null}, {\"run_id\": \"AutoML_185e2162-c1dd-4cfc-9492-52ecc1932188_featurize\", \"run_number\": 150, \"metric\": null, \"status\": \"Completed\", \"run_type\": \"automl.featurization\", \"training_percent\": null, \"start_time\": \"2021-11-18T02:33:02.147326Z\", \"end_time\": \"2021-11-18T02:35:13.946125Z\", \"created_time\": \"2021-11-18T02:33:01.722501Z\", \"created_time_dt\": \"2021-11-18T02:33:01.722501Z\", \"duration\": \"0:02:12\", \"iteration\": null, \"goal\": null, \"run_name\": \"Completed\", \"run_properties\": null}, {\"run_id\": \"AutoML_185e2162-c1dd-4cfc-9492-52ecc1932188_0\", \"run_number\": 152, \"metric\": null, \"status\": \"Completed\", \"run_type\": \"azureml.scriptrun\", \"training_percent\": \"100\", \"start_time\": \"2021-11-18T02:35:14.422539Z\", \"end_time\": \"2021-11-18T02:37:04.706481Z\", \"created_time\": \"2021-11-18T02:35:14.422539Z\", \"created_time_dt\": \"2021-11-18T02:35:14.422539Z\", \"duration\": \"0:01:50\", \"iteration\": \"0\", \"goal\": \"accuracy_max\", \"run_name\": \"MaxAbsScaler, LightGBM\", \"run_properties\": \"copy=True\", \"primary_metric\": 0.86629652, \"best_metric\": 0.86629652}, {\"run_id\": \"AutoML_185e2162-c1dd-4cfc-9492-52ecc1932188_1\", \"run_number\": 153, \"metric\": null, \"status\": \"Completed\", \"run_type\": \"azureml.scriptrun\", \"training_percent\": \"100\", \"start_time\": \"2021-11-18T02:37:05.656225Z\", \"end_time\": \"2021-11-18T02:39:07.373077Z\", \"created_time\": \"2021-11-18T02:37:05.656225Z\", \"created_time_dt\": \"2021-11-18T02:37:05.656225Z\", \"duration\": \"0:02:01\", \"iteration\": \"1\", \"goal\": \"accuracy_max\", \"run_name\": \"MaxAbsScaler, XGBoostClassifier\", \"run_properties\": \"copy=True\", \"primary_metric\": 0.86093319, \"best_metric\": 0.86629652}, {\"run_id\": \"AutoML_185e2162-c1dd-4cfc-9492-52ecc1932188_2\", \"run_number\": 154, \"metric\": null, \"status\": \"Completed\", \"run_type\": \"azureml.scriptrun\", \"training_percent\": \"100\", \"start_time\": \"2021-11-18T02:39:08.680954Z\", \"end_time\": \"2021-11-18T02:41:11.719125Z\", \"created_time\": \"2021-11-18T02:39:08.680954Z\", \"created_time_dt\": \"2021-11-18T02:39:08.680954Z\", \"duration\": \"0:02:03\", \"iteration\": \"2\", \"goal\": \"accuracy_max\", \"run_name\": \"MaxAbsScaler, ExtremeRandomTrees\", \"run_properties\": \"copy=True\", \"primary_metric\": 0.85483796, \"best_metric\": 0.86629652}, {\"run_id\": \"AutoML_185e2162-c1dd-4cfc-9492-52ecc1932188_3\", \"run_number\": 155, \"metric\": null, \"status\": \"Completed\", \"run_type\": \"azureml.scriptrun\", \"training_percent\": \"100\", \"start_time\": \"2021-11-18T02:41:14.276362Z\", \"end_time\": \"2021-11-18T02:43:17.749614Z\", \"created_time\": \"2021-11-18T02:41:14.276362Z\", \"created_time_dt\": \"2021-11-18T02:41:14.276362Z\", \"duration\": \"0:02:03\", \"iteration\": \"3\", \"goal\": \"accuracy_max\", \"run_name\": \"SparseNormalizer, XGBoostClassifier\", \"run_properties\": \"copy=True, norm='l2'\", \"primary_metric\": 0.86322677, \"best_metric\": 0.86629652}, {\"run_id\": \"AutoML_185e2162-c1dd-4cfc-9492-52ecc1932188_4\", \"run_number\": 156, \"metric\": null, \"status\": \"Completed\", \"run_type\": \"azureml.scriptrun\", \"training_percent\": \"100\", \"start_time\": \"2021-11-18T02:43:19.746941Z\", \"end_time\": \"2021-11-18T02:45:11.262517Z\", \"created_time\": \"2021-11-18T02:43:19.746941Z\", \"created_time_dt\": \"2021-11-18T02:43:19.746941Z\", \"duration\": \"0:01:51\", \"iteration\": \"4\", \"goal\": \"accuracy_max\", \"run_name\": \"MaxAbsScaler, LightGBM\", \"run_properties\": \"copy=True\", \"primary_metric\": 0.85560248, \"best_metric\": 0.86629652}, {\"run_id\": \"AutoML_185e2162-c1dd-4cfc-9492-52ecc1932188_5\", \"run_number\": 157, \"metric\": null, \"status\": \"Completed\", \"run_type\": \"azureml.scriptrun\", \"training_percent\": \"100\", \"start_time\": \"2021-11-18T02:45:13.197037Z\", \"end_time\": \"2021-11-18T02:47:12.083919Z\", \"created_time\": \"2021-11-18T02:45:13.197037Z\", \"created_time_dt\": \"2021-11-18T02:45:13.197037Z\", \"duration\": \"0:01:58\", \"iteration\": \"5\", \"goal\": \"accuracy_max\", \"run_name\": \"MaxAbsScaler, LightGBM\", \"run_properties\": \"copy=True\", \"primary_metric\": 0.86094251, \"best_metric\": 0.86629652}, {\"run_id\": \"AutoML_185e2162-c1dd-4cfc-9492-52ecc1932188_6\", \"run_number\": 158, \"metric\": null, \"status\": \"Completed\", \"run_type\": \"azureml.scriptrun\", \"training_percent\": \"100\", \"start_time\": \"2021-11-18T02:47:14.036466Z\", \"end_time\": \"2021-11-18T02:49:12.696031Z\", \"created_time\": \"2021-11-18T02:47:14.036466Z\", \"created_time_dt\": \"2021-11-18T02:47:14.036466Z\", \"duration\": \"0:01:58\", \"iteration\": \"6\", \"goal\": \"accuracy_max\", \"run_name\": \"StandardScalerWrapper, XGBoostClassifier\", \"run_properties\": \"\\n    copy=True,\\n    with_mean=False,\\n    with_std=False\\n\", \"primary_metric\": 0.85025779, \"best_metric\": 0.86629652}, {\"run_id\": \"AutoML_185e2162-c1dd-4cfc-9492-52ecc1932188_7\", \"run_number\": 159, \"metric\": null, \"status\": \"Completed\", \"run_type\": \"azureml.scriptrun\", \"training_percent\": \"100\", \"start_time\": \"2021-11-18T02:49:14.776473Z\", \"end_time\": \"2021-11-18T02:51:15.600632Z\", \"created_time\": \"2021-11-18T02:49:14.776473Z\", \"created_time_dt\": \"2021-11-18T02:49:14.776473Z\", \"duration\": \"0:02:00\", \"iteration\": \"7\", \"goal\": \"accuracy_max\", \"run_name\": \"MaxAbsScaler, LogisticRegression\", \"run_properties\": \"copy=True\", \"primary_metric\": 0.85483796, \"best_metric\": 0.86629652}, {\"run_id\": \"AutoML_185e2162-c1dd-4cfc-9492-52ecc1932188_8\", \"run_number\": 160, \"metric\": null, \"status\": \"Completed\", \"run_type\": \"azureml.scriptrun\", \"training_percent\": \"100\", \"start_time\": \"2021-11-18T02:51:17.898231Z\", \"end_time\": \"2021-11-18T02:53:15.509777Z\", \"created_time\": \"2021-11-18T02:51:17.898231Z\", \"created_time_dt\": \"2021-11-18T02:51:17.898231Z\", \"duration\": \"0:01:57\", \"iteration\": \"8\", \"goal\": \"accuracy_max\", \"run_name\": \"StandardScalerWrapper, ExtremeRandomTrees\", \"run_properties\": \"\\n    copy=True,\\n    with_mean=False,\\n    with_std=False\\n\", \"primary_metric\": 0.86552034, \"best_metric\": 0.86629652}, {\"run_id\": \"AutoML_185e2162-c1dd-4cfc-9492-52ecc1932188_9\", \"run_number\": 161, \"metric\": null, \"status\": \"Completed\", \"run_type\": \"azureml.scriptrun\", \"training_percent\": \"100\", \"start_time\": \"2021-11-18T02:53:17.363662Z\", \"end_time\": \"2021-11-18T02:55:17.223776Z\", \"created_time\": \"2021-11-18T02:53:17.363662Z\", \"created_time_dt\": \"2021-11-18T02:53:17.363662Z\", \"duration\": \"0:01:59\", \"iteration\": \"9\", \"goal\": \"accuracy_max\", \"run_name\": \"StandardScalerWrapper, XGBoostClassifier\", \"run_properties\": \"\\n    copy=True,\\n    with_mean=False,\\n    with_std=False\\n\", \"primary_metric\": 0.84797354, \"best_metric\": 0.86629652}, {\"run_id\": \"AutoML_185e2162-c1dd-4cfc-9492-52ecc1932188_10\", \"run_number\": 162, \"metric\": null, \"status\": \"Completed\", \"run_type\": \"azureml.scriptrun\", \"training_percent\": \"100\", \"start_time\": \"2021-11-18T02:55:22.055525Z\", \"end_time\": \"2021-11-18T02:57:18.535204Z\", \"created_time\": \"2021-11-18T02:55:22.055525Z\", \"created_time_dt\": \"2021-11-18T02:55:22.055525Z\", \"duration\": \"0:01:56\", \"iteration\": \"10\", \"goal\": \"accuracy_max\", \"run_name\": \"SparseNormalizer, LightGBM\", \"run_properties\": \"copy=True, norm='l1'\", \"primary_metric\": 0.8594088, \"best_metric\": 0.86629652}, {\"run_id\": \"AutoML_185e2162-c1dd-4cfc-9492-52ecc1932188_11\", \"run_number\": 163, \"metric\": null, \"status\": \"Completed\", \"run_type\": \"azureml.scriptrun\", \"training_percent\": \"100\", \"start_time\": \"2021-11-18T02:57:20.334106Z\", \"end_time\": \"2021-11-18T02:59:22.917282Z\", \"created_time\": \"2021-11-18T02:57:20.334106Z\", \"created_time_dt\": \"2021-11-18T02:57:20.334106Z\", \"duration\": \"0:02:02\", \"iteration\": \"11\", \"goal\": \"accuracy_max\", \"run_name\": \"StandardScalerWrapper, XGBoostClassifier\", \"run_properties\": \"\\n    copy=True,\\n    with_mean=False,\\n    with_std=False\\n\", \"primary_metric\": 0.8594088, \"best_metric\": 0.86629652}, {\"run_id\": \"AutoML_185e2162-c1dd-4cfc-9492-52ecc1932188_12\", \"run_number\": 164, \"metric\": null, \"status\": \"Completed\", \"run_type\": \"azureml.scriptrun\", \"training_percent\": \"100\", \"start_time\": \"2021-11-18T02:59:25.148522Z\", \"end_time\": \"2021-11-18T03:01:22.991067Z\", \"created_time\": \"2021-11-18T02:59:25.148522Z\", \"created_time_dt\": \"2021-11-18T02:59:25.148522Z\", \"duration\": \"0:01:57\", \"iteration\": \"12\", \"goal\": \"accuracy_max\", \"run_name\": \"MaxAbsScaler, LogisticRegression\", \"run_properties\": \"copy=True\", \"primary_metric\": 0.85483796, \"best_metric\": 0.86629652}, {\"run_id\": \"AutoML_185e2162-c1dd-4cfc-9492-52ecc1932188_13\", \"run_number\": 165, \"metric\": null, \"status\": \"Completed\", \"run_type\": \"azureml.scriptrun\", \"training_percent\": \"100\", \"start_time\": \"2021-11-18T03:01:24.765531Z\", \"end_time\": \"2021-11-18T03:03:27.345017Z\", \"created_time\": \"2021-11-18T03:01:24.765531Z\", \"created_time_dt\": \"2021-11-18T03:01:24.765531Z\", \"duration\": \"0:02:02\", \"iteration\": \"13\", \"goal\": \"accuracy_max\", \"run_name\": \"MaxAbsScaler, SGD\", \"run_properties\": \"copy=True\", \"primary_metric\": 0.85483796, \"best_metric\": 0.86629652}, {\"run_id\": \"AutoML_185e2162-c1dd-4cfc-9492-52ecc1932188_14\", \"run_number\": 166, \"metric\": null, \"status\": \"Completed\", \"run_type\": \"azureml.scriptrun\", \"training_percent\": \"100\", \"start_time\": \"2021-11-18T03:03:29.112213Z\", \"end_time\": \"2021-11-18T03:05:25.516153Z\", \"created_time\": \"2021-11-18T03:03:29.112213Z\", \"created_time_dt\": \"2021-11-18T03:03:29.112213Z\", \"duration\": \"0:01:56\", \"iteration\": \"14\", \"goal\": \"accuracy_max\", \"run_name\": \"StandardScalerWrapper, XGBoostClassifier\", \"run_properties\": \"\\n    copy=True,\\n    with_mean=False,\\n    with_std=False\\n\", \"primary_metric\": 0.86399129, \"best_metric\": 0.86629652}, {\"run_id\": \"AutoML_185e2162-c1dd-4cfc-9492-52ecc1932188_15\", \"run_number\": 167, \"metric\": null, \"status\": \"Completed\", \"run_type\": \"azureml.scriptrun\", \"training_percent\": \"100\", \"start_time\": \"2021-11-18T03:05:27.412895Z\", \"end_time\": \"2021-11-18T03:07:32.611897Z\", \"created_time\": \"2021-11-18T03:05:27.412895Z\", \"created_time_dt\": \"2021-11-18T03:05:27.412895Z\", \"duration\": \"0:02:05\", \"iteration\": \"15\", \"goal\": \"accuracy_max\", \"run_name\": \"SparseNormalizer, RandomForest\", \"run_properties\": \"copy=True, norm='l2'\", \"primary_metric\": 0.85482863, \"best_metric\": 0.86629652}, {\"run_id\": \"AutoML_185e2162-c1dd-4cfc-9492-52ecc1932188_16\", \"run_number\": 168, \"metric\": null, \"status\": \"Completed\", \"run_type\": \"azureml.scriptrun\", \"training_percent\": \"100\", \"start_time\": \"2021-11-18T03:07:34.572272Z\", \"end_time\": \"2021-11-18T03:09:26.49669Z\", \"created_time\": \"2021-11-18T03:07:34.572272Z\", \"created_time_dt\": \"2021-11-18T03:07:34.572272Z\", \"duration\": \"0:01:51\", \"iteration\": \"16\", \"goal\": \"accuracy_max\", \"run_name\": \"StandardScalerWrapper, LogisticRegression\", \"run_properties\": \"\\n    copy=True,\\n    with_mean=False,\\n    with_std=False\\n\", \"primary_metric\": 0.85483796, \"best_metric\": 0.86629652}, {\"run_id\": \"AutoML_185e2162-c1dd-4cfc-9492-52ecc1932188_17\", \"run_number\": 169, \"metric\": null, \"status\": \"Completed\", \"run_type\": \"azureml.scriptrun\", \"training_percent\": \"100\", \"start_time\": \"2021-11-18T03:09:28.319476Z\", \"end_time\": \"2021-11-18T03:11:35.760471Z\", \"created_time\": \"2021-11-18T03:09:28.319476Z\", \"created_time_dt\": \"2021-11-18T03:09:28.319476Z\", \"duration\": \"0:02:07\", \"iteration\": \"17\", \"goal\": \"accuracy_max\", \"run_name\": \"StandardScalerWrapper, RandomForest\", \"run_properties\": \"\\n    copy=True,\\n    with_mean=False,\\n    with_std=False\\n\", \"primary_metric\": 0.85788907, \"best_metric\": 0.86629652}, {\"run_id\": \"AutoML_185e2162-c1dd-4cfc-9492-52ecc1932188_18\", \"run_number\": 170, \"metric\": null, \"status\": \"Completed\", \"run_type\": \"azureml.scriptrun\", \"training_percent\": \"100\", \"start_time\": \"2021-11-18T03:11:37.646165Z\", \"end_time\": \"2021-11-18T03:13:28.206791Z\", \"created_time\": \"2021-11-18T03:11:37.646165Z\", \"created_time_dt\": \"2021-11-18T03:11:37.646165Z\", \"duration\": \"0:01:50\", \"iteration\": \"18\", \"goal\": \"accuracy_max\", \"run_name\": \"StandardScalerWrapper, XGBoostClassifier\", \"run_properties\": \"\\n    copy=True,\\n    with_mean=False,\\n    with_std=False\\n\", \"primary_metric\": 0.86170937, \"best_metric\": 0.86629652}, {\"run_id\": \"AutoML_185e2162-c1dd-4cfc-9492-52ecc1932188_19\", \"run_number\": 171, \"metric\": null, \"status\": \"Completed\", \"run_type\": \"azureml.scriptrun\", \"training_percent\": \"100\", \"start_time\": \"2021-11-18T03:13:30.030104Z\", \"end_time\": \"2021-11-18T03:15:31.437855Z\", \"created_time\": \"2021-11-18T03:13:30.030104Z\", \"created_time_dt\": \"2021-11-18T03:13:30.030104Z\", \"duration\": \"0:02:01\", \"iteration\": \"19\", \"goal\": \"accuracy_max\", \"run_name\": \"TruncatedSVDWrapper, RandomForest\", \"run_properties\": \"n_components=0.8015789473684211, random_state=None\", \"primary_metric\": 0.84491544, \"best_metric\": 0.86629652}, {\"run_id\": \"AutoML_185e2162-c1dd-4cfc-9492-52ecc1932188_20\", \"run_number\": 172, \"metric\": null, \"status\": \"Completed\", \"run_type\": \"azureml.scriptrun\", \"training_percent\": \"100\", \"start_time\": \"2021-11-18T03:15:33.424127Z\", \"end_time\": \"2021-11-18T03:17:36.710624Z\", \"created_time\": \"2021-11-18T03:15:33.424127Z\", \"created_time_dt\": \"2021-11-18T03:15:33.424127Z\", \"duration\": \"0:02:03\", \"iteration\": \"20\", \"goal\": \"accuracy_max\", \"run_name\": \"TruncatedSVDWrapper, RandomForest\", \"run_properties\": \"n_components=0.7026315789473684, random_state=None\", \"primary_metric\": 0.8464305, \"best_metric\": 0.86629652}, {\"run_id\": \"AutoML_185e2162-c1dd-4cfc-9492-52ecc1932188_21\", \"run_number\": 173, \"metric\": null, \"status\": \"Completed\", \"run_type\": \"azureml.scriptrun\", \"training_percent\": \"100\", \"start_time\": \"2021-11-18T03:17:38.499732Z\", \"end_time\": \"2021-11-18T03:19:33.851373Z\", \"created_time\": \"2021-11-18T03:17:38.499732Z\", \"created_time_dt\": \"2021-11-18T03:17:38.499732Z\", \"duration\": \"0:01:55\", \"iteration\": \"21\", \"goal\": \"accuracy_max\", \"run_name\": \"StandardScalerWrapper, XGBoostClassifier\", \"run_properties\": \"\\n    copy=True,\\n    with_mean=False,\\n    with_std=False\\n\", \"primary_metric\": 0.81283565, \"best_metric\": 0.86629652}, {\"run_id\": \"AutoML_185e2162-c1dd-4cfc-9492-52ecc1932188_22\", \"run_number\": 174, \"metric\": null, \"status\": \"Completed\", \"run_type\": \"azureml.scriptrun\", \"training_percent\": \"100\", \"start_time\": \"2021-11-18T03:19:35.583882Z\", \"end_time\": \"2021-11-18T03:21:39.234776Z\", \"created_time\": \"2021-11-18T03:19:35.583882Z\", \"created_time_dt\": \"2021-11-18T03:19:35.583882Z\", \"duration\": \"0:02:03\", \"iteration\": \"22\", \"goal\": \"accuracy_max\", \"run_name\": \"StandardScalerWrapper, LightGBM\", \"run_properties\": \"\\n    copy=True,\\n    with_mean=False,\\n    with_std=True\\n\", \"primary_metric\": 0.8426172, \"best_metric\": 0.86629652}, {\"run_id\": \"AutoML_185e2162-c1dd-4cfc-9492-52ecc1932188_23\", \"run_number\": 175, \"metric\": null, \"status\": \"Completed\", \"run_type\": \"azureml.scriptrun\", \"training_percent\": \"100\", \"start_time\": \"2021-11-18T03:21:40.319405Z\", \"end_time\": \"2021-11-18T03:23:45.315528Z\", \"created_time\": \"2021-11-18T03:21:40.319405Z\", \"created_time_dt\": \"2021-11-18T03:21:40.319405Z\", \"duration\": \"0:02:04\", \"iteration\": \"23\", \"goal\": \"accuracy_max\", \"run_name\": \"VotingEnsemble\", \"run_properties\": \"\\n    estimators=[('0', Pipeline(\\n        memory=None,\\n        steps=[('maxabsscaler', MaxAbsScaler(\\n            copy=True\\n        \", \"primary_metric\": 0.86628021, \"best_metric\": 0.86629652}, {\"run_id\": \"AutoML_185e2162-c1dd-4cfc-9492-52ecc1932188_24\", \"run_number\": 176, \"metric\": null, \"status\": \"Completed\", \"run_type\": \"azureml.scriptrun\", \"training_percent\": \"100\", \"start_time\": \"2021-11-18T03:23:46.211837Z\", \"end_time\": \"2021-11-18T03:25:44.968717Z\", \"created_time\": \"2021-11-18T03:23:46.211837Z\", \"created_time_dt\": \"2021-11-18T03:23:46.211837Z\", \"duration\": \"0:01:58\", \"iteration\": \"24\", \"goal\": \"accuracy_max\", \"run_name\": \"StackEnsemble\", \"run_properties\": \"\\n    base_learners=[('0', Pipeline(\\n        memory=None,\\n        steps=[('maxabsscaler', MaxAbsScaler(\\n            copy=True\\n        \", \"primary_metric\": 0.86017799, \"best_metric\": 0.86629652}], \"children_metrics\": {\"categories\": [0], \"series\": {\"accuracy\": [{\"categories\": [\"0\", \"1\", \"2\", \"3\", \"4\", \"5\", \"6\", \"7\", \"8\", \"9\", \"10\", \"11\", \"12\", \"13\", \"14\", \"15\", \"16\", \"17\", \"18\", \"19\", \"20\", \"21\", \"22\", \"23\", \"24\"], \"mode\": \"markers\", \"name\": \"accuracy\", \"stepped\": false, \"type\": \"scatter\", \"data\": [0.8662965242037742, 0.8609331878869247, 0.8548379577832476, 0.8632267658685762, 0.8556024837771313, 0.860942511374655, 0.8502577944357426, 0.8548379577832476, 0.8655203438502276, 0.8479735399418213, 0.8594087976430224, 0.8594087976430224, 0.8548379577832476, 0.8548379577832476, 0.8639912918624599, 0.8548286342955174, 0.8548379577832476, 0.857889069142985, 0.8617093682404713, 0.8449154359662863, 0.8464305027224583, 0.8128356455582905, 0.8426171962407697, 0.8662802081002462, 0.8601779853807713]}, {\"categories\": [\"0\", \"1\", \"2\", \"3\", \"4\", \"5\", \"6\", \"7\", \"8\", \"9\", \"10\", \"11\", \"12\", \"13\", \"14\", \"15\", \"16\", \"17\", \"18\", \"19\", \"20\", \"21\", \"22\", \"23\", \"24\"], \"mode\": \"lines\", \"name\": \"accuracy_max\", \"stepped\": true, \"type\": \"scatter\", \"data\": [0.8662965242037742, 0.8662965242037742, 0.8662965242037742, 0.8662965242037742, 0.8662965242037742, 0.8662965242037742, 0.8662965242037742, 0.8662965242037742, 0.8662965242037742, 0.8662965242037742, 0.8662965242037742, 0.8662965242037742, 0.8662965242037742, 0.8662965242037742, 0.8662965242037742, 0.8662965242037742, 0.8662965242037742, 0.8662965242037742, 0.8662965242037742, 0.8662965242037742, 0.8662965242037742, 0.8662965242037742, 0.8662965242037742, 0.8662965242037742, 0.8662965242037742]}], \"AUC_micro\": [{\"categories\": [\"0\", \"1\", \"2\", \"3\", \"4\", \"5\", \"6\", \"7\", \"8\", \"9\", \"10\", \"11\", \"12\", \"13\", \"14\", \"15\", \"16\", \"17\", \"18\", \"19\", \"20\", \"21\", \"22\", \"23\", \"24\"], \"mode\": \"markers\", \"name\": \"AUC_micro\", \"stepped\": false, \"type\": \"scatter\", \"data\": [0.9117484218588792, 0.9181678972717746, 0.8991018988150298, 0.9079310123593397, 0.908547870696872, 0.8984145125644313, 0.91281487011271, 0.8983870081626214, 0.8993999386789268, 0.9018705961019968, 0.9101776204116374, 0.9086945704163633, 0.8984290921622847, 0.8972524233908756, 0.9126649677044246, 0.9097648263738557, 0.8984337681622474, 0.9106020474683998, 0.9188705783590666, 0.8926221228916116, 0.9043568936157547, 0.8925481609758773, 0.8974406911088445, 0.9173122106193027, 0.9171291349024822]}, {\"categories\": [\"0\", \"1\", \"2\", \"3\", \"4\", \"5\", \"6\", \"7\", \"8\", \"9\", \"10\", \"11\", \"12\", \"13\", \"14\", \"15\", \"16\", \"17\", \"18\", \"19\", \"20\", \"21\", \"22\", \"23\", \"24\"], \"mode\": \"lines\", \"name\": \"AUC_micro_max\", \"stepped\": true, \"type\": \"scatter\", \"data\": [0.9117484218588792, 0.9181678972717746, 0.9181678972717746, 0.9181678972717746, 0.9181678972717746, 0.9181678972717746, 0.9181678972717746, 0.9181678972717746, 0.9181678972717746, 0.9181678972717746, 0.9181678972717746, 0.9181678972717746, 0.9181678972717746, 0.9181678972717746, 0.9181678972717746, 0.9181678972717746, 0.9181678972717746, 0.9181678972717746, 0.9188705783590666, 0.9188705783590666, 0.9188705783590666, 0.9188705783590666, 0.9188705783590666, 0.9188705783590666, 0.9188705783590666]}], \"log_loss\": [{\"categories\": [\"0\", \"1\", \"2\", \"3\", \"4\", \"5\", \"6\", \"7\", \"8\", \"9\", \"10\", \"11\", \"12\", \"13\", \"14\", \"15\", \"16\", \"17\", \"18\", \"19\", \"20\", \"21\", \"22\", \"23\", \"24\"], \"mode\": \"markers\", \"name\": \"log_loss\", \"stepped\": false, \"type\": \"scatter\", \"data\": [0.3822281740218023, 0.36041969911516614, 0.4252722074797095, 0.4585975351053767, 0.3897408482598251, 0.47764769788999717, 0.4891971398984719, 0.3856546597660997, 0.42446276347016176, 0.5081208907880501, 0.3795590899935796, 0.48677817319994976, 0.38588647723238584, 0.41790982201580623, 0.4391563073716397, 0.3782521776958975, 0.38587959094195967, 0.3786715216679072, 0.38260822549037254, 0.43010313324417215, 0.4923194589283226, 0.4598072646279521, 0.45795542431656094, 0.4066658823551324, 0.3625297576483921]}, {\"categories\": [\"0\", \"1\", \"2\", \"3\", \"4\", \"5\", \"6\", \"7\", \"8\", \"9\", \"10\", \"11\", \"12\", \"13\", \"14\", \"15\", \"16\", \"17\", \"18\", \"19\", \"20\", \"21\", \"22\", \"23\", \"24\"], \"mode\": \"lines\", \"name\": \"log_loss_min\", \"stepped\": true, \"type\": \"scatter\", \"data\": [0.3822281740218023, 0.36041969911516614, 0.36041969911516614, 0.36041969911516614, 0.36041969911516614, 0.36041969911516614, 0.36041969911516614, 0.36041969911516614, 0.36041969911516614, 0.36041969911516614, 0.36041969911516614, 0.36041969911516614, 0.36041969911516614, 0.36041969911516614, 0.36041969911516614, 0.36041969911516614, 0.36041969911516614, 0.36041969911516614, 0.36041969911516614, 0.36041969911516614, 0.36041969911516614, 0.36041969911516614, 0.36041969911516614, 0.36041969911516614, 0.36041969911516614]}], \"recall_score_micro\": [{\"categories\": [\"0\", \"1\", \"2\", \"3\", \"4\", \"5\", \"6\", \"7\", \"8\", \"9\", \"10\", \"11\", \"12\", \"13\", \"14\", \"15\", \"16\", \"17\", \"18\", \"19\", \"20\", \"21\", \"22\", \"23\", \"24\"], \"mode\": \"markers\", \"name\": \"recall_score_micro\", \"stepped\": false, \"type\": \"scatter\", \"data\": [0.8662965242037742, 0.8609331878869247, 0.8548379577832476, 0.8632267658685762, 0.8556024837771313, 0.860942511374655, 0.8502577944357426, 0.8548379577832476, 0.8655203438502276, 0.8479735399418213, 0.8594087976430224, 0.8594087976430224, 0.8548379577832476, 0.8548379577832476, 0.8639912918624599, 0.8548286342955174, 0.8548379577832476, 0.857889069142985, 0.8617093682404713, 0.8449154359662863, 0.8464305027224583, 0.8128356455582905, 0.8426171962407697, 0.8662802081002462, 0.8601779853807713]}, {\"categories\": [\"0\", \"1\", \"2\", \"3\", \"4\", \"5\", \"6\", \"7\", \"8\", \"9\", \"10\", \"11\", \"12\", \"13\", \"14\", \"15\", \"16\", \"17\", \"18\", \"19\", \"20\", \"21\", \"22\", \"23\", \"24\"], \"mode\": \"lines\", \"name\": \"recall_score_micro_max\", \"stepped\": true, \"type\": \"scatter\", \"data\": [0.8662965242037742, 0.8662965242037742, 0.8662965242037742, 0.8662965242037742, 0.8662965242037742, 0.8662965242037742, 0.8662965242037742, 0.8662965242037742, 0.8662965242037742, 0.8662965242037742, 0.8662965242037742, 0.8662965242037742, 0.8662965242037742, 0.8662965242037742, 0.8662965242037742, 0.8662965242037742, 0.8662965242037742, 0.8662965242037742, 0.8662965242037742, 0.8662965242037742, 0.8662965242037742, 0.8662965242037742, 0.8662965242037742, 0.8662965242037742, 0.8662965242037742]}], \"precision_score_micro\": [{\"categories\": [\"0\", \"1\", \"2\", \"3\", \"4\", \"5\", \"6\", \"7\", \"8\", \"9\", \"10\", \"11\", \"12\", \"13\", \"14\", \"15\", \"16\", \"17\", \"18\", \"19\", \"20\", \"21\", \"22\", \"23\", \"24\"], \"mode\": \"markers\", \"name\": \"precision_score_micro\", \"stepped\": false, \"type\": \"scatter\", \"data\": [0.8662965242037742, 0.8609331878869247, 0.8548379577832476, 0.8632267658685762, 0.8556024837771313, 0.860942511374655, 0.8502577944357426, 0.8548379577832476, 0.8655203438502276, 0.8479735399418213, 0.8594087976430224, 0.8594087976430224, 0.8548379577832476, 0.8548379577832476, 0.8639912918624599, 0.8548286342955174, 0.8548379577832476, 0.857889069142985, 0.8617093682404713, 0.8449154359662863, 0.8464305027224583, 0.8128356455582905, 0.8426171962407697, 0.8662802081002462, 0.8601779853807713]}, {\"categories\": [\"0\", \"1\", \"2\", \"3\", \"4\", \"5\", \"6\", \"7\", \"8\", \"9\", \"10\", \"11\", \"12\", \"13\", \"14\", \"15\", \"16\", \"17\", \"18\", \"19\", \"20\", \"21\", \"22\", \"23\", \"24\"], \"mode\": \"lines\", \"name\": \"precision_score_micro_max\", \"stepped\": true, \"type\": \"scatter\", \"data\": [0.8662965242037742, 0.8662965242037742, 0.8662965242037742, 0.8662965242037742, 0.8662965242037742, 0.8662965242037742, 0.8662965242037742, 0.8662965242037742, 0.8662965242037742, 0.8662965242037742, 0.8662965242037742, 0.8662965242037742, 0.8662965242037742, 0.8662965242037742, 0.8662965242037742, 0.8662965242037742, 0.8662965242037742, 0.8662965242037742, 0.8662965242037742, 0.8662965242037742, 0.8662965242037742, 0.8662965242037742, 0.8662965242037742, 0.8662965242037742, 0.8662965242037742]}], \"average_precision_score_weighted\": [{\"categories\": [\"0\", \"1\", \"2\", \"3\", \"4\", \"5\", \"6\", \"7\", \"8\", \"9\", \"10\", \"11\", \"12\", \"13\", \"14\", \"15\", \"16\", \"17\", \"18\", \"19\", \"20\", \"21\", \"22\", \"23\", \"24\"], \"mode\": \"markers\", \"name\": \"average_precision_score_weighted\", \"stepped\": false, \"type\": \"scatter\", \"data\": [0.8935691159869874, 0.8974225917106443, 0.8899147959795504, 0.8876791755901925, 0.8871158890180628, 0.9010918794984167, 0.9049528504437827, 0.8799682582721944, 0.8819021069591391, 0.8883707826197814, 0.8916355333170697, 0.8917060301902502, 0.8799682582721944, 0.8854673227410256, 0.8838078992781137, 0.8988033600642149, 0.8799682582721944, 0.8920904140578596, 0.904310103109244, 0.8859201379727923, 0.8934759145320477, 0.8837544303166379, 0.8886751668553434, 0.9025506675450281, 0.9028354173199017]}, {\"categories\": [\"0\", \"1\", \"2\", \"3\", \"4\", \"5\", \"6\", \"7\", \"8\", \"9\", \"10\", \"11\", \"12\", \"13\", \"14\", \"15\", \"16\", \"17\", \"18\", \"19\", \"20\", \"21\", \"22\", \"23\", \"24\"], \"mode\": \"lines\", \"name\": \"average_precision_score_weighted_max\", \"stepped\": true, \"type\": \"scatter\", \"data\": [0.8935691159869874, 0.8974225917106443, 0.8974225917106443, 0.8974225917106443, 0.8974225917106443, 0.9010918794984167, 0.9049528504437827, 0.9049528504437827, 0.9049528504437827, 0.9049528504437827, 0.9049528504437827, 0.9049528504437827, 0.9049528504437827, 0.9049528504437827, 0.9049528504437827, 0.9049528504437827, 0.9049528504437827, 0.9049528504437827, 0.9049528504437827, 0.9049528504437827, 0.9049528504437827, 0.9049528504437827, 0.9049528504437827, 0.9049528504437827, 0.9049528504437827]}], \"f1_score_macro\": [{\"categories\": [\"0\", \"1\", \"2\", \"3\", \"4\", \"5\", \"6\", \"7\", \"8\", \"9\", \"10\", \"11\", \"12\", \"13\", \"14\", \"15\", \"16\", \"17\", \"18\", \"19\", \"20\", \"21\", \"22\", \"23\", \"24\"], \"mode\": \"markers\", \"name\": \"f1_score_macro\", \"stepped\": false, \"type\": \"scatter\", \"data\": [0.8550398544663596, 0.847601738606295, 0.8430533452039926, 0.8495750697521749, 0.842892109600386, 0.8464853993339465, 0.8349808182657839, 0.8430533452039926, 0.8524300552119699, 0.8328173017061935, 0.8457296619867473, 0.8435892936310394, 0.8430533452039926, 0.8430533452039926, 0.8505888023376322, 0.8433850417395937, 0.8430533452039926, 0.844206061573289, 0.8478872664677695, 0.8332488376438885, 0.8365530247501304, 0.7898374361945861, 0.8263635158326987, 0.8524298938736704, 0.8464142225236079]}, {\"categories\": [\"0\", \"1\", \"2\", \"3\", \"4\", \"5\", \"6\", \"7\", \"8\", \"9\", \"10\", \"11\", \"12\", \"13\", \"14\", \"15\", \"16\", \"17\", \"18\", \"19\", \"20\", \"21\", \"22\", \"23\", \"24\"], \"mode\": \"lines\", \"name\": \"f1_score_macro_max\", \"stepped\": true, \"type\": \"scatter\", \"data\": [0.8550398544663596, 0.8550398544663596, 0.8550398544663596, 0.8550398544663596, 0.8550398544663596, 0.8550398544663596, 0.8550398544663596, 0.8550398544663596, 0.8550398544663596, 0.8550398544663596, 0.8550398544663596, 0.8550398544663596, 0.8550398544663596, 0.8550398544663596, 0.8550398544663596, 0.8550398544663596, 0.8550398544663596, 0.8550398544663596, 0.8550398544663596, 0.8550398544663596, 0.8550398544663596, 0.8550398544663596, 0.8550398544663596, 0.8550398544663596, 0.8550398544663596]}], \"average_precision_score_micro\": [{\"categories\": [\"0\", \"1\", \"2\", \"3\", \"4\", \"5\", \"6\", \"7\", \"8\", \"9\", \"10\", \"11\", \"12\", \"13\", \"14\", \"15\", \"16\", \"17\", \"18\", \"19\", \"20\", \"21\", \"22\", \"23\", \"24\"], \"mode\": \"markers\", \"name\": \"average_precision_score_micro\", \"stepped\": false, \"type\": \"scatter\", \"data\": [0.9014020118541193, 0.9077127431346096, 0.8893056015236259, 0.8853720326077382, 0.8914305448652717, 0.8832604753149786, 0.900959540717077, 0.8839516814706188, 0.8747420037194462, 0.883949744146624, 0.8966869013190786, 0.8898472580762433, 0.8839913802702702, 0.890706102080657, 0.8971867830661413, 0.8999931443601856, 0.8839925577966168, 0.8970012300869766, 0.9072990048100071, 0.8814330972434357, 0.8909573844554554, 0.8833955094243313, 0.8798363315282091, 0.9037421029021142, 0.9047194316873314]}, {\"categories\": [\"0\", \"1\", \"2\", \"3\", \"4\", \"5\", \"6\", \"7\", \"8\", \"9\", \"10\", \"11\", \"12\", \"13\", \"14\", \"15\", \"16\", \"17\", \"18\", \"19\", \"20\", \"21\", \"22\", \"23\", \"24\"], \"mode\": \"lines\", \"name\": \"average_precision_score_micro_max\", \"stepped\": true, \"type\": \"scatter\", \"data\": [0.9014020118541193, 0.9077127431346096, 0.9077127431346096, 0.9077127431346096, 0.9077127431346096, 0.9077127431346096, 0.9077127431346096, 0.9077127431346096, 0.9077127431346096, 0.9077127431346096, 0.9077127431346096, 0.9077127431346096, 0.9077127431346096, 0.9077127431346096, 0.9077127431346096, 0.9077127431346096, 0.9077127431346096, 0.9077127431346096, 0.9077127431346096, 0.9077127431346096, 0.9077127431346096, 0.9077127431346096, 0.9077127431346096, 0.9077127431346096, 0.9077127431346096]}], \"f1_score_micro\": [{\"categories\": [\"0\", \"1\", \"2\", \"3\", \"4\", \"5\", \"6\", \"7\", \"8\", \"9\", \"10\", \"11\", \"12\", \"13\", \"14\", \"15\", \"16\", \"17\", \"18\", \"19\", \"20\", \"21\", \"22\", \"23\", \"24\"], \"mode\": \"markers\", \"name\": \"f1_score_micro\", \"stepped\": false, \"type\": \"scatter\", \"data\": [0.8662965242037742, 0.8609331878869247, 0.8548379577832476, 0.8632267658685762, 0.8556024837771313, 0.860942511374655, 0.8502577944357426, 0.8548379577832476, 0.8655203438502276, 0.8479735399418213, 0.8594087976430224, 0.8594087976430224, 0.8548379577832476, 0.8548379577832476, 0.8639912918624599, 0.8548286342955174, 0.8548379577832476, 0.857889069142985, 0.8617093682404713, 0.8449154359662863, 0.8464305027224583, 0.8128356455582905, 0.8426171962407697, 0.8662802081002462, 0.8601779853807713]}, {\"categories\": [\"0\", \"1\", \"2\", \"3\", \"4\", \"5\", \"6\", \"7\", \"8\", \"9\", \"10\", \"11\", \"12\", \"13\", \"14\", \"15\", \"16\", \"17\", \"18\", \"19\", \"20\", \"21\", \"22\", \"23\", \"24\"], \"mode\": \"lines\", \"name\": \"f1_score_micro_max\", \"stepped\": true, \"type\": \"scatter\", \"data\": [0.8662965242037742, 0.8662965242037742, 0.8662965242037742, 0.8662965242037742, 0.8662965242037742, 0.8662965242037742, 0.8662965242037742, 0.8662965242037742, 0.8662965242037742, 0.8662965242037742, 0.8662965242037742, 0.8662965242037742, 0.8662965242037742, 0.8662965242037742, 0.8662965242037742, 0.8662965242037742, 0.8662965242037742, 0.8662965242037742, 0.8662965242037742, 0.8662965242037742, 0.8662965242037742, 0.8662965242037742, 0.8662965242037742, 0.8662965242037742, 0.8662965242037742]}], \"norm_macro_recall\": [{\"categories\": [\"0\", \"1\", \"2\", \"3\", \"4\", \"5\", \"6\", \"7\", \"8\", \"9\", \"10\", \"11\", \"12\", \"13\", \"14\", \"15\", \"16\", \"17\", \"18\", \"19\", \"20\", \"21\", \"22\", \"23\", \"24\"], \"mode\": \"markers\", \"name\": \"norm_macro_recall\", \"stepped\": false, \"type\": \"scatter\", \"data\": [0.7007424128739139, 0.681047856258294, 0.6789295749707864, 0.6833778720090744, 0.6756085561245105, 0.6746800193844062, 0.6528532076942679, 0.6789295749707864, 0.6899252962714306, 0.6503494987162917, 0.6762694123170268, 0.6662930272996296, 0.6789295749707864, 0.6789295749707864, 0.6859211960728273, 0.6817583630142607, 0.6789295749707864, 0.6728057491852906, 0.6797181162070369, 0.6624828939989138, 0.6759278050141468, 0.5573746613291466, 0.6372395282789627, 0.6875667028733152, 0.6780771094031391]}, {\"categories\": [\"0\", \"1\", \"2\", \"3\", \"4\", \"5\", \"6\", \"7\", \"8\", \"9\", \"10\", \"11\", \"12\", \"13\", \"14\", \"15\", \"16\", \"17\", \"18\", \"19\", \"20\", \"21\", \"22\", \"23\", \"24\"], \"mode\": \"lines\", \"name\": \"norm_macro_recall_max\", \"stepped\": true, \"type\": \"scatter\", \"data\": [0.7007424128739139, 0.7007424128739139, 0.7007424128739139, 0.7007424128739139, 0.7007424128739139, 0.7007424128739139, 0.7007424128739139, 0.7007424128739139, 0.7007424128739139, 0.7007424128739139, 0.7007424128739139, 0.7007424128739139, 0.7007424128739139, 0.7007424128739139, 0.7007424128739139, 0.7007424128739139, 0.7007424128739139, 0.7007424128739139, 0.7007424128739139, 0.7007424128739139, 0.7007424128739139, 0.7007424128739139, 0.7007424128739139, 0.7007424128739139, 0.7007424128739139]}], \"recall_score_weighted\": [{\"categories\": [\"0\", \"1\", \"2\", \"3\", \"4\", \"5\", \"6\", \"7\", \"8\", \"9\", \"10\", \"11\", \"12\", \"13\", \"14\", \"15\", \"16\", \"17\", \"18\", \"19\", \"20\", \"21\", \"22\", \"23\", \"24\"], \"mode\": \"markers\", \"name\": \"recall_score_weighted\", \"stepped\": false, \"type\": \"scatter\", \"data\": [0.8662965242037742, 0.8609331878869247, 0.8548379577832476, 0.8632267658685762, 0.8556024837771313, 0.860942511374655, 0.8502577944357426, 0.8548379577832476, 0.8655203438502276, 0.8479735399418213, 0.8594087976430224, 0.8594087976430224, 0.8548379577832476, 0.8548379577832476, 0.8639912918624599, 0.8548286342955174, 0.8548379577832476, 0.857889069142985, 0.8617093682404713, 0.8449154359662863, 0.8464305027224583, 0.8128356455582905, 0.8426171962407697, 0.8662802081002462, 0.8601779853807713]}, {\"categories\": [\"0\", \"1\", \"2\", \"3\", \"4\", \"5\", \"6\", \"7\", \"8\", \"9\", \"10\", \"11\", \"12\", \"13\", \"14\", \"15\", \"16\", \"17\", \"18\", \"19\", \"20\", \"21\", \"22\", \"23\", \"24\"], \"mode\": \"lines\", \"name\": \"recall_score_weighted_max\", \"stepped\": true, \"type\": \"scatter\", \"data\": [0.8662965242037742, 0.8662965242037742, 0.8662965242037742, 0.8662965242037742, 0.8662965242037742, 0.8662965242037742, 0.8662965242037742, 0.8662965242037742, 0.8662965242037742, 0.8662965242037742, 0.8662965242037742, 0.8662965242037742, 0.8662965242037742, 0.8662965242037742, 0.8662965242037742, 0.8662965242037742, 0.8662965242037742, 0.8662965242037742, 0.8662965242037742, 0.8662965242037742, 0.8662965242037742, 0.8662965242037742, 0.8662965242037742, 0.8662965242037742, 0.8662965242037742]}], \"f1_score_weighted\": [{\"categories\": [\"0\", \"1\", \"2\", \"3\", \"4\", \"5\", \"6\", \"7\", \"8\", \"9\", \"10\", \"11\", \"12\", \"13\", \"14\", \"15\", \"16\", \"17\", \"18\", \"19\", \"20\", \"21\", \"22\", \"23\", \"24\"], \"mode\": \"markers\", \"name\": \"f1_score_weighted\", \"stepped\": false, \"type\": \"scatter\", \"data\": [0.8651763593372059, 0.8589668022516692, 0.8538738372702354, 0.8610178252897853, 0.8541088758787776, 0.8582848108977844, 0.8475113771442586, 0.8538738372702354, 0.8635533005747347, 0.845226439021608, 0.8572775668620493, 0.856093439780625, 0.8538738372702354, 0.8538738372702354, 0.861900748044965, 0.8540760793804288, 0.8538738372702354, 0.855761542675836, 0.8593870918952924, 0.8442368480551677, 0.8465287213416575, 0.8069481767878738, 0.8394478639417103, 0.8638799983265345, 0.8579649891822526]}, {\"categories\": [\"0\", \"1\", \"2\", \"3\", \"4\", \"5\", \"6\", \"7\", \"8\", \"9\", \"10\", \"11\", \"12\", \"13\", \"14\", \"15\", \"16\", \"17\", \"18\", \"19\", \"20\", \"21\", \"22\", \"23\", \"24\"], \"mode\": \"lines\", \"name\": \"f1_score_weighted_max\", \"stepped\": true, \"type\": \"scatter\", \"data\": [0.8651763593372059, 0.8651763593372059, 0.8651763593372059, 0.8651763593372059, 0.8651763593372059, 0.8651763593372059, 0.8651763593372059, 0.8651763593372059, 0.8651763593372059, 0.8651763593372059, 0.8651763593372059, 0.8651763593372059, 0.8651763593372059, 0.8651763593372059, 0.8651763593372059, 0.8651763593372059, 0.8651763593372059, 0.8651763593372059, 0.8651763593372059, 0.8651763593372059, 0.8651763593372059, 0.8651763593372059, 0.8651763593372059, 0.8651763593372059, 0.8651763593372059]}], \"AUC_weighted\": [{\"categories\": [\"0\", \"1\", \"2\", \"3\", \"4\", \"5\", \"6\", \"7\", \"8\", \"9\", \"10\", \"11\", \"12\", \"13\", \"14\", \"15\", \"16\", \"17\", \"18\", \"19\", \"20\", \"21\", \"22\", \"23\", \"24\"], \"mode\": \"markers\", \"name\": \"AUC_weighted\", \"stepped\": false, \"type\": \"scatter\", \"data\": [0.894464806618027, 0.9026749092104079, 0.8929370351571556, 0.8953442666200723, 0.8939496173539538, 0.9041431430118936, 0.9047262708740185, 0.8820153336441342, 0.8876918315462039, 0.8906569650039846, 0.8954369153393512, 0.8970390041348872, 0.8820153336441342, 0.885639868791521, 0.893288340511558, 0.9002970270214938, 0.8820153336441342, 0.8966461565115189, 0.907572751813257, 0.8895029512562346, 0.8969050160739299, 0.8851368943687092, 0.8897982434746099, 0.904151365699396, 0.9040939244999647]}, {\"categories\": [\"0\", \"1\", \"2\", \"3\", \"4\", \"5\", \"6\", \"7\", \"8\", \"9\", \"10\", \"11\", \"12\", \"13\", \"14\", \"15\", \"16\", \"17\", \"18\", \"19\", \"20\", \"21\", \"22\", \"23\", \"24\"], \"mode\": \"lines\", \"name\": \"AUC_weighted_max\", \"stepped\": true, \"type\": \"scatter\", \"data\": [0.894464806618027, 0.9026749092104079, 0.9026749092104079, 0.9026749092104079, 0.9026749092104079, 0.9041431430118936, 0.9047262708740185, 0.9047262708740185, 0.9047262708740185, 0.9047262708740185, 0.9047262708740185, 0.9047262708740185, 0.9047262708740185, 0.9047262708740185, 0.9047262708740185, 0.9047262708740185, 0.9047262708740185, 0.9047262708740185, 0.907572751813257, 0.907572751813257, 0.907572751813257, 0.907572751813257, 0.907572751813257, 0.907572751813257, 0.907572751813257]}], \"matthews_correlation\": [{\"categories\": [\"0\", \"1\", \"2\", \"3\", \"4\", \"5\", \"6\", \"7\", \"8\", \"9\", \"10\", \"11\", \"12\", \"13\", \"14\", \"15\", \"16\", \"17\", \"18\", \"19\", \"20\", \"21\", \"22\", \"23\", \"24\"], \"mode\": \"markers\", \"name\": \"matthews_correlation\", \"stepped\": false, \"type\": \"scatter\", \"data\": [0.7120281246807216, 0.6994120156206455, 0.6875666829218279, 0.7042053541307548, 0.6891878590923428, 0.7004138908540392, 0.6770992046257929, 0.6875666829218279, 0.7095084029854861, 0.6750119892626922, 0.6960172666755052, 0.6974299889674367, 0.6875666829218279, 0.6875666829218279, 0.7062182085855016, 0.6879519178176619, 0.6875666829218279, 0.6926062527600728, 0.7016550670567628, 0.6685915862644456, 0.6744353935578531, 0.5941412274687636, 0.6621806381128258, 0.7108917569627451, 0.6979848367688791]}, {\"categories\": [\"0\", \"1\", \"2\", \"3\", \"4\", \"5\", \"6\", \"7\", \"8\", \"9\", \"10\", \"11\", \"12\", \"13\", \"14\", \"15\", \"16\", \"17\", \"18\", \"19\", \"20\", \"21\", \"22\", \"23\", \"24\"], \"mode\": \"lines\", \"name\": \"matthews_correlation_max\", \"stepped\": true, \"type\": \"scatter\", \"data\": [0.7120281246807216, 0.7120281246807216, 0.7120281246807216, 0.7120281246807216, 0.7120281246807216, 0.7120281246807216, 0.7120281246807216, 0.7120281246807216, 0.7120281246807216, 0.7120281246807216, 0.7120281246807216, 0.7120281246807216, 0.7120281246807216, 0.7120281246807216, 0.7120281246807216, 0.7120281246807216, 0.7120281246807216, 0.7120281246807216, 0.7120281246807216, 0.7120281246807216, 0.7120281246807216, 0.7120281246807216, 0.7120281246807216, 0.7120281246807216, 0.7120281246807216]}], \"balanced_accuracy\": [{\"categories\": [\"0\", \"1\", \"2\", \"3\", \"4\", \"5\", \"6\", \"7\", \"8\", \"9\", \"10\", \"11\", \"12\", \"13\", \"14\", \"15\", \"16\", \"17\", \"18\", \"19\", \"20\", \"21\", \"22\", \"23\", \"24\"], \"mode\": \"markers\", \"name\": \"balanced_accuracy\", \"stepped\": false, \"type\": \"scatter\", \"data\": [0.850371206436957, 0.8405239281291471, 0.8394647874853932, 0.8416889360045372, 0.8378042780622552, 0.837340009692203, 0.826426603847134, 0.8394647874853932, 0.8449626481357153, 0.8251747493581458, 0.8381347061585134, 0.8331465136498148, 0.8394647874853932, 0.8394647874853932, 0.8429605980364137, 0.8408791815071304, 0.8394647874853932, 0.8364028745926453, 0.8398590581035184, 0.8312414469994569, 0.8379639025070734, 0.7786873306645733, 0.8186197641394813, 0.8437833514366576, 0.8390385547015695]}, {\"categories\": [\"0\", \"1\", \"2\", \"3\", \"4\", \"5\", \"6\", \"7\", \"8\", \"9\", \"10\", \"11\", \"12\", \"13\", \"14\", \"15\", \"16\", \"17\", \"18\", \"19\", \"20\", \"21\", \"22\", \"23\", \"24\"], \"mode\": \"lines\", \"name\": \"balanced_accuracy_max\", \"stepped\": true, \"type\": \"scatter\", \"data\": [0.850371206436957, 0.850371206436957, 0.850371206436957, 0.850371206436957, 0.850371206436957, 0.850371206436957, 0.850371206436957, 0.850371206436957, 0.850371206436957, 0.850371206436957, 0.850371206436957, 0.850371206436957, 0.850371206436957, 0.850371206436957, 0.850371206436957, 0.850371206436957, 0.850371206436957, 0.850371206436957, 0.850371206436957, 0.850371206436957, 0.850371206436957, 0.850371206436957, 0.850371206436957, 0.850371206436957, 0.850371206436957]}], \"precision_score_weighted\": [{\"categories\": [\"0\", \"1\", \"2\", \"3\", \"4\", \"5\", \"6\", \"7\", \"8\", \"9\", \"10\", \"11\", \"12\", \"13\", \"14\", \"15\", \"16\", \"17\", \"18\", \"19\", \"20\", \"21\", \"22\", \"23\", \"24\"], \"mode\": \"markers\", \"name\": \"precision_score_weighted\", \"stepped\": false, \"type\": \"scatter\", \"data\": [0.8658986986571083, 0.8609754322753916, 0.8542872015052798, 0.8635725216705228, 0.8558333113911007, 0.8626859187132565, 0.8515256819485855, 0.8542872015052798, 0.8659795169141025, 0.8515068264828094, 0.859447075592825, 0.8625064416864492, 0.8542872015052798, 0.8542872015052798, 0.8645753930361286, 0.8544412447763468, 0.8542872015052798, 0.8575373315803456, 0.8626122554116742, 0.8455247562132499, 0.8478997766333891, 0.8146319493006846, 0.8453088990710385, 0.8671705365905993, 0.860596501625942]}, {\"categories\": [\"0\", \"1\", \"2\", \"3\", \"4\", \"5\", \"6\", \"7\", \"8\", \"9\", \"10\", \"11\", \"12\", \"13\", \"14\", \"15\", \"16\", \"17\", \"18\", \"19\", \"20\", \"21\", \"22\", \"23\", \"24\"], \"mode\": \"lines\", \"name\": \"precision_score_weighted_max\", \"stepped\": true, \"type\": \"scatter\", \"data\": [0.8658986986571083, 0.8658986986571083, 0.8658986986571083, 0.8658986986571083, 0.8658986986571083, 0.8658986986571083, 0.8658986986571083, 0.8658986986571083, 0.8659795169141025, 0.8659795169141025, 0.8659795169141025, 0.8659795169141025, 0.8659795169141025, 0.8659795169141025, 0.8659795169141025, 0.8659795169141025, 0.8659795169141025, 0.8659795169141025, 0.8659795169141025, 0.8659795169141025, 0.8659795169141025, 0.8659795169141025, 0.8659795169141025, 0.8671705365905993, 0.8671705365905993]}], \"average_precision_score_macro\": [{\"categories\": [\"0\", \"1\", \"2\", \"3\", \"4\", \"5\", \"6\", \"7\", \"8\", \"9\", \"10\", \"11\", \"12\", \"13\", \"14\", \"15\", \"16\", \"17\", \"18\", \"19\", \"20\", \"21\", \"22\", \"23\", \"24\"], \"mode\": \"markers\", \"name\": \"average_precision_score_macro\", \"stepped\": false, \"type\": \"scatter\", \"data\": [0.8907184526470217, 0.8948315370820087, 0.8840878910165826, 0.8832038564131215, 0.8829925001858551, 0.8962518372613164, 0.9002097141674374, 0.8760048912812649, 0.8788228167331946, 0.8835808775985301, 0.8865187109653473, 0.8874205496378018, 0.8760048912812649, 0.8791421098184333, 0.8783624175378779, 0.8951564145542736, 0.8760048912812649, 0.8875306052494376, 0.9005643236479123, 0.8785053085992198, 0.8879735011960306, 0.8755467618317025, 0.8839502840466043, 0.8991496334606648, 0.8996113246963138]}, {\"categories\": [\"0\", \"1\", \"2\", \"3\", \"4\", \"5\", \"6\", \"7\", \"8\", \"9\", \"10\", \"11\", \"12\", \"13\", \"14\", \"15\", \"16\", \"17\", \"18\", \"19\", \"20\", \"21\", \"22\", \"23\", \"24\"], \"mode\": \"lines\", \"name\": \"average_precision_score_macro_max\", \"stepped\": true, \"type\": \"scatter\", \"data\": [0.8907184526470217, 0.8948315370820087, 0.8948315370820087, 0.8948315370820087, 0.8948315370820087, 0.8962518372613164, 0.9002097141674374, 0.9002097141674374, 0.9002097141674374, 0.9002097141674374, 0.9002097141674374, 0.9002097141674374, 0.9002097141674374, 0.9002097141674374, 0.9002097141674374, 0.9002097141674374, 0.9002097141674374, 0.9002097141674374, 0.9005643236479123, 0.9005643236479123, 0.9005643236479123, 0.9005643236479123, 0.9005643236479123, 0.9005643236479123, 0.9005643236479123]}], \"weighted_accuracy\": [{\"categories\": [\"0\", \"1\", \"2\", \"3\", \"4\", \"5\", \"6\", \"7\", \"8\", \"9\", \"10\", \"11\", \"12\", \"13\", \"14\", \"15\", \"16\", \"17\", \"18\", \"19\", \"20\", \"21\", \"22\", \"23\", \"24\"], \"mode\": \"markers\", \"name\": \"weighted_accuracy\", \"stepped\": false, \"type\": \"scatter\", \"data\": [0.8802392325841535, 0.8788494309253574, 0.8682913435277482, 0.8820738230460037, 0.8712213097578251, 0.8817376139929025, 0.8712654668070626, 0.8682913435277482, 0.8835658492055369, 0.8682384214938094, 0.8780833162796957, 0.8825191645659591, 0.8682913435277482, 0.8682913435277482, 0.8824583721264116, 0.8670051452774661, 0.8682913435277482, 0.8766234814643055, 0.8808717570810402, 0.8568260290938254, 0.8536362450359946, 0.8427581237833971, 0.8638249597382271, 0.8859893070595792, 0.878635702203646]}, {\"categories\": [\"0\", \"1\", \"2\", \"3\", \"4\", \"5\", \"6\", \"7\", \"8\", \"9\", \"10\", \"11\", \"12\", \"13\", \"14\", \"15\", \"16\", \"17\", \"18\", \"19\", \"20\", \"21\", \"22\", \"23\", \"24\"], \"mode\": \"lines\", \"name\": \"weighted_accuracy_max\", \"stepped\": true, \"type\": \"scatter\", \"data\": [0.8802392325841535, 0.8802392325841535, 0.8802392325841535, 0.8820738230460037, 0.8820738230460037, 0.8820738230460037, 0.8820738230460037, 0.8820738230460037, 0.8835658492055369, 0.8835658492055369, 0.8835658492055369, 0.8835658492055369, 0.8835658492055369, 0.8835658492055369, 0.8835658492055369, 0.8835658492055369, 0.8835658492055369, 0.8835658492055369, 0.8835658492055369, 0.8835658492055369, 0.8835658492055369, 0.8835658492055369, 0.8835658492055369, 0.8859893070595792, 0.8859893070595792]}], \"AUC_macro\": [{\"categories\": [\"0\", \"1\", \"2\", \"3\", \"4\", \"5\", \"6\", \"7\", \"8\", \"9\", \"10\", \"11\", \"12\", \"13\", \"14\", \"15\", \"16\", \"17\", \"18\", \"19\", \"20\", \"21\", \"22\", \"23\", \"24\"], \"mode\": \"markers\", \"name\": \"AUC_macro\", \"stepped\": false, \"type\": \"scatter\", \"data\": [0.894464806618027, 0.9026749092104079, 0.8929370351571556, 0.8953442666200722, 0.8939496173539538, 0.9041431430118936, 0.9047262708740186, 0.8820153336441342, 0.8876918315462039, 0.8906569650039846, 0.8954369153393511, 0.8970390041348872, 0.8820153336441342, 0.885639868791521, 0.893288340511558, 0.9002970270214936, 0.8820153336441342, 0.8966461565115189, 0.9075727518132569, 0.8895029512562346, 0.8969050160739298, 0.8851368943687092, 0.8897982434746099, 0.904151365699396, 0.9040939244999647]}, {\"categories\": [\"0\", \"1\", \"2\", \"3\", \"4\", \"5\", \"6\", \"7\", \"8\", \"9\", \"10\", \"11\", \"12\", \"13\", \"14\", \"15\", \"16\", \"17\", \"18\", \"19\", \"20\", \"21\", \"22\", \"23\", \"24\"], \"mode\": \"lines\", \"name\": \"AUC_macro_max\", \"stepped\": true, \"type\": \"scatter\", \"data\": [0.894464806618027, 0.9026749092104079, 0.9026749092104079, 0.9026749092104079, 0.9026749092104079, 0.9041431430118936, 0.9047262708740186, 0.9047262708740186, 0.9047262708740186, 0.9047262708740186, 0.9047262708740186, 0.9047262708740186, 0.9047262708740186, 0.9047262708740186, 0.9047262708740186, 0.9047262708740186, 0.9047262708740186, 0.9047262708740186, 0.9075727518132569, 0.9075727518132569, 0.9075727518132569, 0.9075727518132569, 0.9075727518132569, 0.9075727518132569, 0.9075727518132569]}], \"precision_score_macro\": [{\"categories\": [\"0\", \"1\", \"2\", \"3\", \"4\", \"5\", \"6\", \"7\", \"8\", \"9\", \"10\", \"11\", \"12\", \"13\", \"14\", \"15\", \"16\", \"17\", \"18\", \"19\", \"20\", \"21\", \"22\", \"23\", \"24\"], \"mode\": \"markers\", \"name\": \"precision_score_macro\", \"stepped\": false, \"type\": \"scatter\", \"data\": [0.8617812639809387, 0.8591837178219661, 0.8481922117562901, 0.8628978504783007, 0.8516256798188052, 0.8636502350158995, 0.8512215640462604, 0.8481922117562901, 0.8648835713695262, 0.8506429637889018, 0.8582036426646045, 0.8651596486899885, 0.8481922117562901, 0.8481922117562901, 0.8636300496300447, 0.8471397881632897, 0.8481922117562901, 0.8565439790179945, 0.8622636987650278, 0.837495783649989, 0.8365043552485829, 0.8168068168118947, 0.8443896910257538, 0.8675749951632481, 0.8593538134686441]}, {\"categories\": [\"0\", \"1\", \"2\", \"3\", \"4\", \"5\", \"6\", \"7\", \"8\", \"9\", \"10\", \"11\", \"12\", \"13\", \"14\", \"15\", \"16\", \"17\", \"18\", \"19\", \"20\", \"21\", \"22\", \"23\", \"24\"], \"mode\": \"lines\", \"name\": \"precision_score_macro_max\", \"stepped\": true, \"type\": \"scatter\", \"data\": [0.8617812639809387, 0.8617812639809387, 0.8617812639809387, 0.8628978504783007, 0.8628978504783007, 0.8636502350158995, 0.8636502350158995, 0.8636502350158995, 0.8648835713695262, 0.8648835713695262, 0.8648835713695262, 0.8651596486899885, 0.8651596486899885, 0.8651596486899885, 0.8651596486899885, 0.8651596486899885, 0.8651596486899885, 0.8651596486899885, 0.8651596486899885, 0.8651596486899885, 0.8651596486899885, 0.8651596486899885, 0.8651596486899885, 0.8675749951632481, 0.8675749951632481]}], \"recall_score_macro\": [{\"categories\": [\"0\", \"1\", \"2\", \"3\", \"4\", \"5\", \"6\", \"7\", \"8\", \"9\", \"10\", \"11\", \"12\", \"13\", \"14\", \"15\", \"16\", \"17\", \"18\", \"19\", \"20\", \"21\", \"22\", \"23\", \"24\"], \"mode\": \"markers\", \"name\": \"recall_score_macro\", \"stepped\": false, \"type\": \"scatter\", \"data\": [0.850371206436957, 0.8405239281291471, 0.8394647874853932, 0.8416889360045372, 0.8378042780622552, 0.837340009692203, 0.826426603847134, 0.8394647874853932, 0.8449626481357153, 0.8251747493581458, 0.8381347061585134, 0.8331465136498148, 0.8394647874853932, 0.8394647874853932, 0.8429605980364137, 0.8408791815071304, 0.8394647874853932, 0.8364028745926453, 0.8398590581035184, 0.8312414469994569, 0.8379639025070734, 0.7786873306645733, 0.8186197641394813, 0.8437833514366576, 0.8390385547015695]}, {\"categories\": [\"0\", \"1\", \"2\", \"3\", \"4\", \"5\", \"6\", \"7\", \"8\", \"9\", \"10\", \"11\", \"12\", \"13\", \"14\", \"15\", \"16\", \"17\", \"18\", \"19\", \"20\", \"21\", \"22\", \"23\", \"24\"], \"mode\": \"lines\", \"name\": \"recall_score_macro_max\", \"stepped\": true, \"type\": \"scatter\", \"data\": [0.850371206436957, 0.850371206436957, 0.850371206436957, 0.850371206436957, 0.850371206436957, 0.850371206436957, 0.850371206436957, 0.850371206436957, 0.850371206436957, 0.850371206436957, 0.850371206436957, 0.850371206436957, 0.850371206436957, 0.850371206436957, 0.850371206436957, 0.850371206436957, 0.850371206436957, 0.850371206436957, 0.850371206436957, 0.850371206436957, 0.850371206436957, 0.850371206436957, 0.850371206436957, 0.850371206436957, 0.850371206436957]}]}, \"metricName\": null, \"primaryMetricName\": \"accuracy\", \"showLegend\": false}, \"run_metrics\": [{\"name\": \"experiment_status\", \"run_id\": \"AutoML_185e2162-c1dd-4cfc-9492-52ecc1932188\", \"categories\": [0, 1, 2, 3, 4, 5, 6, 7, 8, 9, 10, 11], \"series\": [{\"data\": [\"DatasetEvaluation\", \"FeaturesGeneration\", \"DatasetFeaturization\", \"DatasetFeaturizationCompleted\", \"DatasetCrossValidationSplit\", \"ModelSelection\", \"BestRunExplainModel\", \"ModelExplanationDataSetSetup\", \"PickSurrogateModel\", \"EngineeredFeatureExplanations\", \"EngineeredFeatureExplanations\", \"RawFeaturesExplanations\"]}]}, {\"name\": \"experiment_status_description\", \"run_id\": \"AutoML_185e2162-c1dd-4cfc-9492-52ecc1932188\", \"categories\": [0, 1, 2, 3, 4, 5, 6, 7, 8, 9, 10, 11], \"series\": [{\"data\": [\"Gathering dataset statistics.\", \"Generating features for the dataset.\", \"Beginning to fit featurizers and featurize the dataset.\", \"Completed fit featurizers and featurizing the dataset.\", \"Generating individually featurized CV splits.\", \"Beginning model selection.\", \"Best run model explanations started\", \"Model explanations data setup completed\", \"Choosing LightGBM as the surrogate model for explanations\", \"Computation of engineered features started\", \"Computation of engineered features completed\", \"Computation of raw features started\"]}]}, {\"name\": \"average_precision_score_macro\", \"run_id\": \"AutoML_185e2162-c1dd-4cfc-9492-52ecc1932188\", \"categories\": [0], \"series\": [{\"data\": [0.8907184526470217]}]}, {\"name\": \"f1_score_weighted\", \"run_id\": \"AutoML_185e2162-c1dd-4cfc-9492-52ecc1932188\", \"categories\": [0], \"series\": [{\"data\": [0.8651763593372059]}]}, {\"name\": \"precision_score_macro\", \"run_id\": \"AutoML_185e2162-c1dd-4cfc-9492-52ecc1932188\", \"categories\": [0], \"series\": [{\"data\": [0.8617812639809387]}]}, {\"name\": \"accuracy\", \"run_id\": \"AutoML_185e2162-c1dd-4cfc-9492-52ecc1932188\", \"categories\": [0], \"series\": [{\"data\": [0.8662965242037742]}]}, {\"name\": \"norm_macro_recall\", \"run_id\": \"AutoML_185e2162-c1dd-4cfc-9492-52ecc1932188\", \"categories\": [0], \"series\": [{\"data\": [0.7007424128739139]}]}, {\"name\": \"precision_score_weighted\", \"run_id\": \"AutoML_185e2162-c1dd-4cfc-9492-52ecc1932188\", \"categories\": [0], \"series\": [{\"data\": [0.8658986986571083]}]}, {\"name\": \"recall_score_macro\", \"run_id\": \"AutoML_185e2162-c1dd-4cfc-9492-52ecc1932188\", \"categories\": [0], \"series\": [{\"data\": [0.850371206436957]}]}, {\"name\": \"AUC_weighted\", \"run_id\": \"AutoML_185e2162-c1dd-4cfc-9492-52ecc1932188\", \"categories\": [0], \"series\": [{\"data\": [0.894464806618027]}]}, {\"name\": \"average_precision_score_micro\", \"run_id\": \"AutoML_185e2162-c1dd-4cfc-9492-52ecc1932188\", \"categories\": [0], \"series\": [{\"data\": [0.9014020118541193]}]}, {\"name\": \"f1_score_macro\", \"run_id\": \"AutoML_185e2162-c1dd-4cfc-9492-52ecc1932188\", \"categories\": [0], \"series\": [{\"data\": [0.8550398544663596]}]}, {\"name\": \"precision_score_micro\", \"run_id\": \"AutoML_185e2162-c1dd-4cfc-9492-52ecc1932188\", \"categories\": [0], \"series\": [{\"data\": [0.8662965242037742]}]}, {\"name\": \"balanced_accuracy\", \"run_id\": \"AutoML_185e2162-c1dd-4cfc-9492-52ecc1932188\", \"categories\": [0], \"series\": [{\"data\": [0.850371206436957]}]}, {\"name\": \"recall_score_weighted\", \"run_id\": \"AutoML_185e2162-c1dd-4cfc-9492-52ecc1932188\", \"categories\": [0], \"series\": [{\"data\": [0.8662965242037742]}]}, {\"name\": \"AUC_micro\", \"run_id\": \"AutoML_185e2162-c1dd-4cfc-9492-52ecc1932188\", \"categories\": [0], \"series\": [{\"data\": [0.9117484218588792]}]}, {\"name\": \"average_precision_score_weighted\", \"run_id\": \"AutoML_185e2162-c1dd-4cfc-9492-52ecc1932188\", \"categories\": [0], \"series\": [{\"data\": [0.8935691159869874]}]}, {\"name\": \"AUC_macro\", \"run_id\": \"AutoML_185e2162-c1dd-4cfc-9492-52ecc1932188\", \"categories\": [0], \"series\": [{\"data\": [0.894464806618027]}]}, {\"name\": \"matthews_correlation\", \"run_id\": \"AutoML_185e2162-c1dd-4cfc-9492-52ecc1932188\", \"categories\": [0], \"series\": [{\"data\": [0.7120281246807216]}]}, {\"name\": \"weighted_accuracy\", \"run_id\": \"AutoML_185e2162-c1dd-4cfc-9492-52ecc1932188\", \"categories\": [0], \"series\": [{\"data\": [0.8802392325841535]}]}, {\"name\": \"log_loss\", \"run_id\": \"AutoML_185e2162-c1dd-4cfc-9492-52ecc1932188\", \"categories\": [0], \"series\": [{\"data\": [0.3822281740218023]}]}, {\"name\": \"recall_score_micro\", \"run_id\": \"AutoML_185e2162-c1dd-4cfc-9492-52ecc1932188\", \"categories\": [0], \"series\": [{\"data\": [0.8662965242037742]}]}, {\"name\": \"f1_score_micro\", \"run_id\": \"AutoML_185e2162-c1dd-4cfc-9492-52ecc1932188\", \"categories\": [0], \"series\": [{\"data\": [0.8662965242037742]}]}], \"run_logs\": \"\\nRun is completed.\", \"graph\": {}, \"widget_settings\": {\"childWidgetDisplay\": \"popup\", \"send_telemetry\": false, \"log_level\": \"INFO\", \"sdk_version\": \"1.36.0\"}, \"loading\": false}"
     },
     "metadata": {},
     "output_type": "display_data"
    }
   ],
   "source": [
    "from azureml.widgets import RunDetails\n",
    "RunDetails(remote_run).show()"
   ]
  },
  {
   "cell_type": "code",
   "execution_count": null,
   "id": "a4e87d18",
   "metadata": {},
   "outputs": [],
   "source": []
  }
 ],
 "metadata": {
  "kernelspec": {
   "display_name": "Python 3",
   "language": "python",
   "name": "python3"
  },
  "language_info": {
   "codemirror_mode": {
    "name": "ipython",
    "version": 3
   },
   "file_extension": ".py",
   "mimetype": "text/x-python",
   "name": "python",
   "nbconvert_exporter": "python",
   "pygments_lexer": "ipython3",
   "version": "3.6.13"
  }
 },
 "nbformat": 4,
 "nbformat_minor": 5
}
