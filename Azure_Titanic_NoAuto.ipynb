{
 "cells": [
  {
   "cell_type": "code",
   "execution_count": 1,
   "id": "3f51bc1f",
   "metadata": {},
   "outputs": [
    {
     "name": "stdout",
     "output_type": "stream",
     "text": [
      "SDK version: 1.35.0\n"
     ]
    }
   ],
   "source": [
    "import os\n",
    "import azureml.core\n",
    "from azureml.core import Workspace, Experiment, Datastore\n",
    "from azureml.widgets import RunDetails\n",
    " \n",
    "from azureml.core import Dataset\n",
    " \n",
    "from azureml.pipeline.core import Pipeline, PipelineData\n",
    "from azureml.pipeline.core import PipelineRun, StepRun, PortDataReference\n",
    "from azureml.pipeline.steps import PythonScriptStep\n",
    " \n",
    "from azureml.core.compute import ComputeTarget, AmlCompute\n",
    "from azureml.core.compute_target import ComputeTargetException\n",
    " \n",
    "from azureml.core.runconfig import RunConfiguration\n",
    "from azureml.core.conda_dependencies import CondaDependencies\n",
    " \n",
    "from azureml.core.model import Model\n",
    " \n",
    "# Check core SDK version number\n",
    "print(\"SDK version:\", azureml.core.VERSION)"
   ]
  },
  {
   "cell_type": "code",
   "execution_count": 2,
   "id": "742fc2ba",
   "metadata": {},
   "outputs": [],
   "source": [
    "ws = Workspace.from_config()"
   ]
  },
  {
   "cell_type": "code",
   "execution_count": 3,
   "id": "f20d4141",
   "metadata": {},
   "outputs": [
    {
     "data": {
      "text/plain": [
       "Workspace.create(name='mdl_ml_ops', subscription_id='d674bf87-325c-409a-a63f-001d9725b99e', resource_group='mdl_ml_pipeline')"
      ]
     },
     "execution_count": 3,
     "metadata": {},
     "output_type": "execute_result"
    }
   ],
   "source": [
    "ws"
   ]
  },
  {
   "cell_type": "code",
   "execution_count": 4,
   "id": "7196c450",
   "metadata": {},
   "outputs": [],
   "source": [
    "def_blob_store = ws.get_default_datastore() "
   ]
  },
  {
   "cell_type": "code",
   "execution_count": 5,
   "id": "846bf9d6",
   "metadata": {},
   "outputs": [],
   "source": [
    "################################################\n",
    "#### MUST BE RUN THE FIRST TIME YOU DO THIS ####\n",
    "#### but only needs to be run once          ####\n",
    "################################################\n",
    "\n",
    "#def_blob_store.upload_files([\"./data/titanic.csv\"], target_path=\"data\", overwrite=True)"
   ]
  },
  {
   "cell_type": "code",
   "execution_count": 6,
   "id": "4bf748e5",
   "metadata": {},
   "outputs": [],
   "source": [
    "compute_name = 'cpu-cluster'\n",
    "if not compute_name in ws.compute_targets :\n",
    "    print('creating a new compute target...')\n",
    "    provisioning_config = AmlCompute.provisioning_configuration(vm_size='STANDARD_D2_V2',\n",
    "                                                                min_nodes=0,\n",
    "                                                                max_nodes=1)\n",
    "    compute_target = ComputeTarget.create(ws, compute_name, provisioning_config)\n",
    "\n",
    "    compute_target.wait_for_completion(\n",
    "        show_output=True, min_node_count=None, timeout_in_minutes=20)\n",
    "\n",
    "    # Show the result\n",
    "    print(compute_target.get_status().serialize())\n",
    "\n",
    "compute_target = ws.compute_targets[compute_name]"
   ]
  },
  {
   "cell_type": "code",
   "execution_count": 7,
   "id": "f1fa9bd7",
   "metadata": {},
   "outputs": [
    {
     "name": "stderr",
     "output_type": "stream",
     "text": [
      "'enabled' is deprecated. Please use the azureml.core.runconfig.DockerConfiguration object with the 'use_docker' param instead.\n"
     ]
    }
   ],
   "source": [
    "aml_run_config = RunConfiguration()\n",
    " \n",
    "aml_run_config.target = compute_target\n",
    "aml_run_config.environment.docker.enabled = True\n",
    "aml_run_config.environment.docker.base_image = \"mcr.microsoft.com/azureml/base:latest\"\n",
    " \n",
    "aml_run_config.environment.python.user_managed_dependencies = False\n",
    " \n",
    "aml_run_config.environment.python.conda_dependencies = CondaDependencies.create(\n",
    "    conda_packages=['pandas','scikit-learn','numpy'], \n",
    "    pip_packages=['joblib','azureml-sdk','fusepy'], \n",
    "    pin_sdk_version=False)"
   ]
  },
  {
   "cell_type": "code",
   "execution_count": 8,
   "id": "47d399d6",
   "metadata": {},
   "outputs": [],
   "source": [
    "titanic_data = Dataset.Tabular.from_delimited_files(def_blob_store.path('./data/titanic.csv'))\n",
    "titanic_data = titanic_data.register(ws, 'titanic_data')"
   ]
  },
  {
   "cell_type": "code",
   "execution_count": 9,
   "id": "982d7428",
   "metadata": {},
   "outputs": [],
   "source": [
    "raw_data = titanic_data.as_named_input('raw_data')\n",
    "train_data = PipelineData(\"train_data\", datastore=def_blob_store).as_dataset()\n",
    "test_data = PipelineData(\"test_data\", datastore=def_blob_store).as_dataset()\n",
    "scaler_file = PipelineData(\"scaler_file\", datastore=def_blob_store)\n",
    "model_file = PipelineData(\"model_file\", datastore=def_blob_store)"
   ]
  },
  {
   "cell_type": "code",
   "execution_count": 10,
   "id": "2afae32f",
   "metadata": {},
   "outputs": [],
   "source": [
    "source_directory=\"./prep\"\n",
    "step1 = PythonScriptStep(name=\"prep_step\",\n",
    "                         script_name=\"./prep.py\", \n",
    "                         arguments=[\"--train\", train_data,\"--test\", test_data,\"--scaler\",scaler_file],\n",
    "                         inputs=[raw_data],\n",
    "                         outputs=[train_data,test_data,scaler_file],                         \n",
    "                         compute_target=compute_target, \n",
    "                         runconfig=aml_run_config,\n",
    "                         source_directory=source_directory,\n",
    "                         allow_reuse=True)"
   ]
  },
  {
   "cell_type": "code",
   "execution_count": 11,
   "id": "0d08e679",
   "metadata": {},
   "outputs": [],
   "source": [
    "source_directory=\"./train\"\n",
    "step2 = PythonScriptStep(name=\"train_step\",\n",
    "                         script_name=\"./train.py\", \n",
    "                         arguments=[\"--train\", train_data,\"--test\", test_data,\"--model\",model_file],\n",
    "                         inputs=[train_data,test_data],\n",
    "                         outputs=[model_file],                         \n",
    "                         compute_target=compute_target, \n",
    "                         runconfig=aml_run_config,\n",
    "                         source_directory=source_directory,\n",
    "                         allow_reuse=True)"
   ]
  },
  {
   "cell_type": "code",
   "execution_count": 12,
   "id": "c2fd6f21",
   "metadata": {},
   "outputs": [],
   "source": [
    "steps = [step1,step2]"
   ]
  },
  {
   "cell_type": "code",
   "execution_count": 13,
   "id": "c5c07dbf",
   "metadata": {},
   "outputs": [],
   "source": [
    "pipeline1 = Pipeline(workspace=ws, steps=steps)"
   ]
  },
  {
   "cell_type": "code",
   "execution_count": 14,
   "id": "a0c403ef",
   "metadata": {},
   "outputs": [
    {
     "name": "stdout",
     "output_type": "stream",
     "text": [
      "Created step prep_step [fc82b569][130cadb3-d374-4441-a125-235a66d39462], (This step is eligible to reuse a previous run's output)\n",
      "Created step train_step [88626030][6301bac3-2afa-4d6a-9755-2e44efed19cc], (This step will run and generate new outputs)\n",
      "Submitted PipelineRun 2995f5bb-0d98-4128-8311-2497448215c6\n",
      "Link to Azure Machine Learning Portal: https://ml.azure.com/runs/2995f5bb-0d98-4128-8311-2497448215c6?wsid=/subscriptions/d674bf87-325c-409a-a63f-001d9725b99e/resourcegroups/mdl_ml_pipeline/workspaces/mdl_ml_ops&tid=83b02c92-5f26-48ed-9e5b-6c2fca46a8e6\n"
     ]
    }
   ],
   "source": [
    "pipeline_run1 = Experiment(ws, 'titanic_no_auto').submit(pipeline1, regenerate_outputs=False)"
   ]
  },
  {
   "cell_type": "code",
   "execution_count": null,
   "id": "36c8a551",
   "metadata": {},
   "outputs": [],
   "source": []
  }
 ],
 "metadata": {
  "kernelspec": {
   "display_name": "Python 3",
   "language": "python",
   "name": "python3"
  },
  "language_info": {
   "codemirror_mode": {
    "name": "ipython",
    "version": 3
   },
   "file_extension": ".py",
   "mimetype": "text/x-python",
   "name": "python",
   "nbconvert_exporter": "python",
   "pygments_lexer": "ipython3",
   "version": "3.6.8"
  }
 },
 "nbformat": 4,
 "nbformat_minor": 5
}
